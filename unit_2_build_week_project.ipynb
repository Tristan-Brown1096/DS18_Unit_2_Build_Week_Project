{
  "nbformat": 4,
  "nbformat_minor": 0,
  "metadata": {
    "colab": {
      "name": "unit_2_build_week_project.ipynb",
      "provenance": [],
      "toc_visible": true,
      "authorship_tag": "ABX9TyNko28+ZYl6Kdtzg+AdAvQT",
      "include_colab_link": true
    },
    "kernelspec": {
      "name": "python3",
      "display_name": "Python 3"
    }
  },
  "cells": [
    {
      "cell_type": "markdown",
      "metadata": {
        "id": "view-in-github",
        "colab_type": "text"
      },
      "source": [
        "<a href=\"https://colab.research.google.com/github/Tristan-Brown1096/DS18_Unit_2_Build_Week_Project/blob/master/unit_2_build_week_project.ipynb\" target=\"_parent\"><img src=\"https://colab.research.google.com/assets/colab-badge.svg\" alt=\"Open In Colab\"/></a>"
      ]
    },
    {
      "cell_type": "markdown",
      "metadata": {
        "id": "6nqhTRqgU5It",
        "colab_type": "text"
      },
      "source": [
        "#Data wrangling"
      ]
    },
    {
      "cell_type": "code",
      "metadata": {
        "id": "6vb91nqeUBlm",
        "colab_type": "code",
        "colab": {}
      },
      "source": [
        "import pandas as pd\n",
        "import numpy as np\n",
        "!pip install category_encoders==2.*\n",
        "!pip install pandas-profiling==2.*"
      ],
      "execution_count": null,
      "outputs": []
    },
    {
      "cell_type": "code",
      "metadata": {
        "id": "pE-j9psgTyeY",
        "colab_type": "code",
        "colab": {}
      },
      "source": [
        "df = pd.read_csv('https://raw.githubusercontent.com/Tristan-Brown1096/DS18_Unit_2_Build_Week_Project/master/data/cbb.csv')"
      ],
      "execution_count": 2,
      "outputs": []
    },
    {
      "cell_type": "code",
      "metadata": {
        "id": "Nsd71PbPUFti",
        "colab_type": "code",
        "colab": {
          "base_uri": "https://localhost:8080/",
          "height": 204
        },
        "outputId": "201261c4-da98-42b8-8693-4e27aea9ff7f"
      },
      "source": [
        "df.head()"
      ],
      "execution_count": null,
      "outputs": [
        {
          "output_type": "execute_result",
          "data": {
            "text/html": [
              "<div>\n",
              "<style scoped>\n",
              "    .dataframe tbody tr th:only-of-type {\n",
              "        vertical-align: middle;\n",
              "    }\n",
              "\n",
              "    .dataframe tbody tr th {\n",
              "        vertical-align: top;\n",
              "    }\n",
              "\n",
              "    .dataframe thead th {\n",
              "        text-align: right;\n",
              "    }\n",
              "</style>\n",
              "<table border=\"1\" class=\"dataframe\">\n",
              "  <thead>\n",
              "    <tr style=\"text-align: right;\">\n",
              "      <th></th>\n",
              "      <th>Unnamed: 0</th>\n",
              "      <th>Unnamed: 0.1</th>\n",
              "      <th>TEAM</th>\n",
              "      <th>CONF</th>\n",
              "      <th>G</th>\n",
              "      <th>W</th>\n",
              "      <th>ADJOE</th>\n",
              "      <th>ADJDE</th>\n",
              "      <th>BARTHAG</th>\n",
              "      <th>EFG_O</th>\n",
              "      <th>EFG_D</th>\n",
              "      <th>TOR</th>\n",
              "      <th>TORD</th>\n",
              "      <th>ORB</th>\n",
              "      <th>DRB</th>\n",
              "      <th>FTR</th>\n",
              "      <th>FTRD</th>\n",
              "      <th>2P_O</th>\n",
              "      <th>2P_D</th>\n",
              "      <th>3P_O</th>\n",
              "      <th>3P_D</th>\n",
              "      <th>ADJ_T</th>\n",
              "      <th>WAB</th>\n",
              "      <th>POSTSEASON</th>\n",
              "      <th>SEED</th>\n",
              "      <th>YEAR</th>\n",
              "    </tr>\n",
              "  </thead>\n",
              "  <tbody>\n",
              "    <tr>\n",
              "      <th>0</th>\n",
              "      <td>0</td>\n",
              "      <td>0.0</td>\n",
              "      <td>North Carolina</td>\n",
              "      <td>ACC</td>\n",
              "      <td>40</td>\n",
              "      <td>33</td>\n",
              "      <td>123.3</td>\n",
              "      <td>94.9</td>\n",
              "      <td>0.9531</td>\n",
              "      <td>52.6</td>\n",
              "      <td>48.1</td>\n",
              "      <td>15.4</td>\n",
              "      <td>18.2</td>\n",
              "      <td>40.7</td>\n",
              "      <td>30.0</td>\n",
              "      <td>32.3</td>\n",
              "      <td>30.4</td>\n",
              "      <td>53.9</td>\n",
              "      <td>44.6</td>\n",
              "      <td>32.7</td>\n",
              "      <td>36.2</td>\n",
              "      <td>71.7</td>\n",
              "      <td>8.6</td>\n",
              "      <td>2ND</td>\n",
              "      <td>1.0</td>\n",
              "      <td>2016</td>\n",
              "    </tr>\n",
              "    <tr>\n",
              "      <th>1</th>\n",
              "      <td>1</td>\n",
              "      <td>1.0</td>\n",
              "      <td>Wisconsin</td>\n",
              "      <td>B10</td>\n",
              "      <td>40</td>\n",
              "      <td>36</td>\n",
              "      <td>129.1</td>\n",
              "      <td>93.6</td>\n",
              "      <td>0.9758</td>\n",
              "      <td>54.8</td>\n",
              "      <td>47.7</td>\n",
              "      <td>12.4</td>\n",
              "      <td>15.8</td>\n",
              "      <td>32.1</td>\n",
              "      <td>23.7</td>\n",
              "      <td>36.2</td>\n",
              "      <td>22.4</td>\n",
              "      <td>54.8</td>\n",
              "      <td>44.7</td>\n",
              "      <td>36.5</td>\n",
              "      <td>37.5</td>\n",
              "      <td>59.3</td>\n",
              "      <td>11.3</td>\n",
              "      <td>2ND</td>\n",
              "      <td>1.0</td>\n",
              "      <td>2015</td>\n",
              "    </tr>\n",
              "    <tr>\n",
              "      <th>2</th>\n",
              "      <td>2</td>\n",
              "      <td>2.0</td>\n",
              "      <td>Michigan</td>\n",
              "      <td>B10</td>\n",
              "      <td>40</td>\n",
              "      <td>33</td>\n",
              "      <td>114.4</td>\n",
              "      <td>90.4</td>\n",
              "      <td>0.9375</td>\n",
              "      <td>53.9</td>\n",
              "      <td>47.7</td>\n",
              "      <td>14.0</td>\n",
              "      <td>19.5</td>\n",
              "      <td>25.5</td>\n",
              "      <td>24.9</td>\n",
              "      <td>30.7</td>\n",
              "      <td>30.0</td>\n",
              "      <td>54.7</td>\n",
              "      <td>46.8</td>\n",
              "      <td>35.2</td>\n",
              "      <td>33.2</td>\n",
              "      <td>65.9</td>\n",
              "      <td>6.9</td>\n",
              "      <td>2ND</td>\n",
              "      <td>3.0</td>\n",
              "      <td>2018</td>\n",
              "    </tr>\n",
              "    <tr>\n",
              "      <th>3</th>\n",
              "      <td>3</td>\n",
              "      <td>3.0</td>\n",
              "      <td>Texas Tech</td>\n",
              "      <td>B12</td>\n",
              "      <td>38</td>\n",
              "      <td>31</td>\n",
              "      <td>115.2</td>\n",
              "      <td>85.2</td>\n",
              "      <td>0.9696</td>\n",
              "      <td>53.5</td>\n",
              "      <td>43.0</td>\n",
              "      <td>17.7</td>\n",
              "      <td>22.8</td>\n",
              "      <td>27.4</td>\n",
              "      <td>28.7</td>\n",
              "      <td>32.9</td>\n",
              "      <td>36.6</td>\n",
              "      <td>52.8</td>\n",
              "      <td>41.9</td>\n",
              "      <td>36.5</td>\n",
              "      <td>29.7</td>\n",
              "      <td>67.5</td>\n",
              "      <td>7.0</td>\n",
              "      <td>2ND</td>\n",
              "      <td>3.0</td>\n",
              "      <td>2019</td>\n",
              "    </tr>\n",
              "    <tr>\n",
              "      <th>4</th>\n",
              "      <td>4</td>\n",
              "      <td>4.0</td>\n",
              "      <td>Gonzaga</td>\n",
              "      <td>WCC</td>\n",
              "      <td>39</td>\n",
              "      <td>37</td>\n",
              "      <td>117.8</td>\n",
              "      <td>86.3</td>\n",
              "      <td>0.9728</td>\n",
              "      <td>56.6</td>\n",
              "      <td>41.1</td>\n",
              "      <td>16.2</td>\n",
              "      <td>17.1</td>\n",
              "      <td>30.0</td>\n",
              "      <td>26.2</td>\n",
              "      <td>39.0</td>\n",
              "      <td>26.9</td>\n",
              "      <td>56.3</td>\n",
              "      <td>40.0</td>\n",
              "      <td>38.2</td>\n",
              "      <td>29.0</td>\n",
              "      <td>71.5</td>\n",
              "      <td>7.7</td>\n",
              "      <td>2ND</td>\n",
              "      <td>1.0</td>\n",
              "      <td>2017</td>\n",
              "    </tr>\n",
              "  </tbody>\n",
              "</table>\n",
              "</div>"
            ],
            "text/plain": [
              "   Unnamed: 0  Unnamed: 0.1            TEAM CONF  ...   WAB POSTSEASON  SEED  YEAR\n",
              "0           0           0.0  North Carolina  ACC  ...   8.6        2ND   1.0  2016\n",
              "1           1           1.0       Wisconsin  B10  ...  11.3        2ND   1.0  2015\n",
              "2           2           2.0        Michigan  B10  ...   6.9        2ND   3.0  2018\n",
              "3           3           3.0      Texas Tech  B12  ...   7.0        2ND   3.0  2019\n",
              "4           4           4.0         Gonzaga  WCC  ...   7.7        2ND   1.0  2017\n",
              "\n",
              "[5 rows x 26 columns]"
            ]
          },
          "metadata": {
            "tags": []
          },
          "execution_count": 3
        }
      ]
    },
    {
      "cell_type": "code",
      "metadata": {
        "id": "dx2efQNqgulK",
        "colab_type": "code",
        "colab": {}
      },
      "source": [
        "df.TEAM = [team.replace(' ', '') for team in df.TEAM]"
      ],
      "execution_count": 3,
      "outputs": []
    },
    {
      "cell_type": "code",
      "metadata": {
        "id": "YdyBhJQ5MdWO",
        "colab_type": "code",
        "colab": {}
      },
      "source": [
        "train = df[df['YEAR'] <= 2017]\n",
        "val = df[df['YEAR'] == 2018]\n",
        "test = df[df['YEAR'] == 2019]"
      ],
      "execution_count": 4,
      "outputs": []
    },
    {
      "cell_type": "code",
      "metadata": {
        "id": "k7Yb7RhQV-Yx",
        "colab_type": "code",
        "colab": {
          "base_uri": "https://localhost:8080/",
          "height": 323
        },
        "outputId": "4916fea3-85b9-4634-ee81-17fb33386353"
      },
      "source": [
        "train['YEAR'] = train['YEAR'].astype(str)\n",
        "val['YEAR'] = val['YEAR'].astype(str)\n",
        "test['YEAR'] = test['YEAR'].astype(str)"
      ],
      "execution_count": 5,
      "outputs": [
        {
          "output_type": "stream",
          "text": [
            "/usr/local/lib/python3.6/dist-packages/ipykernel_launcher.py:1: SettingWithCopyWarning: \n",
            "A value is trying to be set on a copy of a slice from a DataFrame.\n",
            "Try using .loc[row_indexer,col_indexer] = value instead\n",
            "\n",
            "See the caveats in the documentation: https://pandas.pydata.org/pandas-docs/stable/user_guide/indexing.html#returning-a-view-versus-a-copy\n",
            "  \"\"\"Entry point for launching an IPython kernel.\n",
            "/usr/local/lib/python3.6/dist-packages/ipykernel_launcher.py:2: SettingWithCopyWarning: \n",
            "A value is trying to be set on a copy of a slice from a DataFrame.\n",
            "Try using .loc[row_indexer,col_indexer] = value instead\n",
            "\n",
            "See the caveats in the documentation: https://pandas.pydata.org/pandas-docs/stable/user_guide/indexing.html#returning-a-view-versus-a-copy\n",
            "  \n",
            "/usr/local/lib/python3.6/dist-packages/ipykernel_launcher.py:3: SettingWithCopyWarning: \n",
            "A value is trying to be set on a copy of a slice from a DataFrame.\n",
            "Try using .loc[row_indexer,col_indexer] = value instead\n",
            "\n",
            "See the caveats in the documentation: https://pandas.pydata.org/pandas-docs/stable/user_guide/indexing.html#returning-a-view-versus-a-copy\n",
            "  This is separate from the ipykernel package so we can avoid doing imports until\n"
          ],
          "name": "stderr"
        }
      ]
    },
    {
      "cell_type": "code",
      "metadata": {
        "id": "ZV2lOuX3WS4p",
        "colab_type": "code",
        "colab": {
          "base_uri": "https://localhost:8080/",
          "height": 323
        },
        "outputId": "771e1eca-fde4-4a0f-9106-669c01ef8789"
      },
      "source": [
        "train['ID'] = train.TEAM + train.YEAR\n",
        "val['ID'] = val.TEAM + val.YEAR\n",
        "test['ID'] = test.TEAM + test.YEAR"
      ],
      "execution_count": 6,
      "outputs": [
        {
          "output_type": "stream",
          "text": [
            "/usr/local/lib/python3.6/dist-packages/ipykernel_launcher.py:1: SettingWithCopyWarning: \n",
            "A value is trying to be set on a copy of a slice from a DataFrame.\n",
            "Try using .loc[row_indexer,col_indexer] = value instead\n",
            "\n",
            "See the caveats in the documentation: https://pandas.pydata.org/pandas-docs/stable/user_guide/indexing.html#returning-a-view-versus-a-copy\n",
            "  \"\"\"Entry point for launching an IPython kernel.\n",
            "/usr/local/lib/python3.6/dist-packages/ipykernel_launcher.py:2: SettingWithCopyWarning: \n",
            "A value is trying to be set on a copy of a slice from a DataFrame.\n",
            "Try using .loc[row_indexer,col_indexer] = value instead\n",
            "\n",
            "See the caveats in the documentation: https://pandas.pydata.org/pandas-docs/stable/user_guide/indexing.html#returning-a-view-versus-a-copy\n",
            "  \n",
            "/usr/local/lib/python3.6/dist-packages/ipykernel_launcher.py:3: SettingWithCopyWarning: \n",
            "A value is trying to be set on a copy of a slice from a DataFrame.\n",
            "Try using .loc[row_indexer,col_indexer] = value instead\n",
            "\n",
            "See the caveats in the documentation: https://pandas.pydata.org/pandas-docs/stable/user_guide/indexing.html#returning-a-view-versus-a-copy\n",
            "  This is separate from the ipykernel package so we can avoid doing imports until\n"
          ],
          "name": "stderr"
        }
      ]
    },
    {
      "cell_type": "code",
      "metadata": {
        "id": "Rnep8cBLX_Xl",
        "colab_type": "code",
        "colab": {}
      },
      "source": [
        "train = train.set_index('ID')\n",
        "val = val.set_index('ID')\n",
        "test = test.set_index('ID')"
      ],
      "execution_count": 7,
      "outputs": []
    },
    {
      "cell_type": "code",
      "metadata": {
        "id": "z72L2BBqYG-J",
        "colab_type": "code",
        "colab": {
          "base_uri": "https://localhost:8080/",
          "height": 235
        },
        "outputId": "fbe72580-1ece-43f0-de8b-c90ad30c2987"
      },
      "source": [
        "train.head()"
      ],
      "execution_count": null,
      "outputs": [
        {
          "output_type": "execute_result",
          "data": {
            "text/html": [
              "<div>\n",
              "<style scoped>\n",
              "    .dataframe tbody tr th:only-of-type {\n",
              "        vertical-align: middle;\n",
              "    }\n",
              "\n",
              "    .dataframe tbody tr th {\n",
              "        vertical-align: top;\n",
              "    }\n",
              "\n",
              "    .dataframe thead th {\n",
              "        text-align: right;\n",
              "    }\n",
              "</style>\n",
              "<table border=\"1\" class=\"dataframe\">\n",
              "  <thead>\n",
              "    <tr style=\"text-align: right;\">\n",
              "      <th></th>\n",
              "      <th>Unnamed: 0</th>\n",
              "      <th>Unnamed: 0.1</th>\n",
              "      <th>TEAM</th>\n",
              "      <th>CONF</th>\n",
              "      <th>G</th>\n",
              "      <th>W</th>\n",
              "      <th>ADJOE</th>\n",
              "      <th>ADJDE</th>\n",
              "      <th>BARTHAG</th>\n",
              "      <th>EFG_O</th>\n",
              "      <th>EFG_D</th>\n",
              "      <th>TOR</th>\n",
              "      <th>TORD</th>\n",
              "      <th>ORB</th>\n",
              "      <th>DRB</th>\n",
              "      <th>FTR</th>\n",
              "      <th>FTRD</th>\n",
              "      <th>2P_O</th>\n",
              "      <th>2P_D</th>\n",
              "      <th>3P_O</th>\n",
              "      <th>3P_D</th>\n",
              "      <th>ADJ_T</th>\n",
              "      <th>WAB</th>\n",
              "      <th>POSTSEASON</th>\n",
              "      <th>SEED</th>\n",
              "      <th>YEAR</th>\n",
              "    </tr>\n",
              "    <tr>\n",
              "      <th>ID</th>\n",
              "      <th></th>\n",
              "      <th></th>\n",
              "      <th></th>\n",
              "      <th></th>\n",
              "      <th></th>\n",
              "      <th></th>\n",
              "      <th></th>\n",
              "      <th></th>\n",
              "      <th></th>\n",
              "      <th></th>\n",
              "      <th></th>\n",
              "      <th></th>\n",
              "      <th></th>\n",
              "      <th></th>\n",
              "      <th></th>\n",
              "      <th></th>\n",
              "      <th></th>\n",
              "      <th></th>\n",
              "      <th></th>\n",
              "      <th></th>\n",
              "      <th></th>\n",
              "      <th></th>\n",
              "      <th></th>\n",
              "      <th></th>\n",
              "      <th></th>\n",
              "      <th></th>\n",
              "    </tr>\n",
              "  </thead>\n",
              "  <tbody>\n",
              "    <tr>\n",
              "      <th>NorthCarolina2016</th>\n",
              "      <td>0</td>\n",
              "      <td>0.0</td>\n",
              "      <td>NorthCarolina</td>\n",
              "      <td>ACC</td>\n",
              "      <td>40</td>\n",
              "      <td>33</td>\n",
              "      <td>123.3</td>\n",
              "      <td>94.9</td>\n",
              "      <td>0.9531</td>\n",
              "      <td>52.6</td>\n",
              "      <td>48.1</td>\n",
              "      <td>15.4</td>\n",
              "      <td>18.2</td>\n",
              "      <td>40.7</td>\n",
              "      <td>30.0</td>\n",
              "      <td>32.3</td>\n",
              "      <td>30.4</td>\n",
              "      <td>53.9</td>\n",
              "      <td>44.6</td>\n",
              "      <td>32.7</td>\n",
              "      <td>36.2</td>\n",
              "      <td>71.7</td>\n",
              "      <td>8.6</td>\n",
              "      <td>2ND</td>\n",
              "      <td>1.0</td>\n",
              "      <td>2016</td>\n",
              "    </tr>\n",
              "    <tr>\n",
              "      <th>Wisconsin2015</th>\n",
              "      <td>1</td>\n",
              "      <td>1.0</td>\n",
              "      <td>Wisconsin</td>\n",
              "      <td>B10</td>\n",
              "      <td>40</td>\n",
              "      <td>36</td>\n",
              "      <td>129.1</td>\n",
              "      <td>93.6</td>\n",
              "      <td>0.9758</td>\n",
              "      <td>54.8</td>\n",
              "      <td>47.7</td>\n",
              "      <td>12.4</td>\n",
              "      <td>15.8</td>\n",
              "      <td>32.1</td>\n",
              "      <td>23.7</td>\n",
              "      <td>36.2</td>\n",
              "      <td>22.4</td>\n",
              "      <td>54.8</td>\n",
              "      <td>44.7</td>\n",
              "      <td>36.5</td>\n",
              "      <td>37.5</td>\n",
              "      <td>59.3</td>\n",
              "      <td>11.3</td>\n",
              "      <td>2ND</td>\n",
              "      <td>1.0</td>\n",
              "      <td>2015</td>\n",
              "    </tr>\n",
              "    <tr>\n",
              "      <th>Gonzaga2017</th>\n",
              "      <td>4</td>\n",
              "      <td>4.0</td>\n",
              "      <td>Gonzaga</td>\n",
              "      <td>WCC</td>\n",
              "      <td>39</td>\n",
              "      <td>37</td>\n",
              "      <td>117.8</td>\n",
              "      <td>86.3</td>\n",
              "      <td>0.9728</td>\n",
              "      <td>56.6</td>\n",
              "      <td>41.1</td>\n",
              "      <td>16.2</td>\n",
              "      <td>17.1</td>\n",
              "      <td>30.0</td>\n",
              "      <td>26.2</td>\n",
              "      <td>39.0</td>\n",
              "      <td>26.9</td>\n",
              "      <td>56.3</td>\n",
              "      <td>40.0</td>\n",
              "      <td>38.2</td>\n",
              "      <td>29.0</td>\n",
              "      <td>71.5</td>\n",
              "      <td>7.7</td>\n",
              "      <td>2ND</td>\n",
              "      <td>1.0</td>\n",
              "      <td>2017</td>\n",
              "    </tr>\n",
              "    <tr>\n",
              "      <th>Duke2015</th>\n",
              "      <td>5</td>\n",
              "      <td>5.0</td>\n",
              "      <td>Duke</td>\n",
              "      <td>ACC</td>\n",
              "      <td>39</td>\n",
              "      <td>35</td>\n",
              "      <td>125.2</td>\n",
              "      <td>90.6</td>\n",
              "      <td>0.9764</td>\n",
              "      <td>56.6</td>\n",
              "      <td>46.5</td>\n",
              "      <td>16.3</td>\n",
              "      <td>18.6</td>\n",
              "      <td>35.8</td>\n",
              "      <td>30.2</td>\n",
              "      <td>39.8</td>\n",
              "      <td>23.9</td>\n",
              "      <td>55.9</td>\n",
              "      <td>46.3</td>\n",
              "      <td>38.7</td>\n",
              "      <td>31.4</td>\n",
              "      <td>66.4</td>\n",
              "      <td>10.7</td>\n",
              "      <td>Champions</td>\n",
              "      <td>1.0</td>\n",
              "      <td>2015</td>\n",
              "    </tr>\n",
              "    <tr>\n",
              "      <th>NorthCarolina2017</th>\n",
              "      <td>7</td>\n",
              "      <td>7.0</td>\n",
              "      <td>NorthCarolina</td>\n",
              "      <td>ACC</td>\n",
              "      <td>39</td>\n",
              "      <td>33</td>\n",
              "      <td>121.0</td>\n",
              "      <td>91.5</td>\n",
              "      <td>0.9615</td>\n",
              "      <td>51.7</td>\n",
              "      <td>48.1</td>\n",
              "      <td>16.2</td>\n",
              "      <td>18.6</td>\n",
              "      <td>41.3</td>\n",
              "      <td>25.0</td>\n",
              "      <td>34.3</td>\n",
              "      <td>31.6</td>\n",
              "      <td>51.0</td>\n",
              "      <td>46.3</td>\n",
              "      <td>35.5</td>\n",
              "      <td>33.9</td>\n",
              "      <td>72.8</td>\n",
              "      <td>8.4</td>\n",
              "      <td>Champions</td>\n",
              "      <td>1.0</td>\n",
              "      <td>2017</td>\n",
              "    </tr>\n",
              "  </tbody>\n",
              "</table>\n",
              "</div>"
            ],
            "text/plain": [
              "                   Unnamed: 0  Unnamed: 0.1  ... SEED  YEAR\n",
              "ID                                           ...           \n",
              "NorthCarolina2016           0           0.0  ...  1.0  2016\n",
              "Wisconsin2015               1           1.0  ...  1.0  2015\n",
              "Gonzaga2017                 4           4.0  ...  1.0  2017\n",
              "Duke2015                    5           5.0  ...  1.0  2015\n",
              "NorthCarolina2017           7           7.0  ...  1.0  2017\n",
              "\n",
              "[5 rows x 26 columns]"
            ]
          },
          "metadata": {
            "tags": []
          },
          "execution_count": 9
        }
      ]
    },
    {
      "cell_type": "markdown",
      "metadata": {
        "id": "SCNcBdo-Vlj2",
        "colab_type": "text"
      },
      "source": [
        "#Split data"
      ]
    },
    {
      "cell_type": "code",
      "metadata": {
        "id": "CTJfi4QMVnmt",
        "colab_type": "code",
        "colab": {}
      },
      "source": [
        "target = 'POSTSEASON'"
      ],
      "execution_count": 8,
      "outputs": []
    },
    {
      "cell_type": "code",
      "metadata": {
        "id": "Bn96DjLiYXNC",
        "colab_type": "code",
        "colab": {}
      },
      "source": [
        "X_train = train.drop([target, 'TEAM', 'YEAR', 'SEED', 'Unnamed: 0', 'Unnamed: 0.1'], axis=1)\n",
        "y_train = train[target]\n",
        "\n",
        "X_val = val.drop([target, 'TEAM', 'YEAR', 'SEED', 'Unnamed: 0', 'Unnamed: 0.1'], axis=1)\n",
        "y_val = val[target]\n",
        "\n",
        "X_test = test.drop([target, 'TEAM', 'YEAR', 'SEED', 'Unnamed: 0', 'Unnamed: 0.1'], axis=1)\n",
        "y_test = test[target]"
      ],
      "execution_count": 9,
      "outputs": []
    },
    {
      "cell_type": "markdown",
      "metadata": {
        "id": "x-qwclgtYtKK",
        "colab_type": "text"
      },
      "source": [
        "#Baseline"
      ]
    },
    {
      "cell_type": "code",
      "metadata": {
        "id": "UUt06QvZYufp",
        "colab_type": "code",
        "colab": {
          "base_uri": "https://localhost:8080/",
          "height": 34
        },
        "outputId": "205d5931-b5b5-4b0d-c38b-e23032e878c3"
      },
      "source": [
        "baseline = y_train.value_counts(normalize=True).max()\n",
        "print('Baseline Accuracy:', baseline)"
      ],
      "execution_count": 10,
      "outputs": [
        {
          "output_type": "stream",
          "text": [
            "Baseline Accuracy: 0.8058844635809114\n"
          ],
          "name": "stdout"
        }
      ]
    },
    {
      "cell_type": "markdown",
      "metadata": {
        "id": "tEWnYOPWYyUr",
        "colab_type": "text"
      },
      "source": [
        "#Build model_1"
      ]
    },
    {
      "cell_type": "code",
      "metadata": {
        "id": "558iYx9oY723",
        "colab_type": "code",
        "colab": {
          "base_uri": "https://localhost:8080/",
          "height": 51
        },
        "outputId": "ef836d87-712c-4155-db47-86f09e639cce"
      },
      "source": [
        "from category_encoders import OrdinalEncoder\n",
        "from sklearn.ensemble import RandomForestClassifier\n",
        "from category_encoders import OneHotEncoder\n",
        "from sklearn.pipeline import make_pipeline\n",
        "from sklearn.impute import SimpleImputer\n",
        "from sklearn.feature_selection import SelectKBest"
      ],
      "execution_count": 17,
      "outputs": [
        {
          "output_type": "stream",
          "text": [
            "/usr/local/lib/python3.6/dist-packages/statsmodels/tools/_testing.py:19: FutureWarning: pandas.util.testing is deprecated. Use the functions in the public API at pandas.testing instead.\n",
            "  import pandas.util.testing as tm\n"
          ],
          "name": "stderr"
        }
      ]
    },
    {
      "cell_type": "code",
      "metadata": {
        "id": "rQkZZXT3aYTE",
        "colab_type": "code",
        "colab": {
          "base_uri": "https://localhost:8080/",
          "height": 51
        },
        "outputId": "8b98b0c8-8d54-4b08-a4b3-36c8291841fa"
      },
      "source": [
        "model_1 = make_pipeline(\n",
        "    OrdinalEncoder(),\n",
        "    SimpleImputer(),\n",
        "    RandomForestClassifier(random_state=42, n_estimators=500, max_depth=4)\n",
        ")\n",
        "\n",
        "model_1.fit(X_train, y_train)\n",
        "print('Training Accuracy:', model_1.score(X_train, y_train))\n",
        "print('Validation Accuracy:', model_1.score(X_val, y_val))"
      ],
      "execution_count": 18,
      "outputs": [
        {
          "output_type": "stream",
          "text": [
            "Training Accuracy: 0.8697524219590959\n",
            "Validation Accuracy: 0.8603988603988604\n"
          ],
          "name": "stdout"
        }
      ]
    },
    {
      "cell_type": "code",
      "metadata": {
        "id": "mpbU3MYePcUX",
        "colab_type": "code",
        "colab": {
          "base_uri": "https://localhost:8080/",
          "height": 34
        },
        "outputId": "61ce26d5-cbdf-488b-b7f0-de65a23bf25a"
      },
      "source": [
        "from sklearn.metrics import accuracy_score\n",
        "print('Test Accuracy', accuracy_score(y_test, model_1.predict(X_test)))"
      ],
      "execution_count": 19,
      "outputs": [
        {
          "output_type": "stream",
          "text": [
            "Test Accuracy 0.8498583569405099\n"
          ],
          "name": "stdout"
        }
      ]
    },
    {
      "cell_type": "markdown",
      "metadata": {
        "id": "EiVCEYKXwUj0",
        "colab_type": "text"
      },
      "source": [
        "#Tuning"
      ]
    },
    {
      "cell_type": "code",
      "metadata": {
        "id": "eUet1y-9wV2t",
        "colab_type": "code",
        "colab": {}
      },
      "source": [
        "from sklearn.model_selection import GridSearchCV, RandomizedSearchCV"
      ],
      "execution_count": 22,
      "outputs": []
    },
    {
      "cell_type": "code",
      "metadata": {
        "id": "fWe6PkThwkUT",
        "colab_type": "code",
        "colab": {}
      },
      "source": [
        "model_2 = make_pipeline(\n",
        "    OrdinalEncoder(),\n",
        "    RandomForestClassifier()\n",
        ")\n",
        "\n",
        "params = {'randomforestclassifier__n_estimators': range(100, 300, 50),\n",
        "          'randomforestclassifier__max_depth': range(10, 20, 2),\n",
        "          'randomforestclassifier__max_features': ['sqrt', 'log2', None]\n",
        "}\n",
        "\n",
        "gs = GridSearchCV(model_2, param_grid=params, n_jobs=-1, verbose=1, cv=5, scoring='accuracy')"
      ],
      "execution_count": 147,
      "outputs": []
    },
    {
      "cell_type": "code",
      "metadata": {
        "id": "e9dMx0bLx22R",
        "colab_type": "code",
        "colab": {
          "base_uri": "https://localhost:8080/",
          "height": 340
        },
        "outputId": "6cbedd64-e45a-4146-db5b-f4c389cf35af"
      },
      "source": [
        "gs.fit(X_train, y_train)"
      ],
      "execution_count": 148,
      "outputs": [
        {
          "output_type": "stream",
          "text": [
            "Fitting 5 folds for each of 60 candidates, totalling 300 fits\n"
          ],
          "name": "stdout"
        },
        {
          "output_type": "stream",
          "text": [
            "[Parallel(n_jobs=-1)]: Using backend LokyBackend with 2 concurrent workers.\n"
          ],
          "name": "stderr"
        },
        {
          "output_type": "error",
          "ename": "KeyboardInterrupt",
          "evalue": "ignored",
          "traceback": [
            "\u001b[0;31m---------------------------------------------------------------------------\u001b[0m",
            "\u001b[0;31mKeyboardInterrupt\u001b[0m                         Traceback (most recent call last)",
            "\u001b[0;32m<ipython-input-148-dd947cb3301f>\u001b[0m in \u001b[0;36m<module>\u001b[0;34m()\u001b[0m\n\u001b[0;32m----> 1\u001b[0;31m \u001b[0mgs\u001b[0m\u001b[0;34m.\u001b[0m\u001b[0mfit\u001b[0m\u001b[0;34m(\u001b[0m\u001b[0mX_train\u001b[0m\u001b[0;34m,\u001b[0m \u001b[0my_train\u001b[0m\u001b[0;34m)\u001b[0m\u001b[0;34m\u001b[0m\u001b[0;34m\u001b[0m\u001b[0m\n\u001b[0m",
            "\u001b[0;32m/usr/local/lib/python3.6/dist-packages/sklearn/model_selection/_search.py\u001b[0m in \u001b[0;36mfit\u001b[0;34m(self, X, y, groups, **fit_params)\u001b[0m\n\u001b[1;32m    708\u001b[0m                 \u001b[0;32mreturn\u001b[0m \u001b[0mresults\u001b[0m\u001b[0;34m\u001b[0m\u001b[0;34m\u001b[0m\u001b[0m\n\u001b[1;32m    709\u001b[0m \u001b[0;34m\u001b[0m\u001b[0m\n\u001b[0;32m--> 710\u001b[0;31m             \u001b[0mself\u001b[0m\u001b[0;34m.\u001b[0m\u001b[0m_run_search\u001b[0m\u001b[0;34m(\u001b[0m\u001b[0mevaluate_candidates\u001b[0m\u001b[0;34m)\u001b[0m\u001b[0;34m\u001b[0m\u001b[0;34m\u001b[0m\u001b[0m\n\u001b[0m\u001b[1;32m    711\u001b[0m \u001b[0;34m\u001b[0m\u001b[0m\n\u001b[1;32m    712\u001b[0m         \u001b[0;31m# For multi-metric evaluation, store the best_index_, best_params_ and\u001b[0m\u001b[0;34m\u001b[0m\u001b[0;34m\u001b[0m\u001b[0;34m\u001b[0m\u001b[0m\n",
            "\u001b[0;32m/usr/local/lib/python3.6/dist-packages/sklearn/model_selection/_search.py\u001b[0m in \u001b[0;36m_run_search\u001b[0;34m(self, evaluate_candidates)\u001b[0m\n\u001b[1;32m   1149\u001b[0m     \u001b[0;32mdef\u001b[0m \u001b[0m_run_search\u001b[0m\u001b[0;34m(\u001b[0m\u001b[0mself\u001b[0m\u001b[0;34m,\u001b[0m \u001b[0mevaluate_candidates\u001b[0m\u001b[0;34m)\u001b[0m\u001b[0;34m:\u001b[0m\u001b[0;34m\u001b[0m\u001b[0;34m\u001b[0m\u001b[0m\n\u001b[1;32m   1150\u001b[0m         \u001b[0;34m\"\"\"Search all candidates in param_grid\"\"\"\u001b[0m\u001b[0;34m\u001b[0m\u001b[0;34m\u001b[0m\u001b[0m\n\u001b[0;32m-> 1151\u001b[0;31m         \u001b[0mevaluate_candidates\u001b[0m\u001b[0;34m(\u001b[0m\u001b[0mParameterGrid\u001b[0m\u001b[0;34m(\u001b[0m\u001b[0mself\u001b[0m\u001b[0;34m.\u001b[0m\u001b[0mparam_grid\u001b[0m\u001b[0;34m)\u001b[0m\u001b[0;34m)\u001b[0m\u001b[0;34m\u001b[0m\u001b[0;34m\u001b[0m\u001b[0m\n\u001b[0m\u001b[1;32m   1152\u001b[0m \u001b[0;34m\u001b[0m\u001b[0m\n\u001b[1;32m   1153\u001b[0m \u001b[0;34m\u001b[0m\u001b[0m\n",
            "\u001b[0;32m/usr/local/lib/python3.6/dist-packages/sklearn/model_selection/_search.py\u001b[0m in \u001b[0;36mevaluate_candidates\u001b[0;34m(candidate_params)\u001b[0m\n\u001b[1;32m    687\u001b[0m                                \u001b[0;32mfor\u001b[0m \u001b[0mparameters\u001b[0m\u001b[0;34m,\u001b[0m \u001b[0;34m(\u001b[0m\u001b[0mtrain\u001b[0m\u001b[0;34m,\u001b[0m \u001b[0mtest\u001b[0m\u001b[0;34m)\u001b[0m\u001b[0;34m\u001b[0m\u001b[0;34m\u001b[0m\u001b[0m\n\u001b[1;32m    688\u001b[0m                                in product(candidate_params,\n\u001b[0;32m--> 689\u001b[0;31m                                           cv.split(X, y, groups)))\n\u001b[0m\u001b[1;32m    690\u001b[0m \u001b[0;34m\u001b[0m\u001b[0m\n\u001b[1;32m    691\u001b[0m                 \u001b[0;32mif\u001b[0m \u001b[0mlen\u001b[0m\u001b[0;34m(\u001b[0m\u001b[0mout\u001b[0m\u001b[0;34m)\u001b[0m \u001b[0;34m<\u001b[0m \u001b[0;36m1\u001b[0m\u001b[0;34m:\u001b[0m\u001b[0;34m\u001b[0m\u001b[0;34m\u001b[0m\u001b[0m\n",
            "\u001b[0;32m/usr/local/lib/python3.6/dist-packages/joblib/parallel.py\u001b[0m in \u001b[0;36m__call__\u001b[0;34m(self, iterable)\u001b[0m\n\u001b[1;32m   1040\u001b[0m \u001b[0;34m\u001b[0m\u001b[0m\n\u001b[1;32m   1041\u001b[0m             \u001b[0;32mwith\u001b[0m \u001b[0mself\u001b[0m\u001b[0;34m.\u001b[0m\u001b[0m_backend\u001b[0m\u001b[0;34m.\u001b[0m\u001b[0mretrieval_context\u001b[0m\u001b[0;34m(\u001b[0m\u001b[0;34m)\u001b[0m\u001b[0;34m:\u001b[0m\u001b[0;34m\u001b[0m\u001b[0;34m\u001b[0m\u001b[0m\n\u001b[0;32m-> 1042\u001b[0;31m                 \u001b[0mself\u001b[0m\u001b[0;34m.\u001b[0m\u001b[0mretrieve\u001b[0m\u001b[0;34m(\u001b[0m\u001b[0;34m)\u001b[0m\u001b[0;34m\u001b[0m\u001b[0;34m\u001b[0m\u001b[0m\n\u001b[0m\u001b[1;32m   1043\u001b[0m             \u001b[0;31m# Make sure that we get a last message telling us we are done\u001b[0m\u001b[0;34m\u001b[0m\u001b[0;34m\u001b[0m\u001b[0;34m\u001b[0m\u001b[0m\n\u001b[1;32m   1044\u001b[0m             \u001b[0melapsed_time\u001b[0m \u001b[0;34m=\u001b[0m \u001b[0mtime\u001b[0m\u001b[0;34m.\u001b[0m\u001b[0mtime\u001b[0m\u001b[0;34m(\u001b[0m\u001b[0;34m)\u001b[0m \u001b[0;34m-\u001b[0m \u001b[0mself\u001b[0m\u001b[0;34m.\u001b[0m\u001b[0m_start_time\u001b[0m\u001b[0;34m\u001b[0m\u001b[0;34m\u001b[0m\u001b[0m\n",
            "\u001b[0;32m/usr/local/lib/python3.6/dist-packages/joblib/parallel.py\u001b[0m in \u001b[0;36mretrieve\u001b[0;34m(self)\u001b[0m\n\u001b[1;32m    919\u001b[0m             \u001b[0;32mtry\u001b[0m\u001b[0;34m:\u001b[0m\u001b[0;34m\u001b[0m\u001b[0;34m\u001b[0m\u001b[0m\n\u001b[1;32m    920\u001b[0m                 \u001b[0;32mif\u001b[0m \u001b[0mgetattr\u001b[0m\u001b[0;34m(\u001b[0m\u001b[0mself\u001b[0m\u001b[0;34m.\u001b[0m\u001b[0m_backend\u001b[0m\u001b[0;34m,\u001b[0m \u001b[0;34m'supports_timeout'\u001b[0m\u001b[0;34m,\u001b[0m \u001b[0;32mFalse\u001b[0m\u001b[0;34m)\u001b[0m\u001b[0;34m:\u001b[0m\u001b[0;34m\u001b[0m\u001b[0;34m\u001b[0m\u001b[0m\n\u001b[0;32m--> 921\u001b[0;31m                     \u001b[0mself\u001b[0m\u001b[0;34m.\u001b[0m\u001b[0m_output\u001b[0m\u001b[0;34m.\u001b[0m\u001b[0mextend\u001b[0m\u001b[0;34m(\u001b[0m\u001b[0mjob\u001b[0m\u001b[0;34m.\u001b[0m\u001b[0mget\u001b[0m\u001b[0;34m(\u001b[0m\u001b[0mtimeout\u001b[0m\u001b[0;34m=\u001b[0m\u001b[0mself\u001b[0m\u001b[0;34m.\u001b[0m\u001b[0mtimeout\u001b[0m\u001b[0;34m)\u001b[0m\u001b[0;34m)\u001b[0m\u001b[0;34m\u001b[0m\u001b[0;34m\u001b[0m\u001b[0m\n\u001b[0m\u001b[1;32m    922\u001b[0m                 \u001b[0;32melse\u001b[0m\u001b[0;34m:\u001b[0m\u001b[0;34m\u001b[0m\u001b[0;34m\u001b[0m\u001b[0m\n\u001b[1;32m    923\u001b[0m                     \u001b[0mself\u001b[0m\u001b[0;34m.\u001b[0m\u001b[0m_output\u001b[0m\u001b[0;34m.\u001b[0m\u001b[0mextend\u001b[0m\u001b[0;34m(\u001b[0m\u001b[0mjob\u001b[0m\u001b[0;34m.\u001b[0m\u001b[0mget\u001b[0m\u001b[0;34m(\u001b[0m\u001b[0;34m)\u001b[0m\u001b[0;34m)\u001b[0m\u001b[0;34m\u001b[0m\u001b[0;34m\u001b[0m\u001b[0m\n",
            "\u001b[0;32m/usr/local/lib/python3.6/dist-packages/joblib/_parallel_backends.py\u001b[0m in \u001b[0;36mwrap_future_result\u001b[0;34m(future, timeout)\u001b[0m\n\u001b[1;32m    540\u001b[0m         AsyncResults.get from multiprocessing.\"\"\"\n\u001b[1;32m    541\u001b[0m         \u001b[0;32mtry\u001b[0m\u001b[0;34m:\u001b[0m\u001b[0;34m\u001b[0m\u001b[0;34m\u001b[0m\u001b[0m\n\u001b[0;32m--> 542\u001b[0;31m             \u001b[0;32mreturn\u001b[0m \u001b[0mfuture\u001b[0m\u001b[0;34m.\u001b[0m\u001b[0mresult\u001b[0m\u001b[0;34m(\u001b[0m\u001b[0mtimeout\u001b[0m\u001b[0;34m=\u001b[0m\u001b[0mtimeout\u001b[0m\u001b[0;34m)\u001b[0m\u001b[0;34m\u001b[0m\u001b[0;34m\u001b[0m\u001b[0m\n\u001b[0m\u001b[1;32m    543\u001b[0m         \u001b[0;32mexcept\u001b[0m \u001b[0mCfTimeoutError\u001b[0m \u001b[0;32mas\u001b[0m \u001b[0me\u001b[0m\u001b[0;34m:\u001b[0m\u001b[0;34m\u001b[0m\u001b[0;34m\u001b[0m\u001b[0m\n\u001b[1;32m    544\u001b[0m             \u001b[0;32mraise\u001b[0m \u001b[0mTimeoutError\u001b[0m \u001b[0;32mfrom\u001b[0m \u001b[0me\u001b[0m\u001b[0;34m\u001b[0m\u001b[0;34m\u001b[0m\u001b[0m\n",
            "\u001b[0;32m/usr/lib/python3.6/concurrent/futures/_base.py\u001b[0m in \u001b[0;36mresult\u001b[0;34m(self, timeout)\u001b[0m\n\u001b[1;32m    425\u001b[0m                 \u001b[0;32mreturn\u001b[0m \u001b[0mself\u001b[0m\u001b[0;34m.\u001b[0m\u001b[0m__get_result\u001b[0m\u001b[0;34m(\u001b[0m\u001b[0;34m)\u001b[0m\u001b[0;34m\u001b[0m\u001b[0;34m\u001b[0m\u001b[0m\n\u001b[1;32m    426\u001b[0m \u001b[0;34m\u001b[0m\u001b[0m\n\u001b[0;32m--> 427\u001b[0;31m             \u001b[0mself\u001b[0m\u001b[0;34m.\u001b[0m\u001b[0m_condition\u001b[0m\u001b[0;34m.\u001b[0m\u001b[0mwait\u001b[0m\u001b[0;34m(\u001b[0m\u001b[0mtimeout\u001b[0m\u001b[0;34m)\u001b[0m\u001b[0;34m\u001b[0m\u001b[0;34m\u001b[0m\u001b[0m\n\u001b[0m\u001b[1;32m    428\u001b[0m \u001b[0;34m\u001b[0m\u001b[0m\n\u001b[1;32m    429\u001b[0m             \u001b[0;32mif\u001b[0m \u001b[0mself\u001b[0m\u001b[0;34m.\u001b[0m\u001b[0m_state\u001b[0m \u001b[0;32min\u001b[0m \u001b[0;34m[\u001b[0m\u001b[0mCANCELLED\u001b[0m\u001b[0;34m,\u001b[0m \u001b[0mCANCELLED_AND_NOTIFIED\u001b[0m\u001b[0;34m]\u001b[0m\u001b[0;34m:\u001b[0m\u001b[0;34m\u001b[0m\u001b[0;34m\u001b[0m\u001b[0m\n",
            "\u001b[0;32m/usr/lib/python3.6/threading.py\u001b[0m in \u001b[0;36mwait\u001b[0;34m(self, timeout)\u001b[0m\n\u001b[1;32m    293\u001b[0m         \u001b[0;32mtry\u001b[0m\u001b[0;34m:\u001b[0m    \u001b[0;31m# restore state no matter what (e.g., KeyboardInterrupt)\u001b[0m\u001b[0;34m\u001b[0m\u001b[0;34m\u001b[0m\u001b[0m\n\u001b[1;32m    294\u001b[0m             \u001b[0;32mif\u001b[0m \u001b[0mtimeout\u001b[0m \u001b[0;32mis\u001b[0m \u001b[0;32mNone\u001b[0m\u001b[0;34m:\u001b[0m\u001b[0;34m\u001b[0m\u001b[0;34m\u001b[0m\u001b[0m\n\u001b[0;32m--> 295\u001b[0;31m                 \u001b[0mwaiter\u001b[0m\u001b[0;34m.\u001b[0m\u001b[0macquire\u001b[0m\u001b[0;34m(\u001b[0m\u001b[0;34m)\u001b[0m\u001b[0;34m\u001b[0m\u001b[0;34m\u001b[0m\u001b[0m\n\u001b[0m\u001b[1;32m    296\u001b[0m                 \u001b[0mgotit\u001b[0m \u001b[0;34m=\u001b[0m \u001b[0;32mTrue\u001b[0m\u001b[0;34m\u001b[0m\u001b[0;34m\u001b[0m\u001b[0m\n\u001b[1;32m    297\u001b[0m             \u001b[0;32melse\u001b[0m\u001b[0;34m:\u001b[0m\u001b[0;34m\u001b[0m\u001b[0;34m\u001b[0m\u001b[0m\n",
            "\u001b[0;31mKeyboardInterrupt\u001b[0m: "
          ]
        }
      ]
    },
    {
      "cell_type": "code",
      "metadata": {
        "id": "jHlpzDMey1JC",
        "colab_type": "code",
        "colab": {
          "base_uri": "https://localhost:8080/",
          "height": 68
        },
        "outputId": "ff059993-a876-4784-d18d-7c0e0bd3e08b"
      },
      "source": [
        "gs.best_params_"
      ],
      "execution_count": null,
      "outputs": [
        {
          "output_type": "execute_result",
          "data": {
            "text/plain": [
              "{'randomforestclassifier__max_depth': 10,\n",
              " 'randomforestclassifier__max_features': 'log2',\n",
              " 'randomforestclassifier__n_estimators': 150}"
            ]
          },
          "metadata": {
            "tags": []
          },
          "execution_count": 37
        }
      ]
    },
    {
      "cell_type": "markdown",
      "metadata": {
        "id": "ucFTu9HNN3Kn",
        "colab_type": "text"
      },
      "source": [
        "#Build model_2"
      ]
    },
    {
      "cell_type": "code",
      "metadata": {
        "id": "rJ_0t4ZZM2t-",
        "colab_type": "code",
        "colab": {
          "base_uri": "https://localhost:8080/",
          "height": 68
        },
        "outputId": "44e42105-ce06-4a52-9c4d-43470eb8587f"
      },
      "source": [
        "model_2 = make_pipeline(\n",
        "    OrdinalEncoder(),\n",
        "    RandomForestClassifier(max_depth=10, max_features='log2', n_estimators=150)\n",
        ")\n",
        "model_2.fit(X_train, y_train)\n",
        "print('Training accuracy:', model_2.score(X_train, y_train))\n",
        "print('Validation accuracy:', model_2.score(X_val, y_val))\n",
        "print('Test Accuracy', accuracy_score(y_test, model_2.predict(X_test)))"
      ],
      "execution_count": null,
      "outputs": [
        {
          "output_type": "stream",
          "text": [
            "Training accuracy: 0.9752421959095802\n",
            "Validation accuracy: 0.8490028490028491\n",
            "Test Accuracy 0.8498583569405099\n"
          ],
          "name": "stdout"
        }
      ]
    },
    {
      "cell_type": "markdown",
      "metadata": {
        "id": "3dW_xhaJN5wh",
        "colab_type": "text"
      },
      "source": [
        "#More tuning"
      ]
    },
    {
      "cell_type": "code",
      "metadata": {
        "id": "2mI5kH2RN7Ps",
        "colab_type": "code",
        "colab": {}
      },
      "source": [
        "params = {'randomforestclassifier__n_estimators': range(50, 200, 10),\n",
        "          'randomforestclassifier__max_depth': range(2, 10, 2),\n",
        "          'randomforestclassifier__max_features': ['sqrt', 'log2', None]\n",
        "}\n",
        "\n",
        "gs = GridSearchCV(model_2, param_grid=params, n_jobs=-1, verbose=1, cv=5, scoring='accuracy')"
      ],
      "execution_count": null,
      "outputs": []
    },
    {
      "cell_type": "code",
      "metadata": {
        "id": "0qGeZiU6OeuQ",
        "colab_type": "code",
        "colab": {
          "base_uri": "https://localhost:8080/",
          "height": 221
        },
        "outputId": "8cb0530e-9aa7-4f57-fdf8-f734f8c8a1de"
      },
      "source": [
        "gs.fit(X_train, y_train)\n",
        "gs.best_params_"
      ],
      "execution_count": null,
      "outputs": [
        {
          "output_type": "stream",
          "text": [
            "Fitting 5 folds for each of 180 candidates, totalling 900 fits\n"
          ],
          "name": "stdout"
        },
        {
          "output_type": "stream",
          "text": [
            "/usr/local/lib/python3.6/dist-packages/sklearn/model_selection/_split.py:667: UserWarning: The least populated class in y has only 3 members, which is less than n_splits=5.\n",
            "  % (min_groups, self.n_splits)), UserWarning)\n",
            "[Parallel(n_jobs=-1)]: Using backend LokyBackend with 2 concurrent workers.\n",
            "[Parallel(n_jobs=-1)]: Done  46 tasks      | elapsed:    6.9s\n",
            "[Parallel(n_jobs=-1)]: Done 196 tasks      | elapsed:   39.1s\n",
            "[Parallel(n_jobs=-1)]: Done 446 tasks      | elapsed:  1.9min\n",
            "[Parallel(n_jobs=-1)]: Done 796 tasks      | elapsed:  3.7min\n",
            "[Parallel(n_jobs=-1)]: Done 900 out of 900 | elapsed:  4.6min finished\n"
          ],
          "name": "stderr"
        },
        {
          "output_type": "execute_result",
          "data": {
            "text/plain": [
              "{'randomforestclassifier__max_depth': 4,\n",
              " 'randomforestclassifier__max_features': None,\n",
              " 'randomforestclassifier__n_estimators': 80}"
            ]
          },
          "metadata": {
            "tags": []
          },
          "execution_count": 43
        }
      ]
    },
    {
      "cell_type": "markdown",
      "metadata": {
        "id": "S7Z92kKWPn3N",
        "colab_type": "text"
      },
      "source": [
        "#Build model_3"
      ]
    },
    {
      "cell_type": "code",
      "metadata": {
        "id": "ryECc1lrPqrY",
        "colab_type": "code",
        "colab": {
          "base_uri": "https://localhost:8080/",
          "height": 68
        },
        "outputId": "4a29f7a3-0df2-4693-b6ec-d3d34b828208"
      },
      "source": [
        "model_3 = make_pipeline(\n",
        "    OrdinalEncoder(),\n",
        "    SimpleImputer(),\n",
        "    RandomForestClassifier(random_state=42, n_estimators=80, max_depth=4, max_features=None)\n",
        ")\n",
        "\n",
        "model_3.fit(X_train, y_train)\n",
        "print('Training accuracy:', model_3.score(X_train, y_train))\n",
        "print('Validation accuracy:', model_3.score(X_val, y_val))\n",
        "print('Test Accuracy', accuracy_score(y_test, model_3.predict(X_test)))"
      ],
      "execution_count": null,
      "outputs": [
        {
          "output_type": "stream",
          "text": [
            "Training accuracy: 0.8776462145676355\n",
            "Validation accuracy: 0.8717948717948718\n",
            "Test Accuracy 0.8555240793201133\n"
          ],
          "name": "stdout"
        }
      ]
    },
    {
      "cell_type": "markdown",
      "metadata": {
        "id": "hpY8RAN_QI37",
        "colab_type": "text"
      },
      "source": [
        "#Tuning again"
      ]
    },
    {
      "cell_type": "code",
      "metadata": {
        "id": "pKmZ0GY2QKvF",
        "colab_type": "code",
        "colab": {}
      },
      "source": [
        "params = {'randomforestclassifier__n_estimators': range(70, 90),\n",
        "          'randomforestclassifier__max_depth': range(1, 10),\n",
        "          'randomforestclassifier__max_features': ['sqrt', 'log2', None]\n",
        "}\n",
        "\n",
        "model_4 = make_pipeline(\n",
        "    OrdinalEncoder(),\n",
        "    SimpleImputer(),\n",
        "    RandomForestClassifier()\n",
        ")\n",
        "\n",
        "gs = GridSearchCV(model_4, param_grid=params, n_jobs=-1, verbose=1, cv=5, scoring='accuracy')"
      ],
      "execution_count": null,
      "outputs": []
    },
    {
      "cell_type": "code",
      "metadata": {
        "id": "NUSbgcPTQbVv",
        "colab_type": "code",
        "colab": {
          "base_uri": "https://localhost:8080/",
          "height": 272
        },
        "outputId": "94c42f0d-cfe6-4aa6-d96f-cb732f589936"
      },
      "source": [
        "gs.fit(X_train, y_train)\n",
        "gs.best_params_"
      ],
      "execution_count": null,
      "outputs": [
        {
          "output_type": "stream",
          "text": [
            "Fitting 5 folds for each of 540 candidates, totalling 2700 fits\n"
          ],
          "name": "stdout"
        },
        {
          "output_type": "stream",
          "text": [
            "/usr/local/lib/python3.6/dist-packages/sklearn/model_selection/_split.py:667: UserWarning: The least populated class in y has only 3 members, which is less than n_splits=5.\n",
            "  % (min_groups, self.n_splits)), UserWarning)\n",
            "[Parallel(n_jobs=-1)]: Using backend LokyBackend with 2 concurrent workers.\n",
            "[Parallel(n_jobs=-1)]: Done  46 tasks      | elapsed:    5.4s\n",
            "[Parallel(n_jobs=-1)]: Done 196 tasks      | elapsed:   24.7s\n",
            "[Parallel(n_jobs=-1)]: Done 446 tasks      | elapsed:  1.0min\n",
            "[Parallel(n_jobs=-1)]: Done 796 tasks      | elapsed:  1.9min\n",
            "[Parallel(n_jobs=-1)]: Done 1246 tasks      | elapsed:  3.5min\n",
            "[Parallel(n_jobs=-1)]: Done 1796 tasks      | elapsed:  5.6min\n",
            "[Parallel(n_jobs=-1)]: Done 2446 tasks      | elapsed:  8.3min\n",
            "[Parallel(n_jobs=-1)]: Done 2700 out of 2700 | elapsed:  9.5min finished\n"
          ],
          "name": "stderr"
        },
        {
          "output_type": "execute_result",
          "data": {
            "text/plain": [
              "{'randomforestclassifier__max_depth': 4,\n",
              " 'randomforestclassifier__max_features': 'log2',\n",
              " 'randomforestclassifier__n_estimators': 79}"
            ]
          },
          "metadata": {
            "tags": []
          },
          "execution_count": 48
        }
      ]
    },
    {
      "cell_type": "markdown",
      "metadata": {
        "id": "nBstfJX7WVJV",
        "colab_type": "text"
      },
      "source": [
        "#Build model_4"
      ]
    },
    {
      "cell_type": "code",
      "metadata": {
        "id": "RWrW9hGTWYfQ",
        "colab_type": "code",
        "colab": {
          "base_uri": "https://localhost:8080/",
          "height": 68
        },
        "outputId": "d0faf32b-08cb-4193-8be1-0ca960ab5666"
      },
      "source": [
        "model_4 = make_pipeline(\n",
        "    OrdinalEncoder(),\n",
        "    SimpleImputer(),\n",
        "    RandomForestClassifier(random_state=42, n_estimators=79, max_depth=4, max_features='log2')\n",
        ")\n",
        "\n",
        "model_4.fit(X_train, y_train)\n",
        "print('Training accuracy:', model_4.score(X_train, y_train))\n",
        "print('Validation accuracy:', model_4.score(X_val, y_val))\n",
        "print('Test Accuracy', accuracy_score(y_test, model_4.predict(X_test)))"
      ],
      "execution_count": null,
      "outputs": [
        {
          "output_type": "stream",
          "text": [
            "Training accuracy: 0.8701112307140294\n",
            "Validation accuracy: 0.8575498575498576\n",
            "Test Accuracy 0.8526912181303116\n"
          ],
          "name": "stdout"
        }
      ]
    },
    {
      "cell_type": "markdown",
      "metadata": {
        "id": "TkfU0UVDWvN0",
        "colab_type": "text"
      },
      "source": [
        "#Build model_5"
      ]
    },
    {
      "cell_type": "code",
      "metadata": {
        "id": "e0Jpw55VWune",
        "colab_type": "code",
        "colab": {
          "base_uri": "https://localhost:8080/",
          "height": 68
        },
        "outputId": "cd86acd3-6349-4e12-88b2-8dc861e0f290"
      },
      "source": [
        "model_5 = make_pipeline(\n",
        "    OrdinalEncoder(),\n",
        "    SimpleImputer(),\n",
        "    RandomForestClassifier(random_state=42, n_estimators=500, max_depth=5, max_features=None)\n",
        ")\n",
        "\n",
        "model_5.fit(X_train, y_train)\n",
        "print('Training accuracy:', model_5.score(X_train, y_train))\n",
        "print('Validation accuracy:', model_5.score(X_val, y_val))\n",
        "print('Test Accuracy', accuracy_score(y_test, model_5.predict(X_test)))"
      ],
      "execution_count": null,
      "outputs": [
        {
          "output_type": "stream",
          "text": [
            "Training accuracy: 0.8959454610692501\n",
            "Validation accuracy: 0.8717948717948718\n",
            "Test Accuracy 0.8583569405099151\n"
          ],
          "name": "stdout"
        }
      ]
    },
    {
      "cell_type": "markdown",
      "metadata": {
        "id": "ZAlATCSpXJn-",
        "colab_type": "text"
      },
      "source": [
        "#Build model_6"
      ]
    },
    {
      "cell_type": "code",
      "metadata": {
        "id": "lnxtfTPqXNq5",
        "colab_type": "code",
        "colab": {
          "base_uri": "https://localhost:8080/",
          "height": 68
        },
        "outputId": "6cc9dd3d-2120-45c7-a87d-3c68de738412"
      },
      "source": [
        "model_6 = make_pipeline(\n",
        "    OrdinalEncoder(),\n",
        "    SimpleImputer(),\n",
        "    RandomForestClassifier(random_state=42)\n",
        ")\n",
        "\n",
        "model_6.fit(X_train, y_train)\n",
        "print('Training accuracy:', model_6.score(X_train, y_train))\n",
        "print('Validation accuracy:', model_6.score(X_val, y_val))\n",
        "print('Test Accuracy', accuracy_score(y_test, model_6.predict(X_test)))"
      ],
      "execution_count": null,
      "outputs": [
        {
          "output_type": "stream",
          "text": [
            "Training accuracy: 1.0\n",
            "Validation accuracy: 0.8490028490028491\n",
            "Test Accuracy 0.8526912181303116\n"
          ],
          "name": "stdout"
        }
      ]
    },
    {
      "cell_type": "markdown",
      "metadata": {
        "id": "ceJ4SjgEWxq2",
        "colab_type": "text"
      },
      "source": [
        "#Accuracy scores"
      ]
    },
    {
      "cell_type": "code",
      "metadata": {
        "id": "evmEPVMJWztS",
        "colab_type": "code",
        "colab": {
          "base_uri": "https://localhost:8080/",
          "height": 119
        },
        "outputId": "fbe1755c-eb4b-451a-f122-b2aeea594d83"
      },
      "source": [
        "print('Model_1 Test Accuracy', accuracy_score(y_test, model_1.predict(X_test)))\n",
        "print('Model_2 Test Accuracy', accuracy_score(y_test, model_2.predict(X_test)))\n",
        "print('Model_3 Test Accuracy', accuracy_score(y_test, model_3.predict(X_test)))\n",
        "print('Model_4 Test Accuracy', accuracy_score(y_test, model_4.predict(X_test)))\n",
        "print('Model_5 Test Accuracy', accuracy_score(y_test, model_5.predict(X_test)))\n",
        "print('Model_6 Test Accuracy', accuracy_score(y_test, model_6.predict(X_test)))"
      ],
      "execution_count": null,
      "outputs": [
        {
          "output_type": "stream",
          "text": [
            "Model_1 Test Accuracy 0.8526912181303116\n",
            "Model_2 Test Accuracy 0.8498583569405099\n",
            "Model_3 Test Accuracy 0.8555240793201133\n",
            "Model_4 Test Accuracy 0.8526912181303116\n",
            "Model_5 Test Accuracy 0.8583569405099151\n",
            "Model_6 Test Accuracy 0.8526912181303116\n"
          ],
          "name": "stdout"
        }
      ]
    },
    {
      "cell_type": "markdown",
      "metadata": {
        "id": "z5XitQFuX6rK",
        "colab_type": "text"
      },
      "source": [
        "#Look at predictions"
      ]
    },
    {
      "cell_type": "code",
      "metadata": {
        "id": "0RMH7r27X8h6",
        "colab_type": "code",
        "colab": {
          "base_uri": "https://localhost:8080/",
          "height": 235
        },
        "outputId": "ab9c75be-7f29-47f9-db01-1a138c5ed3ec"
      },
      "source": [
        "predictions_2019 = pd.DataFrame(model_3.predict(X_test), index=X_test.index, columns=['prediction'])\n",
        "predictions_2019 = pd.concat([predictions_2019, y_test], axis=1)\n",
        "predictions_2019.head()"
      ],
      "execution_count": null,
      "outputs": [
        {
          "output_type": "execute_result",
          "data": {
            "text/html": [
              "<div>\n",
              "<style scoped>\n",
              "    .dataframe tbody tr th:only-of-type {\n",
              "        vertical-align: middle;\n",
              "    }\n",
              "\n",
              "    .dataframe tbody tr th {\n",
              "        vertical-align: top;\n",
              "    }\n",
              "\n",
              "    .dataframe thead th {\n",
              "        text-align: right;\n",
              "    }\n",
              "</style>\n",
              "<table border=\"1\" class=\"dataframe\">\n",
              "  <thead>\n",
              "    <tr style=\"text-align: right;\">\n",
              "      <th></th>\n",
              "      <th>prediction</th>\n",
              "      <th>POSTSEASON</th>\n",
              "    </tr>\n",
              "    <tr>\n",
              "      <th>ID</th>\n",
              "      <th></th>\n",
              "      <th></th>\n",
              "    </tr>\n",
              "  </thead>\n",
              "  <tbody>\n",
              "    <tr>\n",
              "      <th>TexasTech2019</th>\n",
              "      <td>E8</td>\n",
              "      <td>2ND</td>\n",
              "    </tr>\n",
              "    <tr>\n",
              "      <th>Virginia2019</th>\n",
              "      <td>E8</td>\n",
              "      <td>Champions</td>\n",
              "    </tr>\n",
              "    <tr>\n",
              "      <th>Duke2019</th>\n",
              "      <td>E8</td>\n",
              "      <td>E8</td>\n",
              "    </tr>\n",
              "    <tr>\n",
              "      <th>Purdue2019</th>\n",
              "      <td>R32</td>\n",
              "      <td>E8</td>\n",
              "    </tr>\n",
              "    <tr>\n",
              "      <th>Kentucky2019</th>\n",
              "      <td>E8</td>\n",
              "      <td>E8</td>\n",
              "    </tr>\n",
              "  </tbody>\n",
              "</table>\n",
              "</div>"
            ],
            "text/plain": [
              "              prediction POSTSEASON\n",
              "ID                                 \n",
              "TexasTech2019         E8        2ND\n",
              "Virginia2019          E8  Champions\n",
              "Duke2019              E8         E8\n",
              "Purdue2019           R32         E8\n",
              "Kentucky2019          E8         E8"
            ]
          },
          "metadata": {
            "tags": []
          },
          "execution_count": 67
        }
      ]
    },
    {
      "cell_type": "markdown",
      "metadata": {
        "id": "vXepV8FEYewp",
        "colab_type": "text"
      },
      "source": [
        "#Export predictions"
      ]
    },
    {
      "cell_type": "code",
      "metadata": {
        "id": "wbJ_U70aYhKD",
        "colab_type": "code",
        "colab": {}
      },
      "source": [
        "predictions_2019.to_csv('predictions.csv')"
      ],
      "execution_count": null,
      "outputs": []
    },
    {
      "cell_type": "markdown",
      "metadata": {
        "id": "arRwnsdOevya",
        "colab_type": "text"
      },
      "source": [
        "#Other metrics"
      ]
    },
    {
      "cell_type": "code",
      "metadata": {
        "id": "8SZHKEFvexU3",
        "colab_type": "code",
        "colab": {}
      },
      "source": [
        "from sklearn.metrics import f1_score, precision_score, recall_score, classification_report"
      ],
      "execution_count": null,
      "outputs": []
    },
    {
      "cell_type": "code",
      "metadata": {
        "id": "Hu9NqX9BfKpD",
        "colab_type": "code",
        "colab": {
          "base_uri": "https://localhost:8080/",
          "height": 119
        },
        "outputId": "7352ee35-4876-40ed-87c7-4db96c5c1765"
      },
      "source": [
        "print('Model_1 F1 Score:', f1_score(y_test, model_1.predict(X_test), average='micro'))\n",
        "print('Model_2 F1 Score:', f1_score(y_test, model_2.predict(X_test), average='micro'))\n",
        "print('Model_3 F1 Score:', f1_score(y_test, model_3.predict(X_test), average='micro'))\n",
        "print('Model_4 F1 Score:', f1_score(y_test, model_4.predict(X_test), average='micro'))\n",
        "print('Model_5 F1 Score:', f1_score(y_test, model_5.predict(X_test), average='micro'))\n",
        "print('Model_6 F1 Score:', f1_score(y_test, model_6.predict(X_test), average='micro'))"
      ],
      "execution_count": null,
      "outputs": [
        {
          "output_type": "stream",
          "text": [
            "Model_1 F1 Score: 0.8526912181303116\n",
            "Model_2 F1 Score: 0.8498583569405099\n",
            "Model_3 F1 Score: 0.8555240793201133\n",
            "Model_4 F1 Score: 0.8526912181303116\n",
            "Model_5 F1 Score: 0.8583569405099151\n",
            "Model_6 F1 Score: 0.8526912181303116\n"
          ],
          "name": "stdout"
        }
      ]
    },
    {
      "cell_type": "markdown",
      "metadata": {
        "id": "BrDFOrzuiO0a",
        "colab_type": "text"
      },
      "source": [
        "#Only tournament teams"
      ]
    },
    {
      "cell_type": "code",
      "metadata": {
        "id": "aZUrurA8iSTk",
        "colab_type": "code",
        "colab": {
          "base_uri": "https://localhost:8080/",
          "height": 204
        },
        "outputId": "ca0733e5-9f39-42f8-a1bb-c0e32e62ad90"
      },
      "source": [
        "df_1 = df[df['POSTSEASON'] != 'no tourney']\n",
        "df_1.head()"
      ],
      "execution_count": 11,
      "outputs": [
        {
          "output_type": "execute_result",
          "data": {
            "text/html": [
              "<div>\n",
              "<style scoped>\n",
              "    .dataframe tbody tr th:only-of-type {\n",
              "        vertical-align: middle;\n",
              "    }\n",
              "\n",
              "    .dataframe tbody tr th {\n",
              "        vertical-align: top;\n",
              "    }\n",
              "\n",
              "    .dataframe thead th {\n",
              "        text-align: right;\n",
              "    }\n",
              "</style>\n",
              "<table border=\"1\" class=\"dataframe\">\n",
              "  <thead>\n",
              "    <tr style=\"text-align: right;\">\n",
              "      <th></th>\n",
              "      <th>Unnamed: 0</th>\n",
              "      <th>Unnamed: 0.1</th>\n",
              "      <th>TEAM</th>\n",
              "      <th>CONF</th>\n",
              "      <th>G</th>\n",
              "      <th>W</th>\n",
              "      <th>ADJOE</th>\n",
              "      <th>ADJDE</th>\n",
              "      <th>BARTHAG</th>\n",
              "      <th>EFG_O</th>\n",
              "      <th>EFG_D</th>\n",
              "      <th>TOR</th>\n",
              "      <th>TORD</th>\n",
              "      <th>ORB</th>\n",
              "      <th>DRB</th>\n",
              "      <th>FTR</th>\n",
              "      <th>FTRD</th>\n",
              "      <th>2P_O</th>\n",
              "      <th>2P_D</th>\n",
              "      <th>3P_O</th>\n",
              "      <th>3P_D</th>\n",
              "      <th>ADJ_T</th>\n",
              "      <th>WAB</th>\n",
              "      <th>POSTSEASON</th>\n",
              "      <th>SEED</th>\n",
              "      <th>YEAR</th>\n",
              "    </tr>\n",
              "  </thead>\n",
              "  <tbody>\n",
              "    <tr>\n",
              "      <th>0</th>\n",
              "      <td>0</td>\n",
              "      <td>0.0</td>\n",
              "      <td>NorthCarolina</td>\n",
              "      <td>ACC</td>\n",
              "      <td>40</td>\n",
              "      <td>33</td>\n",
              "      <td>123.3</td>\n",
              "      <td>94.9</td>\n",
              "      <td>0.9531</td>\n",
              "      <td>52.6</td>\n",
              "      <td>48.1</td>\n",
              "      <td>15.4</td>\n",
              "      <td>18.2</td>\n",
              "      <td>40.7</td>\n",
              "      <td>30.0</td>\n",
              "      <td>32.3</td>\n",
              "      <td>30.4</td>\n",
              "      <td>53.9</td>\n",
              "      <td>44.6</td>\n",
              "      <td>32.7</td>\n",
              "      <td>36.2</td>\n",
              "      <td>71.7</td>\n",
              "      <td>8.6</td>\n",
              "      <td>2ND</td>\n",
              "      <td>1.0</td>\n",
              "      <td>2016</td>\n",
              "    </tr>\n",
              "    <tr>\n",
              "      <th>1</th>\n",
              "      <td>1</td>\n",
              "      <td>1.0</td>\n",
              "      <td>Wisconsin</td>\n",
              "      <td>B10</td>\n",
              "      <td>40</td>\n",
              "      <td>36</td>\n",
              "      <td>129.1</td>\n",
              "      <td>93.6</td>\n",
              "      <td>0.9758</td>\n",
              "      <td>54.8</td>\n",
              "      <td>47.7</td>\n",
              "      <td>12.4</td>\n",
              "      <td>15.8</td>\n",
              "      <td>32.1</td>\n",
              "      <td>23.7</td>\n",
              "      <td>36.2</td>\n",
              "      <td>22.4</td>\n",
              "      <td>54.8</td>\n",
              "      <td>44.7</td>\n",
              "      <td>36.5</td>\n",
              "      <td>37.5</td>\n",
              "      <td>59.3</td>\n",
              "      <td>11.3</td>\n",
              "      <td>2ND</td>\n",
              "      <td>1.0</td>\n",
              "      <td>2015</td>\n",
              "    </tr>\n",
              "    <tr>\n",
              "      <th>2</th>\n",
              "      <td>2</td>\n",
              "      <td>2.0</td>\n",
              "      <td>Michigan</td>\n",
              "      <td>B10</td>\n",
              "      <td>40</td>\n",
              "      <td>33</td>\n",
              "      <td>114.4</td>\n",
              "      <td>90.4</td>\n",
              "      <td>0.9375</td>\n",
              "      <td>53.9</td>\n",
              "      <td>47.7</td>\n",
              "      <td>14.0</td>\n",
              "      <td>19.5</td>\n",
              "      <td>25.5</td>\n",
              "      <td>24.9</td>\n",
              "      <td>30.7</td>\n",
              "      <td>30.0</td>\n",
              "      <td>54.7</td>\n",
              "      <td>46.8</td>\n",
              "      <td>35.2</td>\n",
              "      <td>33.2</td>\n",
              "      <td>65.9</td>\n",
              "      <td>6.9</td>\n",
              "      <td>2ND</td>\n",
              "      <td>3.0</td>\n",
              "      <td>2018</td>\n",
              "    </tr>\n",
              "    <tr>\n",
              "      <th>3</th>\n",
              "      <td>3</td>\n",
              "      <td>3.0</td>\n",
              "      <td>TexasTech</td>\n",
              "      <td>B12</td>\n",
              "      <td>38</td>\n",
              "      <td>31</td>\n",
              "      <td>115.2</td>\n",
              "      <td>85.2</td>\n",
              "      <td>0.9696</td>\n",
              "      <td>53.5</td>\n",
              "      <td>43.0</td>\n",
              "      <td>17.7</td>\n",
              "      <td>22.8</td>\n",
              "      <td>27.4</td>\n",
              "      <td>28.7</td>\n",
              "      <td>32.9</td>\n",
              "      <td>36.6</td>\n",
              "      <td>52.8</td>\n",
              "      <td>41.9</td>\n",
              "      <td>36.5</td>\n",
              "      <td>29.7</td>\n",
              "      <td>67.5</td>\n",
              "      <td>7.0</td>\n",
              "      <td>2ND</td>\n",
              "      <td>3.0</td>\n",
              "      <td>2019</td>\n",
              "    </tr>\n",
              "    <tr>\n",
              "      <th>4</th>\n",
              "      <td>4</td>\n",
              "      <td>4.0</td>\n",
              "      <td>Gonzaga</td>\n",
              "      <td>WCC</td>\n",
              "      <td>39</td>\n",
              "      <td>37</td>\n",
              "      <td>117.8</td>\n",
              "      <td>86.3</td>\n",
              "      <td>0.9728</td>\n",
              "      <td>56.6</td>\n",
              "      <td>41.1</td>\n",
              "      <td>16.2</td>\n",
              "      <td>17.1</td>\n",
              "      <td>30.0</td>\n",
              "      <td>26.2</td>\n",
              "      <td>39.0</td>\n",
              "      <td>26.9</td>\n",
              "      <td>56.3</td>\n",
              "      <td>40.0</td>\n",
              "      <td>38.2</td>\n",
              "      <td>29.0</td>\n",
              "      <td>71.5</td>\n",
              "      <td>7.7</td>\n",
              "      <td>2ND</td>\n",
              "      <td>1.0</td>\n",
              "      <td>2017</td>\n",
              "    </tr>\n",
              "  </tbody>\n",
              "</table>\n",
              "</div>"
            ],
            "text/plain": [
              "   Unnamed: 0  Unnamed: 0.1           TEAM CONF  ...   WAB  POSTSEASON  SEED  YEAR\n",
              "0           0           0.0  NorthCarolina  ACC  ...   8.6         2ND   1.0  2016\n",
              "1           1           1.0      Wisconsin  B10  ...  11.3         2ND   1.0  2015\n",
              "2           2           2.0       Michigan  B10  ...   6.9         2ND   3.0  2018\n",
              "3           3           3.0      TexasTech  B12  ...   7.0         2ND   3.0  2019\n",
              "4           4           4.0        Gonzaga  WCC  ...   7.7         2ND   1.0  2017\n",
              "\n",
              "[5 rows x 26 columns]"
            ]
          },
          "metadata": {
            "tags": []
          },
          "execution_count": 11
        }
      ]
    },
    {
      "cell_type": "code",
      "metadata": {
        "id": "88sgioXwisCi",
        "colab_type": "code",
        "colab": {}
      },
      "source": [
        "train_1 = df_1[df_1['YEAR'] <= 2017]\n",
        "val_1 = df_1[df_1['YEAR'] == 2018]\n",
        "test_1 = df_1[df_1['YEAR'] == 2019]"
      ],
      "execution_count": 12,
      "outputs": []
    },
    {
      "cell_type": "code",
      "metadata": {
        "id": "iSG90rYli3La",
        "colab_type": "code",
        "colab": {
          "base_uri": "https://localhost:8080/",
          "height": 323
        },
        "outputId": "2ac02153-898e-4cb1-cd8f-55890e7146be"
      },
      "source": [
        "train_1['YEAR'] = train_1['YEAR'].astype(str)\n",
        "val_1['YEAR'] = val_1['YEAR'].astype(str)\n",
        "test_1['YEAR'] = test_1['YEAR'].astype(str)"
      ],
      "execution_count": 13,
      "outputs": [
        {
          "output_type": "stream",
          "text": [
            "/usr/local/lib/python3.6/dist-packages/ipykernel_launcher.py:1: SettingWithCopyWarning: \n",
            "A value is trying to be set on a copy of a slice from a DataFrame.\n",
            "Try using .loc[row_indexer,col_indexer] = value instead\n",
            "\n",
            "See the caveats in the documentation: https://pandas.pydata.org/pandas-docs/stable/user_guide/indexing.html#returning-a-view-versus-a-copy\n",
            "  \"\"\"Entry point for launching an IPython kernel.\n",
            "/usr/local/lib/python3.6/dist-packages/ipykernel_launcher.py:2: SettingWithCopyWarning: \n",
            "A value is trying to be set on a copy of a slice from a DataFrame.\n",
            "Try using .loc[row_indexer,col_indexer] = value instead\n",
            "\n",
            "See the caveats in the documentation: https://pandas.pydata.org/pandas-docs/stable/user_guide/indexing.html#returning-a-view-versus-a-copy\n",
            "  \n",
            "/usr/local/lib/python3.6/dist-packages/ipykernel_launcher.py:3: SettingWithCopyWarning: \n",
            "A value is trying to be set on a copy of a slice from a DataFrame.\n",
            "Try using .loc[row_indexer,col_indexer] = value instead\n",
            "\n",
            "See the caveats in the documentation: https://pandas.pydata.org/pandas-docs/stable/user_guide/indexing.html#returning-a-view-versus-a-copy\n",
            "  This is separate from the ipykernel package so we can avoid doing imports until\n"
          ],
          "name": "stderr"
        }
      ]
    },
    {
      "cell_type": "code",
      "metadata": {
        "id": "pPw0Up_pi-py",
        "colab_type": "code",
        "colab": {
          "base_uri": "https://localhost:8080/",
          "height": 323
        },
        "outputId": "49586d4f-a43d-4a45-a109-97e47bd82cda"
      },
      "source": [
        "train_1['ID'] = train_1['TEAM'] + train_1['YEAR']\n",
        "val_1['ID'] = val_1.TEAM + val_1.YEAR\n",
        "test_1['ID'] = test_1.TEAM + test_1.YEAR"
      ],
      "execution_count": 14,
      "outputs": [
        {
          "output_type": "stream",
          "text": [
            "/usr/local/lib/python3.6/dist-packages/ipykernel_launcher.py:1: SettingWithCopyWarning: \n",
            "A value is trying to be set on a copy of a slice from a DataFrame.\n",
            "Try using .loc[row_indexer,col_indexer] = value instead\n",
            "\n",
            "See the caveats in the documentation: https://pandas.pydata.org/pandas-docs/stable/user_guide/indexing.html#returning-a-view-versus-a-copy\n",
            "  \"\"\"Entry point for launching an IPython kernel.\n",
            "/usr/local/lib/python3.6/dist-packages/ipykernel_launcher.py:2: SettingWithCopyWarning: \n",
            "A value is trying to be set on a copy of a slice from a DataFrame.\n",
            "Try using .loc[row_indexer,col_indexer] = value instead\n",
            "\n",
            "See the caveats in the documentation: https://pandas.pydata.org/pandas-docs/stable/user_guide/indexing.html#returning-a-view-versus-a-copy\n",
            "  \n",
            "/usr/local/lib/python3.6/dist-packages/ipykernel_launcher.py:3: SettingWithCopyWarning: \n",
            "A value is trying to be set on a copy of a slice from a DataFrame.\n",
            "Try using .loc[row_indexer,col_indexer] = value instead\n",
            "\n",
            "See the caveats in the documentation: https://pandas.pydata.org/pandas-docs/stable/user_guide/indexing.html#returning-a-view-versus-a-copy\n",
            "  This is separate from the ipykernel package so we can avoid doing imports until\n"
          ],
          "name": "stderr"
        }
      ]
    },
    {
      "cell_type": "code",
      "metadata": {
        "id": "_TlG9nu0jcGY",
        "colab_type": "code",
        "colab": {
          "base_uri": "https://localhost:8080/",
          "height": 252
        },
        "outputId": "8168260d-7062-41bf-e7fd-d2c7a9fcaee8"
      },
      "source": [
        "train_1 = train_1.set_index('ID')\n",
        "val_1 = val_1.set_index('ID')\n",
        "test_1 = test_1.set_index('ID')\n",
        "\n",
        "train_1.head()"
      ],
      "execution_count": 15,
      "outputs": [
        {
          "output_type": "execute_result",
          "data": {
            "text/html": [
              "<div>\n",
              "<style scoped>\n",
              "    .dataframe tbody tr th:only-of-type {\n",
              "        vertical-align: middle;\n",
              "    }\n",
              "\n",
              "    .dataframe tbody tr th {\n",
              "        vertical-align: top;\n",
              "    }\n",
              "\n",
              "    .dataframe thead th {\n",
              "        text-align: right;\n",
              "    }\n",
              "</style>\n",
              "<table border=\"1\" class=\"dataframe\">\n",
              "  <thead>\n",
              "    <tr style=\"text-align: right;\">\n",
              "      <th></th>\n",
              "      <th>Unnamed: 0</th>\n",
              "      <th>Unnamed: 0.1</th>\n",
              "      <th>TEAM</th>\n",
              "      <th>CONF</th>\n",
              "      <th>G</th>\n",
              "      <th>W</th>\n",
              "      <th>ADJOE</th>\n",
              "      <th>ADJDE</th>\n",
              "      <th>BARTHAG</th>\n",
              "      <th>EFG_O</th>\n",
              "      <th>EFG_D</th>\n",
              "      <th>TOR</th>\n",
              "      <th>TORD</th>\n",
              "      <th>ORB</th>\n",
              "      <th>DRB</th>\n",
              "      <th>FTR</th>\n",
              "      <th>FTRD</th>\n",
              "      <th>2P_O</th>\n",
              "      <th>2P_D</th>\n",
              "      <th>3P_O</th>\n",
              "      <th>3P_D</th>\n",
              "      <th>ADJ_T</th>\n",
              "      <th>WAB</th>\n",
              "      <th>POSTSEASON</th>\n",
              "      <th>SEED</th>\n",
              "      <th>YEAR</th>\n",
              "    </tr>\n",
              "    <tr>\n",
              "      <th>ID</th>\n",
              "      <th></th>\n",
              "      <th></th>\n",
              "      <th></th>\n",
              "      <th></th>\n",
              "      <th></th>\n",
              "      <th></th>\n",
              "      <th></th>\n",
              "      <th></th>\n",
              "      <th></th>\n",
              "      <th></th>\n",
              "      <th></th>\n",
              "      <th></th>\n",
              "      <th></th>\n",
              "      <th></th>\n",
              "      <th></th>\n",
              "      <th></th>\n",
              "      <th></th>\n",
              "      <th></th>\n",
              "      <th></th>\n",
              "      <th></th>\n",
              "      <th></th>\n",
              "      <th></th>\n",
              "      <th></th>\n",
              "      <th></th>\n",
              "      <th></th>\n",
              "      <th></th>\n",
              "    </tr>\n",
              "  </thead>\n",
              "  <tbody>\n",
              "    <tr>\n",
              "      <th>NorthCarolina2016</th>\n",
              "      <td>0</td>\n",
              "      <td>0.0</td>\n",
              "      <td>NorthCarolina</td>\n",
              "      <td>ACC</td>\n",
              "      <td>40</td>\n",
              "      <td>33</td>\n",
              "      <td>123.3</td>\n",
              "      <td>94.9</td>\n",
              "      <td>0.9531</td>\n",
              "      <td>52.6</td>\n",
              "      <td>48.1</td>\n",
              "      <td>15.4</td>\n",
              "      <td>18.2</td>\n",
              "      <td>40.7</td>\n",
              "      <td>30.0</td>\n",
              "      <td>32.3</td>\n",
              "      <td>30.4</td>\n",
              "      <td>53.9</td>\n",
              "      <td>44.6</td>\n",
              "      <td>32.7</td>\n",
              "      <td>36.2</td>\n",
              "      <td>71.7</td>\n",
              "      <td>8.6</td>\n",
              "      <td>2ND</td>\n",
              "      <td>1.0</td>\n",
              "      <td>2016</td>\n",
              "    </tr>\n",
              "    <tr>\n",
              "      <th>Wisconsin2015</th>\n",
              "      <td>1</td>\n",
              "      <td>1.0</td>\n",
              "      <td>Wisconsin</td>\n",
              "      <td>B10</td>\n",
              "      <td>40</td>\n",
              "      <td>36</td>\n",
              "      <td>129.1</td>\n",
              "      <td>93.6</td>\n",
              "      <td>0.9758</td>\n",
              "      <td>54.8</td>\n",
              "      <td>47.7</td>\n",
              "      <td>12.4</td>\n",
              "      <td>15.8</td>\n",
              "      <td>32.1</td>\n",
              "      <td>23.7</td>\n",
              "      <td>36.2</td>\n",
              "      <td>22.4</td>\n",
              "      <td>54.8</td>\n",
              "      <td>44.7</td>\n",
              "      <td>36.5</td>\n",
              "      <td>37.5</td>\n",
              "      <td>59.3</td>\n",
              "      <td>11.3</td>\n",
              "      <td>2ND</td>\n",
              "      <td>1.0</td>\n",
              "      <td>2015</td>\n",
              "    </tr>\n",
              "    <tr>\n",
              "      <th>Gonzaga2017</th>\n",
              "      <td>4</td>\n",
              "      <td>4.0</td>\n",
              "      <td>Gonzaga</td>\n",
              "      <td>WCC</td>\n",
              "      <td>39</td>\n",
              "      <td>37</td>\n",
              "      <td>117.8</td>\n",
              "      <td>86.3</td>\n",
              "      <td>0.9728</td>\n",
              "      <td>56.6</td>\n",
              "      <td>41.1</td>\n",
              "      <td>16.2</td>\n",
              "      <td>17.1</td>\n",
              "      <td>30.0</td>\n",
              "      <td>26.2</td>\n",
              "      <td>39.0</td>\n",
              "      <td>26.9</td>\n",
              "      <td>56.3</td>\n",
              "      <td>40.0</td>\n",
              "      <td>38.2</td>\n",
              "      <td>29.0</td>\n",
              "      <td>71.5</td>\n",
              "      <td>7.7</td>\n",
              "      <td>2ND</td>\n",
              "      <td>1.0</td>\n",
              "      <td>2017</td>\n",
              "    </tr>\n",
              "    <tr>\n",
              "      <th>Duke2015</th>\n",
              "      <td>5</td>\n",
              "      <td>5.0</td>\n",
              "      <td>Duke</td>\n",
              "      <td>ACC</td>\n",
              "      <td>39</td>\n",
              "      <td>35</td>\n",
              "      <td>125.2</td>\n",
              "      <td>90.6</td>\n",
              "      <td>0.9764</td>\n",
              "      <td>56.6</td>\n",
              "      <td>46.5</td>\n",
              "      <td>16.3</td>\n",
              "      <td>18.6</td>\n",
              "      <td>35.8</td>\n",
              "      <td>30.2</td>\n",
              "      <td>39.8</td>\n",
              "      <td>23.9</td>\n",
              "      <td>55.9</td>\n",
              "      <td>46.3</td>\n",
              "      <td>38.7</td>\n",
              "      <td>31.4</td>\n",
              "      <td>66.4</td>\n",
              "      <td>10.7</td>\n",
              "      <td>Champions</td>\n",
              "      <td>1.0</td>\n",
              "      <td>2015</td>\n",
              "    </tr>\n",
              "    <tr>\n",
              "      <th>NorthCarolina2017</th>\n",
              "      <td>7</td>\n",
              "      <td>7.0</td>\n",
              "      <td>NorthCarolina</td>\n",
              "      <td>ACC</td>\n",
              "      <td>39</td>\n",
              "      <td>33</td>\n",
              "      <td>121.0</td>\n",
              "      <td>91.5</td>\n",
              "      <td>0.9615</td>\n",
              "      <td>51.7</td>\n",
              "      <td>48.1</td>\n",
              "      <td>16.2</td>\n",
              "      <td>18.6</td>\n",
              "      <td>41.3</td>\n",
              "      <td>25.0</td>\n",
              "      <td>34.3</td>\n",
              "      <td>31.6</td>\n",
              "      <td>51.0</td>\n",
              "      <td>46.3</td>\n",
              "      <td>35.5</td>\n",
              "      <td>33.9</td>\n",
              "      <td>72.8</td>\n",
              "      <td>8.4</td>\n",
              "      <td>Champions</td>\n",
              "      <td>1.0</td>\n",
              "      <td>2017</td>\n",
              "    </tr>\n",
              "  </tbody>\n",
              "</table>\n",
              "</div>"
            ],
            "text/plain": [
              "                   Unnamed: 0  Unnamed: 0.1  ... SEED  YEAR\n",
              "ID                                           ...           \n",
              "NorthCarolina2016           0           0.0  ...  1.0  2016\n",
              "Wisconsin2015               1           1.0  ...  1.0  2015\n",
              "Gonzaga2017                 4           4.0  ...  1.0  2017\n",
              "Duke2015                    5           5.0  ...  1.0  2015\n",
              "NorthCarolina2017           7           7.0  ...  1.0  2017\n",
              "\n",
              "[5 rows x 26 columns]"
            ]
          },
          "metadata": {
            "tags": []
          },
          "execution_count": 15
        }
      ]
    },
    {
      "cell_type": "code",
      "metadata": {
        "id": "YerJCPMwjjKK",
        "colab_type": "code",
        "colab": {}
      },
      "source": [
        "X_train_1 = train_1.drop([target, 'TEAM', 'YEAR', 'SEED', 'Unnamed: 0', 'Unnamed: 0.1'], axis=1)\n",
        "y_train_1 = train_1[target]\n",
        "\n",
        "X_val_1 = val_1.drop([target, 'TEAM', 'YEAR', 'SEED', 'Unnamed: 0', 'Unnamed: 0.1'], axis=1)\n",
        "y_val_1 = val_1[target]\n",
        "\n",
        "X_test_1 = test_1.drop([target, 'TEAM', 'YEAR', 'SEED', 'Unnamed: 0', 'Unnamed: 0.1'], axis=1)\n",
        "y_test_1 = test_1[target]"
      ],
      "execution_count": 16,
      "outputs": []
    },
    {
      "cell_type": "markdown",
      "metadata": {
        "id": "zeVrASPLjy25",
        "colab_type": "text"
      },
      "source": [
        "#New Baseline"
      ]
    },
    {
      "cell_type": "code",
      "metadata": {
        "id": "hrOQr9mEj0kt",
        "colab_type": "code",
        "colab": {
          "base_uri": "https://localhost:8080/",
          "height": 34
        },
        "outputId": "981e4a03-a0c0-4619-8f03-f7cb2653303f"
      },
      "source": [
        "baseline_1 = y_train_1.value_counts(normalize=True).max()\n",
        "print('Baseline Accuracy:', baseline_1)"
      ],
      "execution_count": 51,
      "outputs": [
        {
          "output_type": "stream",
          "text": [
            "Baseline Accuracy: 0.4731977818853974\n"
          ],
          "name": "stdout"
        }
      ]
    },
    {
      "cell_type": "markdown",
      "metadata": {
        "id": "KcAXZT9Xj7Lu",
        "colab_type": "text"
      },
      "source": [
        "#Build model_7"
      ]
    },
    {
      "cell_type": "code",
      "metadata": {
        "id": "O_4LDSHHj8-e",
        "colab_type": "code",
        "colab": {
          "base_uri": "https://localhost:8080/",
          "height": 68
        },
        "outputId": "acdd9c18-12ac-4f8e-b29a-98d64bd92b3c"
      },
      "source": [
        "model_7 = make_pipeline(\n",
        "    OrdinalEncoder(),\n",
        "    SimpleImputer(),\n",
        "    RandomForestClassifier(random_state=42, n_estimators=500, max_depth=5, max_features=None)\n",
        ")\n",
        "\n",
        "model_7.fit(X_train_1, y_train_1)\n",
        "print('Training accuracy:', model_7.score(X_train_1, y_train_1))\n",
        "print('Validation accuracy:', model_7.score(X_val_1, y_val_1))\n",
        "print('Test Accuracy', accuracy_score(y_test_1, model_7.predict(X_test_1)))"
      ],
      "execution_count": null,
      "outputs": [
        {
          "output_type": "stream",
          "text": [
            "Training accuracy: 0.7966728280961183\n",
            "Validation accuracy: 0.6617647058823529\n",
            "Test Accuracy 0.5882352941176471\n"
          ],
          "name": "stdout"
        }
      ]
    },
    {
      "cell_type": "markdown",
      "metadata": {
        "id": "YIo_4JOikSFY",
        "colab_type": "text"
      },
      "source": [
        "#Build model_8"
      ]
    },
    {
      "cell_type": "code",
      "metadata": {
        "id": "9DnhMpQakUpO",
        "colab_type": "code",
        "colab": {
          "base_uri": "https://localhost:8080/",
          "height": 68
        },
        "outputId": "4f30b81a-6f67-42e6-e9bd-ce215e438046"
      },
      "source": [
        "model_8 = make_pipeline(\n",
        "    OrdinalEncoder(),\n",
        "    SimpleImputer(),\n",
        "    RandomForestClassifier(random_state=42, n_estimators=80, max_depth=4, max_features=None)\n",
        ")\n",
        "\n",
        "model_8.fit(X_train_1, y_train_1)\n",
        "print('Training accuracy:', model_8.score(X_train_1, y_train_1))\n",
        "print('Validation accuracy:', model_8.score(X_val_1, y_val_1))\n",
        "print('Test Accuracy', accuracy_score(y_test_1, model_8.predict(X_test_1)))"
      ],
      "execution_count": null,
      "outputs": [
        {
          "output_type": "stream",
          "text": [
            "Training accuracy: 0.7060998151571165\n",
            "Validation accuracy: 0.6617647058823529\n",
            "Test Accuracy 0.5441176470588235\n"
          ],
          "name": "stdout"
        }
      ]
    },
    {
      "cell_type": "markdown",
      "metadata": {
        "id": "EWIQgg4ykrfw",
        "colab_type": "text"
      },
      "source": [
        "#Tune model"
      ]
    },
    {
      "cell_type": "code",
      "metadata": {
        "id": "3fw_mC9Sks4o",
        "colab_type": "code",
        "colab": {}
      },
      "source": [
        "model_9 = make_pipeline(\n",
        "    OrdinalEncoder(),\n",
        "    RandomForestClassifier(random_state=42, n_estimators=80, max_depth=4, max_features=None)\n",
        ")\n",
        "\n",
        "params = {'randomforestclassifier__n_estimators': range(100, 300, 50),\n",
        "          'randomforestclassifier__max_depth': range(10, 20, 2),\n",
        "          'randomforestclassifier__max_features': ['sqrt', 'log2', None]\n",
        "}\n",
        "\n",
        "gs = GridSearchCV(model_9, param_grid=params, n_jobs=-1, verbose=1, cv=5, scoring='accuracy')"
      ],
      "execution_count": null,
      "outputs": []
    },
    {
      "cell_type": "code",
      "metadata": {
        "id": "blwZxMPHlCWK",
        "colab_type": "code",
        "colab": {
          "base_uri": "https://localhost:8080/",
          "height": 595
        },
        "outputId": "2d2544a3-ec2e-406a-956d-a3d226041943"
      },
      "source": [
        "gs.fit(X_train_1, y_train_1)"
      ],
      "execution_count": null,
      "outputs": [
        {
          "output_type": "stream",
          "text": [
            "Fitting 5 folds for each of 60 candidates, totalling 300 fits\n"
          ],
          "name": "stdout"
        },
        {
          "output_type": "stream",
          "text": [
            "[Parallel(n_jobs=-1)]: Using backend LokyBackend with 2 concurrent workers.\n",
            "[Parallel(n_jobs=-1)]: Done  46 tasks      | elapsed:   18.1s\n",
            "[Parallel(n_jobs=-1)]: Done 196 tasks      | elapsed:  1.5min\n",
            "[Parallel(n_jobs=-1)]: Done 300 out of 300 | elapsed:  2.3min finished\n"
          ],
          "name": "stderr"
        },
        {
          "output_type": "execute_result",
          "data": {
            "text/plain": [
              "GridSearchCV(cv=5, error_score=nan,\n",
              "             estimator=Pipeline(memory=None,\n",
              "                                steps=[('ordinalencoder',\n",
              "                                        OrdinalEncoder(cols=None,\n",
              "                                                       drop_invariant=False,\n",
              "                                                       handle_missing='value',\n",
              "                                                       handle_unknown='value',\n",
              "                                                       mapping=None,\n",
              "                                                       return_df=True,\n",
              "                                                       verbose=0)),\n",
              "                                       ('randomforestclassifier',\n",
              "                                        RandomForestClassifier(bootstrap=True,\n",
              "                                                               ccp_alpha=0.0,\n",
              "                                                               class_weight=None,\n",
              "                                                               criterion='gini',\n",
              "                                                               max_depth=4,\n",
              "                                                               max...\n",
              "                                                               random_state=42,\n",
              "                                                               verbose=0,\n",
              "                                                               warm_start=False))],\n",
              "                                verbose=False),\n",
              "             iid='deprecated', n_jobs=-1,\n",
              "             param_grid={'randomforestclassifier__max_depth': range(10, 20, 2),\n",
              "                         'randomforestclassifier__max_features': ['sqrt',\n",
              "                                                                  'log2',\n",
              "                                                                  None],\n",
              "                         'randomforestclassifier__n_estimators': range(100, 300, 50)},\n",
              "             pre_dispatch='2*n_jobs', refit=True, return_train_score=False,\n",
              "             scoring='accuracy', verbose=1)"
            ]
          },
          "metadata": {
            "tags": []
          },
          "execution_count": 43
        }
      ]
    },
    {
      "cell_type": "code",
      "metadata": {
        "id": "_PBXs7AhlqIj",
        "colab_type": "code",
        "colab": {
          "base_uri": "https://localhost:8080/",
          "height": 68
        },
        "outputId": "840d5034-b6d8-448a-feec-c1d336c694c9"
      },
      "source": [
        "gs.best_params_"
      ],
      "execution_count": null,
      "outputs": [
        {
          "output_type": "execute_result",
          "data": {
            "text/plain": [
              "{'randomforestclassifier__max_depth': 10,\n",
              " 'randomforestclassifier__max_features': 'sqrt',\n",
              " 'randomforestclassifier__n_estimators': 100}"
            ]
          },
          "metadata": {
            "tags": []
          },
          "execution_count": 44
        }
      ]
    },
    {
      "cell_type": "markdown",
      "metadata": {
        "id": "ucTEZ_x3mAFd",
        "colab_type": "text"
      },
      "source": [
        "#Build model_9"
      ]
    },
    {
      "cell_type": "code",
      "metadata": {
        "id": "iU5jDPxZltA5",
        "colab_type": "code",
        "colab": {
          "base_uri": "https://localhost:8080/",
          "height": 68
        },
        "outputId": "5a2c41af-9db7-4cb1-d0c9-0edfeb7b435f"
      },
      "source": [
        "model_9 = make_pipeline(\n",
        "    OrdinalEncoder(),\n",
        "    RandomForestClassifier(random_state=42, n_estimators=100, max_depth=4, max_features='sqrt')\n",
        ")\n",
        "model_9.fit(X_train_1, y_train_1)\n",
        "print('Training accuracy:', model_9.score(X_train_1, y_train_1))\n",
        "print('Validation accuracy:', model_9.score(X_val_1, y_val_1))\n",
        "print('Test Accuracy', accuracy_score(y_test_1, model_9.predict(X_test_1)))"
      ],
      "execution_count": null,
      "outputs": [
        {
          "output_type": "stream",
          "text": [
            "Training accuracy: 0.6635859519408502\n",
            "Validation accuracy: 0.6029411764705882\n",
            "Test Accuracy 0.5294117647058824\n"
          ],
          "name": "stdout"
        }
      ]
    },
    {
      "cell_type": "markdown",
      "metadata": {
        "id": "eJriFMKSmELv",
        "colab_type": "text"
      },
      "source": [
        "#More tuning"
      ]
    },
    {
      "cell_type": "code",
      "metadata": {
        "id": "mVVhd299mH55",
        "colab_type": "code",
        "colab": {}
      },
      "source": [
        "model_10 = make_pipeline(\n",
        "    OrdinalEncoder(),\n",
        "    RandomForestClassifier()\n",
        ")\n",
        "\n",
        "params = {'randomforestclassifier__n_estimators': range(0, 100, 10),\n",
        "          'randomforestclassifier__max_depth': range(0, 11),\n",
        "          'randomforestclassifier__max_features': ['sqrt', 'log2', None]\n",
        "}\n",
        "\n",
        "gs = GridSearchCV(model_10, param_grid=params, n_jobs=-1, verbose=1, cv=5, scoring='accuracy')"
      ],
      "execution_count": null,
      "outputs": []
    },
    {
      "cell_type": "code",
      "metadata": {
        "id": "-RTXQZi9mY0Y",
        "colab_type": "code",
        "colab": {
          "base_uri": "https://localhost:8080/",
          "height": 170
        },
        "outputId": "f2274210-c064-4fea-a026-cc5ed448c40c"
      },
      "source": [
        "gs.fit(X_train_1, y_train_1)\n",
        "gs.best_params_"
      ],
      "execution_count": null,
      "outputs": [
        {
          "output_type": "stream",
          "text": [
            "Fitting 5 folds for each of 330 candidates, totalling 1650 fits\n"
          ],
          "name": "stdout"
        },
        {
          "output_type": "stream",
          "text": [
            "[Parallel(n_jobs=-1)]: Using backend LokyBackend with 2 concurrent workers.\n",
            "[Parallel(n_jobs=-1)]: Done 164 tasks      | elapsed:    5.0s\n",
            "[Parallel(n_jobs=-1)]: Done 650 tasks      | elapsed:   46.7s\n",
            "[Parallel(n_jobs=-1)]: Done 1138 tasks      | elapsed:  1.6min\n",
            "[Parallel(n_jobs=-1)]: Done 1650 out of 1650 | elapsed:  2.8min finished\n"
          ],
          "name": "stderr"
        },
        {
          "output_type": "execute_result",
          "data": {
            "text/plain": [
              "{'randomforestclassifier__max_depth': 3,\n",
              " 'randomforestclassifier__max_features': None,\n",
              " 'randomforestclassifier__n_estimators': 50}"
            ]
          },
          "metadata": {
            "tags": []
          },
          "execution_count": 48
        }
      ]
    },
    {
      "cell_type": "markdown",
      "metadata": {
        "id": "th6zDD82nYFl",
        "colab_type": "text"
      },
      "source": [
        "#Build model_10"
      ]
    },
    {
      "cell_type": "code",
      "metadata": {
        "id": "n2kO5L7fnHfN",
        "colab_type": "code",
        "colab": {
          "base_uri": "https://localhost:8080/",
          "height": 68
        },
        "outputId": "52ff0e1f-1a5c-4725-c680-fa1307c2653e"
      },
      "source": [
        "model_10 = make_pipeline(\n",
        "    OrdinalEncoder(),\n",
        "    RandomForestClassifier(n_estimators=50, max_features=None, max_depth=3, random_state=42)\n",
        ")\n",
        "model_10.fit(X_train_1, y_train_1)\n",
        "print('Training accuracy:', model_10.score(X_train_1, y_train_1))\n",
        "print('Validation accuracy:', model_10.score(X_val_1, y_val_1))\n",
        "print('Test Accuracy', accuracy_score(y_test_1, model_10.predict(X_test_1)))"
      ],
      "execution_count": null,
      "outputs": [
        {
          "output_type": "stream",
          "text": [
            "Training accuracy: 0.6543438077634011\n",
            "Validation accuracy: 0.6470588235294118\n",
            "Test Accuracy 0.5735294117647058\n"
          ],
          "name": "stdout"
        }
      ]
    },
    {
      "cell_type": "markdown",
      "metadata": {
        "id": "yhRyf1UondUo",
        "colab_type": "text"
      },
      "source": [
        "#Further tuning"
      ]
    },
    {
      "cell_type": "code",
      "metadata": {
        "id": "54xw7knwnfqP",
        "colab_type": "code",
        "colab": {}
      },
      "source": [
        "model_11 = make_pipeline(\n",
        "    OrdinalEncoder(),\n",
        "    RandomForestClassifier()\n",
        ")\n",
        "\n",
        "params = {'randomforestclassifier__n_estimators': range(25, 75, 5),\n",
        "          'randomforestclassifier__max_depth': range(0, 11),\n",
        "          'randomforestclassifier__max_features': ['sqrt', 'log2', None]\n",
        "}\n",
        "gs = GridSearchCV(model_11, param_grid=params, n_jobs=-1, verbose=1, cv=5, scoring='accuracy')"
      ],
      "execution_count": null,
      "outputs": []
    },
    {
      "cell_type": "code",
      "metadata": {
        "id": "0pNn6ml-nv4J",
        "colab_type": "code",
        "colab": {
          "base_uri": "https://localhost:8080/",
          "height": 187
        },
        "outputId": "d88cc115-d9f8-4012-ff19-db676678e07f"
      },
      "source": [
        "gs.fit(X_train_1, y_train_1)\n",
        "gs.best_params_"
      ],
      "execution_count": null,
      "outputs": [
        {
          "output_type": "stream",
          "text": [
            "Fitting 5 folds for each of 330 candidates, totalling 1650 fits\n"
          ],
          "name": "stdout"
        },
        {
          "output_type": "stream",
          "text": [
            "[Parallel(n_jobs=-1)]: Using backend LokyBackend with 2 concurrent workers.\n",
            "[Parallel(n_jobs=-1)]: Done 164 tasks      | elapsed:    5.7s\n",
            "[Parallel(n_jobs=-1)]: Done 656 tasks      | elapsed:   49.6s\n",
            "[Parallel(n_jobs=-1)]: Done 906 tasks      | elapsed:  1.3min\n",
            "[Parallel(n_jobs=-1)]: Done 1256 tasks      | elapsed:  2.0min\n",
            "[Parallel(n_jobs=-1)]: Done 1650 out of 1650 | elapsed:  2.9min finished\n"
          ],
          "name": "stderr"
        },
        {
          "output_type": "execute_result",
          "data": {
            "text/plain": [
              "{'randomforestclassifier__max_depth': 3,\n",
              " 'randomforestclassifier__max_features': None,\n",
              " 'randomforestclassifier__n_estimators': 40}"
            ]
          },
          "metadata": {
            "tags": []
          },
          "execution_count": 52
        }
      ]
    },
    {
      "cell_type": "markdown",
      "metadata": {
        "id": "EewkFXI4ofcT",
        "colab_type": "text"
      },
      "source": [
        "#Build model_11"
      ]
    },
    {
      "cell_type": "code",
      "metadata": {
        "id": "8L6nVCvmohJq",
        "colab_type": "code",
        "colab": {
          "base_uri": "https://localhost:8080/",
          "height": 68
        },
        "outputId": "46230b7b-40e4-42f3-a11c-f2c0d2d04a35"
      },
      "source": [
        "model_11 = make_pipeline(\n",
        "    OrdinalEncoder(),\n",
        "    RandomForestClassifier(n_estimators=40, max_features=None, max_depth=3, random_state=42)\n",
        ")\n",
        "model_11.fit(X_train_1, y_train_1)\n",
        "print('Training accuracy:', model_11.score(X_train_1, y_train_1))\n",
        "print('Validation accuracy:', model_11.score(X_val_1, y_val_1))\n",
        "print('Test Accuracy', accuracy_score(y_test_1, model_11.predict(X_test_1)))"
      ],
      "execution_count": null,
      "outputs": [
        {
          "output_type": "stream",
          "text": [
            "Training accuracy: 0.6487985212569316\n",
            "Validation accuracy: 0.6470588235294118\n",
            "Test Accuracy 0.5588235294117647\n"
          ],
          "name": "stdout"
        }
      ]
    },
    {
      "cell_type": "markdown",
      "metadata": {
        "id": "NnRU6OegotJr",
        "colab_type": "text"
      },
      "source": [
        "#Build model_12\n"
      ]
    },
    {
      "cell_type": "code",
      "metadata": {
        "id": "KehV9Tprov-8",
        "colab_type": "code",
        "colab": {
          "base_uri": "https://localhost:8080/",
          "height": 68
        },
        "outputId": "198fc92a-62f1-4740-dccd-f7f8f842713a"
      },
      "source": [
        "model_12 = make_pipeline(\n",
        "    OrdinalEncoder(),\n",
        "    RandomForestClassifier(n_estimators=300, max_features='sqrt')\n",
        ")\n",
        "model_12.fit(X_train_1, y_train_1)\n",
        "print('Training accuracy:', model_12.score(X_train_1, y_train_1))\n",
        "print('Validation accuracy:', model_12.score(X_val_1, y_val_1))\n",
        "print('Test Accuracy', accuracy_score(y_test_1, model_12.predict(X_test_1)))"
      ],
      "execution_count": null,
      "outputs": [
        {
          "output_type": "stream",
          "text": [
            "Training accuracy: 1.0\n",
            "Validation accuracy: 0.5588235294117647\n",
            "Test Accuracy 0.5441176470588235\n"
          ],
          "name": "stdout"
        }
      ]
    },
    {
      "cell_type": "markdown",
      "metadata": {
        "id": "X8DpNTDco7oF",
        "colab_type": "text"
      },
      "source": [
        "#Test accuracies"
      ]
    },
    {
      "cell_type": "code",
      "metadata": {
        "id": "P-wARzLjo9s7",
        "colab_type": "code",
        "colab": {
          "base_uri": "https://localhost:8080/",
          "height": 119
        },
        "outputId": "d3fb0cd3-51e7-45bc-ee0c-964880cee47d"
      },
      "source": [
        "print('Model_7 Test Accuracy', accuracy_score(y_test_1, model_7.predict(X_test_1)))\n",
        "print('Model_8 Test Accuracy', accuracy_score(y_test_1, model_8.predict(X_test_1)))\n",
        "print('Model_9 Test Accuracy', accuracy_score(y_test_1, model_9.predict(X_test_1)))\n",
        "print('Model_10 Test Accuracy', accuracy_score(y_test_1, model_10.predict(X_test_1)))\n",
        "print('Model_11 Test Accuracy', accuracy_score(y_test_1, model_11.predict(X_test_1)))\n",
        "print('Model_12 Test Accuracy', accuracy_score(y_test_1, model_12.predict(X_test_1)))"
      ],
      "execution_count": null,
      "outputs": [
        {
          "output_type": "stream",
          "text": [
            "Model_7 Test Accuracy 0.5882352941176471\n",
            "Model_8 Test Accuracy 0.5441176470588235\n",
            "Model_9 Test Accuracy 0.5294117647058824\n",
            "Model_10 Test Accuracy 0.5735294117647058\n",
            "Model_11 Test Accuracy 0.5588235294117647\n",
            "Model_12 Test Accuracy 0.5441176470588235\n"
          ],
          "name": "stdout"
        }
      ]
    },
    {
      "cell_type": "markdown",
      "metadata": {
        "id": "PFlutb8iprib",
        "colab_type": "text"
      },
      "source": [
        "#Look at new predictions"
      ]
    },
    {
      "cell_type": "code",
      "metadata": {
        "id": "0NavhcXFptbz",
        "colab_type": "code",
        "colab": {
          "base_uri": "https://localhost:8080/",
          "height": 235
        },
        "outputId": "4620a577-bb2e-4b7d-8f7b-e26bc30945ba"
      },
      "source": [
        "predictions_2019_v2 = pd.DataFrame(model_7.predict(X_test_1), index=X_test_1.index, columns=['prediction'])\n",
        "predictions_2019_v2 = pd.concat([predictions_2019_v2, y_test_1], axis=1)\n",
        "predictions_2019_v2.head()"
      ],
      "execution_count": null,
      "outputs": [
        {
          "output_type": "execute_result",
          "data": {
            "text/html": [
              "<div>\n",
              "<style scoped>\n",
              "    .dataframe tbody tr th:only-of-type {\n",
              "        vertical-align: middle;\n",
              "    }\n",
              "\n",
              "    .dataframe tbody tr th {\n",
              "        vertical-align: top;\n",
              "    }\n",
              "\n",
              "    .dataframe thead th {\n",
              "        text-align: right;\n",
              "    }\n",
              "</style>\n",
              "<table border=\"1\" class=\"dataframe\">\n",
              "  <thead>\n",
              "    <tr style=\"text-align: right;\">\n",
              "      <th></th>\n",
              "      <th>prediction</th>\n",
              "      <th>POSTSEASON</th>\n",
              "    </tr>\n",
              "    <tr>\n",
              "      <th>ID</th>\n",
              "      <th></th>\n",
              "      <th></th>\n",
              "    </tr>\n",
              "  </thead>\n",
              "  <tbody>\n",
              "    <tr>\n",
              "      <th>TexasTech2019</th>\n",
              "      <td>E8</td>\n",
              "      <td>2ND</td>\n",
              "    </tr>\n",
              "    <tr>\n",
              "      <th>Virginia2019</th>\n",
              "      <td>E8</td>\n",
              "      <td>Champions</td>\n",
              "    </tr>\n",
              "    <tr>\n",
              "      <th>Duke2019</th>\n",
              "      <td>E8</td>\n",
              "      <td>E8</td>\n",
              "    </tr>\n",
              "    <tr>\n",
              "      <th>Purdue2019</th>\n",
              "      <td>R32</td>\n",
              "      <td>E8</td>\n",
              "    </tr>\n",
              "    <tr>\n",
              "      <th>Kentucky2019</th>\n",
              "      <td>E8</td>\n",
              "      <td>E8</td>\n",
              "    </tr>\n",
              "  </tbody>\n",
              "</table>\n",
              "</div>"
            ],
            "text/plain": [
              "              prediction POSTSEASON\n",
              "ID                                 \n",
              "TexasTech2019         E8        2ND\n",
              "Virginia2019          E8  Champions\n",
              "Duke2019              E8         E8\n",
              "Purdue2019           R32         E8\n",
              "Kentucky2019          E8         E8"
            ]
          },
          "metadata": {
            "tags": []
          },
          "execution_count": 59
        }
      ]
    },
    {
      "cell_type": "code",
      "metadata": {
        "id": "iwCrx6KnqECJ",
        "colab_type": "code",
        "colab": {}
      },
      "source": [
        "predictions_2019_v2.to_csv('predictions_v2.csv')"
      ],
      "execution_count": null,
      "outputs": []
    },
    {
      "cell_type": "code",
      "metadata": {
        "id": "eLDwvthJqbU1",
        "colab_type": "code",
        "colab": {
          "base_uri": "https://localhost:8080/",
          "height": 136
        },
        "outputId": "b5612b98-3325-450c-aeeb-1b371b4c0345"
      },
      "source": [
        "predictions_2019_v2['prediction'].value_counts()"
      ],
      "execution_count": null,
      "outputs": [
        {
          "output_type": "execute_result",
          "data": {
            "text/plain": [
              "R64    41\n",
              "R32    16\n",
              "E8      8\n",
              "2ND     1\n",
              "S16     1\n",
              "F4      1\n",
              "Name: prediction, dtype: int64"
            ]
          },
          "metadata": {
            "tags": []
          },
          "execution_count": 61
        }
      ]
    },
    {
      "cell_type": "markdown",
      "metadata": {
        "id": "PKEM_UpBrC9S",
        "colab_type": "text"
      },
      "source": [
        "#Build model_13"
      ]
    },
    {
      "cell_type": "code",
      "metadata": {
        "id": "hVfGXTqVrE6E",
        "colab_type": "code",
        "colab": {
          "base_uri": "https://localhost:8080/",
          "height": 68
        },
        "outputId": "0bb10233-0454-4884-fe9e-9d91549ade06"
      },
      "source": [
        "model_13 = make_pipeline(\n",
        "    OrdinalEncoder(),\n",
        "    RandomForestClassifier(random_state=42, n_estimators=500, max_depth=5, max_features=None, criterion='entropy')\n",
        ")\n",
        "\n",
        "model_13.fit(X_train_1, y_train_1)\n",
        "print('Training accuracy:', model_13.score(X_train_1, y_train_1))\n",
        "print('Validation accuracy:', model_13.score(X_val_1, y_val_1))\n",
        "print('Test Accuracy', accuracy_score(y_test_1, model_13.predict(X_test_1)))"
      ],
      "execution_count": null,
      "outputs": [
        {
          "output_type": "stream",
          "text": [
            "Training accuracy: 0.7929759704251387\n",
            "Validation accuracy: 0.5882352941176471\n",
            "Test Accuracy 0.6029411764705882\n"
          ],
          "name": "stdout"
        }
      ]
    },
    {
      "cell_type": "code",
      "metadata": {
        "id": "vmKiIf9IrZs0",
        "colab_type": "code",
        "colab": {
          "base_uri": "https://localhost:8080/",
          "height": 235
        },
        "outputId": "1247b466-7bf3-41fb-a824-a7a619259ca0"
      },
      "source": [
        "predictions_2019_v3 = pd.DataFrame(model_13.predict(X_test_1), index=X_test_1.index, columns=['prediction'])\n",
        "predictions_2019_v3 = pd.concat([predictions_2019_v3, y_test_1], axis=1)\n",
        "predictions_2019_v3.head()"
      ],
      "execution_count": null,
      "outputs": [
        {
          "output_type": "execute_result",
          "data": {
            "text/html": [
              "<div>\n",
              "<style scoped>\n",
              "    .dataframe tbody tr th:only-of-type {\n",
              "        vertical-align: middle;\n",
              "    }\n",
              "\n",
              "    .dataframe tbody tr th {\n",
              "        vertical-align: top;\n",
              "    }\n",
              "\n",
              "    .dataframe thead th {\n",
              "        text-align: right;\n",
              "    }\n",
              "</style>\n",
              "<table border=\"1\" class=\"dataframe\">\n",
              "  <thead>\n",
              "    <tr style=\"text-align: right;\">\n",
              "      <th></th>\n",
              "      <th>prediction</th>\n",
              "      <th>POSTSEASON</th>\n",
              "    </tr>\n",
              "    <tr>\n",
              "      <th>ID</th>\n",
              "      <th></th>\n",
              "      <th></th>\n",
              "    </tr>\n",
              "  </thead>\n",
              "  <tbody>\n",
              "    <tr>\n",
              "      <th>TexasTech2019</th>\n",
              "      <td>E8</td>\n",
              "      <td>2ND</td>\n",
              "    </tr>\n",
              "    <tr>\n",
              "      <th>Virginia2019</th>\n",
              "      <td>E8</td>\n",
              "      <td>Champions</td>\n",
              "    </tr>\n",
              "    <tr>\n",
              "      <th>Duke2019</th>\n",
              "      <td>E8</td>\n",
              "      <td>E8</td>\n",
              "    </tr>\n",
              "    <tr>\n",
              "      <th>Purdue2019</th>\n",
              "      <td>R32</td>\n",
              "      <td>E8</td>\n",
              "    </tr>\n",
              "    <tr>\n",
              "      <th>Kentucky2019</th>\n",
              "      <td>E8</td>\n",
              "      <td>E8</td>\n",
              "    </tr>\n",
              "  </tbody>\n",
              "</table>\n",
              "</div>"
            ],
            "text/plain": [
              "              prediction POSTSEASON\n",
              "ID                                 \n",
              "TexasTech2019         E8        2ND\n",
              "Virginia2019          E8  Champions\n",
              "Duke2019              E8         E8\n",
              "Purdue2019           R32         E8\n",
              "Kentucky2019          E8         E8"
            ]
          },
          "metadata": {
            "tags": []
          },
          "execution_count": 69
        }
      ]
    },
    {
      "cell_type": "code",
      "metadata": {
        "id": "y_OKmyfkrhUx",
        "colab_type": "code",
        "colab": {
          "base_uri": "https://localhost:8080/",
          "height": 136
        },
        "outputId": "763844a4-7673-44d0-ec5a-6aba8abfb5ab"
      },
      "source": [
        "predictions_2019_v3['prediction'].value_counts()"
      ],
      "execution_count": null,
      "outputs": [
        {
          "output_type": "execute_result",
          "data": {
            "text/plain": [
              "R64    41\n",
              "R32    16\n",
              "E8      7\n",
              "S16     2\n",
              "2ND     1\n",
              "F4      1\n",
              "Name: prediction, dtype: int64"
            ]
          },
          "metadata": {
            "tags": []
          },
          "execution_count": 70
        }
      ]
    },
    {
      "cell_type": "markdown",
      "metadata": {
        "id": "Q47m5FHcyIs1",
        "colab_type": "text"
      },
      "source": [
        "#Build model_14"
      ]
    },
    {
      "cell_type": "code",
      "metadata": {
        "id": "THfw0avYsC7l",
        "colab_type": "code",
        "colab": {
          "base_uri": "https://localhost:8080/",
          "height": 68
        },
        "outputId": "f9f55f57-f68e-4faf-a2ec-4b4dbc35dc31"
      },
      "source": [
        "model_14 = make_pipeline(\n",
        "    OrdinalEncoder(),\n",
        "    RandomForestClassifier(random_state=42, criterion='entropy')\n",
        ")\n",
        "\n",
        "model_14.fit(X_train_1, y_train_1)\n",
        "print('Training accuracy:', model_14.score(X_train_1, y_train_1))\n",
        "print('Validation accuracy:', model_14.score(X_val_1, y_val_1))\n",
        "print('Test Accuracy', accuracy_score(y_test_1, model_14.predict(X_test_1)))"
      ],
      "execution_count": null,
      "outputs": [
        {
          "output_type": "stream",
          "text": [
            "Training accuracy: 1.0\n",
            "Validation accuracy: 0.5441176470588235\n",
            "Test Accuracy 0.5588235294117647\n"
          ],
          "name": "stdout"
        }
      ]
    },
    {
      "cell_type": "markdown",
      "metadata": {
        "id": "nlUQOSQ2yPxT",
        "colab_type": "text"
      },
      "source": [
        "#Tune model"
      ]
    },
    {
      "cell_type": "code",
      "metadata": {
        "id": "dNDmfqaesWV_",
        "colab_type": "code",
        "colab": {}
      },
      "source": [
        "model_14 = make_pipeline(\n",
        "    OrdinalEncoder(),\n",
        "    RandomForestClassifier(random_state=42, criterion='entropy')\n",
        ")\n",
        "params = {'randomforestclassifier__n_estimators': range(0, 300, 10),\n",
        "          'randomforestclassifier__max_depth': range(0, 20, 2),\n",
        "          'randomforestclassifier__max_features': ['sqrt', 'log2', None]\n",
        "}\n",
        "\n",
        "gs = GridSearchCV(model_14, param_grid=params, n_jobs=-1, verbose=1, cv=5, scoring='accuracy')"
      ],
      "execution_count": null,
      "outputs": []
    },
    {
      "cell_type": "code",
      "metadata": {
        "id": "ns-VRlU6smDL",
        "colab_type": "code",
        "colab": {
          "base_uri": "https://localhost:8080/",
          "height": 187
        },
        "outputId": "123455aa-244d-40be-9484-7cf3dba44d1a"
      },
      "source": [
        "gs.fit(X_train_1, y_train_1)\n",
        "gs.best_params_"
      ],
      "execution_count": null,
      "outputs": [
        {
          "output_type": "stream",
          "text": [
            "[Parallel(n_jobs=-1)]: Done 1172 tasks      | elapsed:  4.3min\n",
            "[Parallel(n_jobs=-1)]: Done 1622 tasks      | elapsed:  7.9min\n",
            "[Parallel(n_jobs=-1)]: Done 2172 tasks      | elapsed: 13.1min\n",
            "[Parallel(n_jobs=-1)]: Done 2822 tasks      | elapsed: 20.5min\n",
            "[Parallel(n_jobs=-1)]: Done 3572 tasks      | elapsed: 28.4min\n",
            "[Parallel(n_jobs=-1)]: Done 4422 tasks      | elapsed: 36.7min\n",
            "[Parallel(n_jobs=-1)]: Done 4500 out of 4500 | elapsed: 38.8min finished\n"
          ],
          "name": "stderr"
        },
        {
          "output_type": "execute_result",
          "data": {
            "text/plain": [
              "{'randomforestclassifier__max_depth': 4,\n",
              " 'randomforestclassifier__max_features': None,\n",
              " 'randomforestclassifier__n_estimators': 100}"
            ]
          },
          "metadata": {
            "tags": []
          },
          "execution_count": 72
        }
      ]
    },
    {
      "cell_type": "markdown",
      "metadata": {
        "id": "wrms4UgWyU0v",
        "colab_type": "text"
      },
      "source": [
        "#Build model_15"
      ]
    },
    {
      "cell_type": "code",
      "metadata": {
        "id": "rA0yUZOV4FCF",
        "colab_type": "code",
        "colab": {
          "base_uri": "https://localhost:8080/",
          "height": 68
        },
        "outputId": "4dd873dd-202b-43d8-f377-415a7247cd53"
      },
      "source": [
        "model_15 = make_pipeline(\n",
        "    OrdinalEncoder(),\n",
        "    RandomForestClassifier(random_state=42, criterion='entropy', max_features=None, max_depth=4)\n",
        ")\n",
        "model_15.fit(X_train_1, y_train_1)\n",
        "print('Training accuracy:', model_15.score(X_train_1, y_train_1))\n",
        "print('Validation accuracy:', model_15.score(X_val_1, y_val_1))\n",
        "print('Test Accuracy', accuracy_score(y_test_1, model_15.predict(X_test_1)))"
      ],
      "execution_count": null,
      "outputs": [
        {
          "output_type": "stream",
          "text": [
            "Training accuracy: 0.6876155268022182\n",
            "Validation accuracy: 0.6176470588235294\n",
            "Test Accuracy 0.5735294117647058\n"
          ],
          "name": "stdout"
        }
      ]
    },
    {
      "cell_type": "markdown",
      "metadata": {
        "id": "2i9HTLWpFxCI",
        "colab_type": "text"
      },
      "source": [
        "#Build model_16"
      ]
    },
    {
      "cell_type": "code",
      "metadata": {
        "id": "yQGbCxxVFy8w",
        "colab_type": "code",
        "colab": {}
      },
      "source": [
        "from xgboost import XGBClassifier"
      ],
      "execution_count": 20,
      "outputs": []
    },
    {
      "cell_type": "code",
      "metadata": {
        "id": "94eh0GLaF3KL",
        "colab_type": "code",
        "colab": {
          "base_uri": "https://localhost:8080/",
          "height": 68
        },
        "outputId": "9b4083af-701b-4b3c-fb18-5b3e8b80fe0c"
      },
      "source": [
        "model_16 = make_pipeline(\n",
        "    OrdinalEncoder(),\n",
        "    XGBClassifier()\n",
        ")\n",
        "model_16.fit(X_train_1, y_train_1)\n",
        "print('Training accuracy:', model_16.score(X_train_1, y_train_1))\n",
        "print('Validation accuracy:', model_16.score(X_val_1, y_val_1))\n",
        "print('Test Accuracy', accuracy_score(y_test_1, model_16.predict(X_test_1)))"
      ],
      "execution_count": 21,
      "outputs": [
        {
          "output_type": "stream",
          "text": [
            "Training accuracy: 0.9482439926062847\n",
            "Validation accuracy: 0.6029411764705882\n",
            "Test Accuracy 0.5294117647058824\n"
          ],
          "name": "stdout"
        }
      ]
    },
    {
      "cell_type": "markdown",
      "metadata": {
        "id": "4V7OpxMhK1Dd",
        "colab_type": "text"
      },
      "source": [
        "#Build model_17"
      ]
    },
    {
      "cell_type": "code",
      "metadata": {
        "id": "dDbbOUUGG0mK",
        "colab_type": "code",
        "colab": {
          "base_uri": "https://localhost:8080/",
          "height": 68
        },
        "outputId": "d0c96e55-842b-42ab-b5bd-e0ca9d0e5a4f"
      },
      "source": [
        "model_17 = make_pipeline(\n",
        "    OrdinalEncoder(),\n",
        "    XGBClassifier(max_depth=5, learning_rate=0.001, n_estimators=500, n_jobs=-1,\n",
        "                  objective='multi:sotmax', eval_metric='merror', num_class=8,\n",
        "                  critereon = 'entropy')\n",
        ")\n",
        "model_17.fit(X_train_1, y_train_1)\n",
        "print('Training accuracy:', model_17.score(X_train_1, y_train_1))\n",
        "print('Validation accuracy:', model_17.score(X_val_1, y_val_1))\n",
        "print('Test Accuracy', accuracy_score(y_test_1, model_17.predict(X_test_1)))"
      ],
      "execution_count": 50,
      "outputs": [
        {
          "output_type": "stream",
          "text": [
            "Training accuracy: 0.7948243992606284\n",
            "Validation accuracy: 0.5588235294117647\n",
            "Test Accuracy 0.6029411764705882\n"
          ],
          "name": "stdout"
        }
      ]
    },
    {
      "cell_type": "markdown",
      "metadata": {
        "id": "u8eRgSW7Q2Ji",
        "colab_type": "text"
      },
      "source": [
        "#Tourney Teams with seeds"
      ]
    },
    {
      "cell_type": "code",
      "metadata": {
        "id": "hZTKH_xAOBQV",
        "colab_type": "code",
        "colab": {}
      },
      "source": [
        "X_train_2 = train_1.drop([target, 'TEAM', 'YEAR', 'Unnamed: 0', 'Unnamed: 0.1'], axis=1)\n",
        "y_train_2 = train_1[target]\n",
        "\n",
        "X_val_2 = val_1.drop([target, 'TEAM', 'YEAR', 'Unnamed: 0', 'Unnamed: 0.1'], axis=1)\n",
        "y_val_2 = val_1[target]\n",
        "\n",
        "X_test_2 = test_1.drop([target, 'TEAM', 'YEAR', 'Unnamed: 0', 'Unnamed: 0.1'], axis=1)\n",
        "y_test_2 = test_1[target]"
      ],
      "execution_count": 59,
      "outputs": []
    },
    {
      "cell_type": "code",
      "metadata": {
        "id": "f1f0W3k_Q_qJ",
        "colab_type": "code",
        "colab": {
          "base_uri": "https://localhost:8080/",
          "height": 68
        },
        "outputId": "b11bf72c-1137-4398-a1f3-9913d8911aff"
      },
      "source": [
        "model_18 = make_pipeline(\n",
        "    OrdinalEncoder(),\n",
        "    XGBClassifier(max_depth=5, learning_rate=0.001, n_estimators=500, n_jobs=-1,\n",
        "                  objective='multi:sotmax', eval_metric='merror', num_class=8,\n",
        "                  critereon = 'entropy')\n",
        ")\n",
        "model_18.fit(X_train_2, y_train_2)\n",
        "print('Training accuracy:', model_18.score(X_train_2, y_train_2))\n",
        "print('Validation accuracy:', model_18.score(X_val_2, y_val_2))\n",
        "print('Test Accuracy', accuracy_score(y_test_2, model_18.predict(X_test_2)))"
      ],
      "execution_count": 62,
      "outputs": [
        {
          "output_type": "stream",
          "text": [
            "Training accuracy: 0.8059149722735675\n",
            "Validation accuracy: 0.6029411764705882\n",
            "Test Accuracy 0.6029411764705882\n"
          ],
          "name": "stdout"
        }
      ]
    },
    {
      "cell_type": "code",
      "metadata": {
        "id": "wOPWWMKuSoJX",
        "colab_type": "code",
        "colab": {
          "base_uri": "https://localhost:8080/",
          "height": 170
        },
        "outputId": "21061dd8-b009-4cc6-9847-bc3d0692e8c6"
      },
      "source": [
        "y_train_2.value_counts()"
      ],
      "execution_count": 68,
      "outputs": [
        {
          "output_type": "execute_result",
          "data": {
            "text/plain": [
              "R64          256\n",
              "R32          128\n",
              "S16           64\n",
              "E8            32\n",
              "R68           29\n",
              "F4            16\n",
              "2ND            8\n",
              "Champions      8\n",
              "Name: POSTSEASON, dtype: int64"
            ]
          },
          "metadata": {
            "tags": []
          },
          "execution_count": 68
        }
      ]
    },
    {
      "cell_type": "code",
      "metadata": {
        "id": "9pCFBzC7RH7O",
        "colab_type": "code",
        "colab": {
          "base_uri": "https://localhost:8080/",
          "height": 235
        },
        "outputId": "a5739555-67f7-4d71-fea9-cc50af636544"
      },
      "source": [
        "pred = pd.DataFrame(model_18.predict_proba(X_test_2), index=X_test_2.index)\n",
        "pred.head()"
      ],
      "execution_count": 175,
      "outputs": [
        {
          "output_type": "execute_result",
          "data": {
            "text/html": [
              "<div>\n",
              "<style scoped>\n",
              "    .dataframe tbody tr th:only-of-type {\n",
              "        vertical-align: middle;\n",
              "    }\n",
              "\n",
              "    .dataframe tbody tr th {\n",
              "        vertical-align: top;\n",
              "    }\n",
              "\n",
              "    .dataframe thead th {\n",
              "        text-align: right;\n",
              "    }\n",
              "</style>\n",
              "<table border=\"1\" class=\"dataframe\">\n",
              "  <thead>\n",
              "    <tr style=\"text-align: right;\">\n",
              "      <th></th>\n",
              "      <th>0</th>\n",
              "      <th>1</th>\n",
              "      <th>2</th>\n",
              "      <th>3</th>\n",
              "      <th>4</th>\n",
              "      <th>5</th>\n",
              "      <th>6</th>\n",
              "      <th>7</th>\n",
              "    </tr>\n",
              "    <tr>\n",
              "      <th>ID</th>\n",
              "      <th></th>\n",
              "      <th></th>\n",
              "      <th></th>\n",
              "      <th></th>\n",
              "      <th></th>\n",
              "      <th></th>\n",
              "      <th></th>\n",
              "      <th></th>\n",
              "    </tr>\n",
              "  </thead>\n",
              "  <tbody>\n",
              "    <tr>\n",
              "      <th>TexasTech2019</th>\n",
              "      <td>0.130625</td>\n",
              "      <td>0.097265</td>\n",
              "      <td>0.182459</td>\n",
              "      <td>0.193569</td>\n",
              "      <td>0.098776</td>\n",
              "      <td>0.098098</td>\n",
              "      <td>0.097406</td>\n",
              "      <td>0.101802</td>\n",
              "    </tr>\n",
              "    <tr>\n",
              "      <th>Virginia2019</th>\n",
              "      <td>0.184175</td>\n",
              "      <td>0.105371</td>\n",
              "      <td>0.162716</td>\n",
              "      <td>0.114430</td>\n",
              "      <td>0.111226</td>\n",
              "      <td>0.106273</td>\n",
              "      <td>0.105524</td>\n",
              "      <td>0.110286</td>\n",
              "    </tr>\n",
              "    <tr>\n",
              "      <th>Duke2019</th>\n",
              "      <td>0.140813</td>\n",
              "      <td>0.109086</td>\n",
              "      <td>0.187967</td>\n",
              "      <td>0.117912</td>\n",
              "      <td>0.110781</td>\n",
              "      <td>0.110020</td>\n",
              "      <td>0.109245</td>\n",
              "      <td>0.114175</td>\n",
              "    </tr>\n",
              "    <tr>\n",
              "      <th>Purdue2019</th>\n",
              "      <td>0.090350</td>\n",
              "      <td>0.089889</td>\n",
              "      <td>0.138280</td>\n",
              "      <td>0.089932</td>\n",
              "      <td>0.196662</td>\n",
              "      <td>0.090658</td>\n",
              "      <td>0.090019</td>\n",
              "      <td>0.214209</td>\n",
              "    </tr>\n",
              "    <tr>\n",
              "      <th>Kentucky2019</th>\n",
              "      <td>0.095768</td>\n",
              "      <td>0.095279</td>\n",
              "      <td>0.266251</td>\n",
              "      <td>0.138119</td>\n",
              "      <td>0.096759</td>\n",
              "      <td>0.096094</td>\n",
              "      <td>0.095417</td>\n",
              "      <td>0.116313</td>\n",
              "    </tr>\n",
              "  </tbody>\n",
              "</table>\n",
              "</div>"
            ],
            "text/plain": [
              "                      0         1         2  ...         5         6         7\n",
              "ID                                           ...                              \n",
              "TexasTech2019  0.130625  0.097265  0.182459  ...  0.098098  0.097406  0.101802\n",
              "Virginia2019   0.184175  0.105371  0.162716  ...  0.106273  0.105524  0.110286\n",
              "Duke2019       0.140813  0.109086  0.187967  ...  0.110020  0.109245  0.114175\n",
              "Purdue2019     0.090350  0.089889  0.138280  ...  0.090658  0.090019  0.214209\n",
              "Kentucky2019   0.095768  0.095279  0.266251  ...  0.096094  0.095417  0.116313\n",
              "\n",
              "[5 rows x 8 columns]"
            ]
          },
          "metadata": {
            "tags": []
          },
          "execution_count": 175
        }
      ]
    },
    {
      "cell_type": "code",
      "metadata": {
        "id": "aszHySSETdue",
        "colab_type": "code",
        "colab": {
          "base_uri": "https://localhost:8080/",
          "height": 235
        },
        "outputId": "e94724b1-22e1-4c03-a710-bbfefa554cbe"
      },
      "source": [
        "pred.sort_values(by=5, ascending=False).head()"
      ],
      "execution_count": 119,
      "outputs": [
        {
          "output_type": "execute_result",
          "data": {
            "text/html": [
              "<div>\n",
              "<style scoped>\n",
              "    .dataframe tbody tr th:only-of-type {\n",
              "        vertical-align: middle;\n",
              "    }\n",
              "\n",
              "    .dataframe tbody tr th {\n",
              "        vertical-align: top;\n",
              "    }\n",
              "\n",
              "    .dataframe thead th {\n",
              "        text-align: right;\n",
              "    }\n",
              "</style>\n",
              "<table border=\"1\" class=\"dataframe\">\n",
              "  <thead>\n",
              "    <tr style=\"text-align: right;\">\n",
              "      <th></th>\n",
              "      <th>0</th>\n",
              "      <th>1</th>\n",
              "      <th>2</th>\n",
              "      <th>3</th>\n",
              "      <th>4</th>\n",
              "      <th>5</th>\n",
              "      <th>6</th>\n",
              "      <th>7</th>\n",
              "    </tr>\n",
              "    <tr>\n",
              "      <th>ID</th>\n",
              "      <th></th>\n",
              "      <th></th>\n",
              "      <th></th>\n",
              "      <th></th>\n",
              "      <th></th>\n",
              "      <th></th>\n",
              "      <th></th>\n",
              "      <th></th>\n",
              "    </tr>\n",
              "  </thead>\n",
              "  <tbody>\n",
              "    <tr>\n",
              "      <th>Bradley2019</th>\n",
              "      <td>0.096153</td>\n",
              "      <td>0.095662</td>\n",
              "      <td>0.095731</td>\n",
              "      <td>0.095709</td>\n",
              "      <td>0.097090</td>\n",
              "      <td>0.327126</td>\n",
              "      <td>0.096530</td>\n",
              "      <td>0.095998</td>\n",
              "    </tr>\n",
              "    <tr>\n",
              "      <th>Northeastern2019</th>\n",
              "      <td>0.094574</td>\n",
              "      <td>0.094091</td>\n",
              "      <td>0.094159</td>\n",
              "      <td>0.094137</td>\n",
              "      <td>0.111918</td>\n",
              "      <td>0.321754</td>\n",
              "      <td>0.094945</td>\n",
              "      <td>0.094422</td>\n",
              "    </tr>\n",
              "    <tr>\n",
              "      <th>GeorgiaSt.2019</th>\n",
              "      <td>0.094553</td>\n",
              "      <td>0.094070</td>\n",
              "      <td>0.094138</td>\n",
              "      <td>0.094116</td>\n",
              "      <td>0.112118</td>\n",
              "      <td>0.321681</td>\n",
              "      <td>0.094923</td>\n",
              "      <td>0.094401</td>\n",
              "    </tr>\n",
              "    <tr>\n",
              "      <th>Montana2019</th>\n",
              "      <td>0.095909</td>\n",
              "      <td>0.095420</td>\n",
              "      <td>0.095488</td>\n",
              "      <td>0.095466</td>\n",
              "      <td>0.107691</td>\n",
              "      <td>0.317984</td>\n",
              "      <td>0.096285</td>\n",
              "      <td>0.095755</td>\n",
              "    </tr>\n",
              "    <tr>\n",
              "      <th>SetonHall2019</th>\n",
              "      <td>0.093366</td>\n",
              "      <td>0.092889</td>\n",
              "      <td>0.092956</td>\n",
              "      <td>0.092934</td>\n",
              "      <td>0.123971</td>\n",
              "      <td>0.317643</td>\n",
              "      <td>0.093024</td>\n",
              "      <td>0.093216</td>\n",
              "    </tr>\n",
              "  </tbody>\n",
              "</table>\n",
              "</div>"
            ],
            "text/plain": [
              "                         0         1         2  ...         5         6         7\n",
              "ID                                              ...                              \n",
              "Bradley2019       0.096153  0.095662  0.095731  ...  0.327126  0.096530  0.095998\n",
              "Northeastern2019  0.094574  0.094091  0.094159  ...  0.321754  0.094945  0.094422\n",
              "GeorgiaSt.2019    0.094553  0.094070  0.094138  ...  0.321681  0.094923  0.094401\n",
              "Montana2019       0.095909  0.095420  0.095488  ...  0.317984  0.096285  0.095755\n",
              "SetonHall2019     0.093366  0.092889  0.092956  ...  0.317643  0.093024  0.093216\n",
              "\n",
              "[5 rows x 8 columns]"
            ]
          },
          "metadata": {
            "tags": []
          },
          "execution_count": 119
        }
      ]
    },
    {
      "cell_type": "code",
      "metadata": {
        "id": "zhlBjqQXUUDe",
        "colab_type": "code",
        "colab": {
          "base_uri": "https://localhost:8080/",
          "height": 204
        },
        "outputId": "bf27dc9b-84bb-4723-8bbe-563393a49c84"
      },
      "source": [
        "p18 = pd.DataFrame(model_18.predict(X_test_2), index=X_test_2.index, columns=['Prediction'])\n",
        "p18 = pd.concat([p18, y_test_2], axis=1)\n",
        "p18[p18['Prediction'] == 'E8']"
      ],
      "execution_count": 183,
      "outputs": [
        {
          "output_type": "execute_result",
          "data": {
            "text/html": [
              "<div>\n",
              "<style scoped>\n",
              "    .dataframe tbody tr th:only-of-type {\n",
              "        vertical-align: middle;\n",
              "    }\n",
              "\n",
              "    .dataframe tbody tr th {\n",
              "        vertical-align: top;\n",
              "    }\n",
              "\n",
              "    .dataframe thead th {\n",
              "        text-align: right;\n",
              "    }\n",
              "</style>\n",
              "<table border=\"1\" class=\"dataframe\">\n",
              "  <thead>\n",
              "    <tr style=\"text-align: right;\">\n",
              "      <th></th>\n",
              "      <th>Prediction</th>\n",
              "      <th>POSTSEASON</th>\n",
              "    </tr>\n",
              "    <tr>\n",
              "      <th>ID</th>\n",
              "      <th></th>\n",
              "      <th></th>\n",
              "    </tr>\n",
              "  </thead>\n",
              "  <tbody>\n",
              "    <tr>\n",
              "      <th>Duke2019</th>\n",
              "      <td>E8</td>\n",
              "      <td>E8</td>\n",
              "    </tr>\n",
              "    <tr>\n",
              "      <th>Kentucky2019</th>\n",
              "      <td>E8</td>\n",
              "      <td>E8</td>\n",
              "    </tr>\n",
              "    <tr>\n",
              "      <th>FloridaSt.2019</th>\n",
              "      <td>E8</td>\n",
              "      <td>S16</td>\n",
              "    </tr>\n",
              "    <tr>\n",
              "      <th>Houston2019</th>\n",
              "      <td>E8</td>\n",
              "      <td>S16</td>\n",
              "    </tr>\n",
              "  </tbody>\n",
              "</table>\n",
              "</div>"
            ],
            "text/plain": [
              "               Prediction POSTSEASON\n",
              "ID                                  \n",
              "Duke2019               E8         E8\n",
              "Kentucky2019           E8         E8\n",
              "FloridaSt.2019         E8        S16\n",
              "Houston2019            E8        S16"
            ]
          },
          "metadata": {
            "tags": []
          },
          "execution_count": 183
        }
      ]
    },
    {
      "cell_type": "code",
      "metadata": {
        "id": "Wbg2JI6zVUn7",
        "colab_type": "code",
        "colab": {
          "base_uri": "https://localhost:8080/",
          "height": 170
        },
        "outputId": "1e4e1183-23e4-4e66-cad8-8e1ed803805b"
      },
      "source": [
        "pred.loc['ArizonaSt.2019']"
      ],
      "execution_count": 133,
      "outputs": [
        {
          "output_type": "execute_result",
          "data": {
            "text/plain": [
              "2ND          0.086605\n",
              "Champions    0.086163\n",
              "E8           0.086225\n",
              "F4           0.086204\n",
              "R32          0.151821\n",
              "R64          0.294641\n",
              "R68          0.121876\n",
              "S16          0.086465\n",
              "Name: ArizonaSt.2019, dtype: float32"
            ]
          },
          "metadata": {
            "tags": []
          },
          "execution_count": 133
        }
      ]
    },
    {
      "cell_type": "markdown",
      "metadata": {
        "id": "CFEUDXQ6nL2V",
        "colab_type": "text"
      },
      "source": [
        "#Build model_19"
      ]
    },
    {
      "cell_type": "code",
      "metadata": {
        "id": "HiGcnMYsZ8hu",
        "colab_type": "code",
        "colab": {}
      },
      "source": [
        "from sklearn.ensemble import GradientBoostingClassifier"
      ],
      "execution_count": 136,
      "outputs": []
    },
    {
      "cell_type": "code",
      "metadata": {
        "id": "SHphP9BCnJ3R",
        "colab_type": "code",
        "colab": {
          "base_uri": "https://localhost:8080/",
          "height": 68
        },
        "outputId": "f7f13b09-41eb-4b44-f28d-055958d61d10"
      },
      "source": [
        "model_19 = make_pipeline(\n",
        "    OrdinalEncoder(),\n",
        "    SimpleImputer(),\n",
        "    GradientBoostingClassifier()\n",
        ")\n",
        "model_19.fit(X_train_2, y_train_2)\n",
        "print('Training accuracy:', model_19.score(X_train_2, y_train_2))\n",
        "print('Validation accuracy:', model_19.score(X_val_2, y_val_2))\n",
        "print('Test Accuracy', accuracy_score(y_test_2, model_19.predict(X_test_2)))"
      ],
      "execution_count": 138,
      "outputs": [
        {
          "output_type": "stream",
          "text": [
            "Training accuracy: 1.0\n",
            "Validation accuracy: 0.5588235294117647\n",
            "Test Accuracy 0.5735294117647058\n"
          ],
          "name": "stdout"
        }
      ]
    },
    {
      "cell_type": "markdown",
      "metadata": {
        "id": "u8lRAwd0YCqP",
        "colab_type": "text"
      },
      "source": [
        "#Tune from model_19"
      ]
    },
    {
      "cell_type": "code",
      "metadata": {
        "id": "bXHCA3IQni_I",
        "colab_type": "code",
        "colab": {}
      },
      "source": [
        "params = {\n",
        "    'gradientboostingclassifier__learning_rate' : [0.001, 0.003, 0.005, 0/007, 0.009],\n",
        "    'gradientboostingclassifier__max_depth' : range(1, 10, 2),\n",
        "    'gradientboostingclassifier__n_estimators' : range(100, 1000, 200)\n",
        "}\n",
        "gs = GridSearchCV(model_20, params, scoring='accuracy', n_jobs=-1, verbose=1)"
      ],
      "execution_count": 162,
      "outputs": []
    },
    {
      "cell_type": "code",
      "metadata": {
        "id": "chRknO9Vn18w",
        "colab_type": "code",
        "colab": {
          "base_uri": "https://localhost:8080/",
          "height": 867
        },
        "outputId": "88c290ec-4099-41a0-b616-51ed9396e48a"
      },
      "source": [
        "gs.fit(X_train_2, y_train_2)"
      ],
      "execution_count": 156,
      "outputs": [
        {
          "output_type": "stream",
          "text": [
            "Fitting 5 folds for each of 125 candidates, totalling 625 fits\n"
          ],
          "name": "stdout"
        },
        {
          "output_type": "stream",
          "text": [
            "[Parallel(n_jobs=-1)]: Using backend LokyBackend with 2 concurrent workers.\n",
            "[Parallel(n_jobs=-1)]: Done  46 tasks      | elapsed:  3.6min\n",
            "[Parallel(n_jobs=-1)]: Done 196 tasks      | elapsed: 32.0min\n",
            "[Parallel(n_jobs=-1)]: Done 446 tasks      | elapsed: 78.5min\n",
            "[Parallel(n_jobs=-1)]: Done 625 out of 625 | elapsed: 111.3min finished\n"
          ],
          "name": "stderr"
        },
        {
          "output_type": "execute_result",
          "data": {
            "text/plain": [
              "GridSearchCV(cv=None, error_score=nan,\n",
              "             estimator=Pipeline(memory=None,\n",
              "                                steps=[('ordinalencoder',\n",
              "                                        OrdinalEncoder(cols=['CONF'],\n",
              "                                                       drop_invariant=False,\n",
              "                                                       handle_missing='value',\n",
              "                                                       handle_unknown='value',\n",
              "                                                       mapping=[{'col': 'CONF',\n",
              "                                                                 'data_type': dtype('O'),\n",
              "                                                                 'mapping': ACC      1\n",
              "B10      2\n",
              "WCC      3\n",
              "BE       4\n",
              "B12      5\n",
              "P12      6\n",
              "SEC      7\n",
              "A10      8\n",
              "Amer     9\n",
              "BW      10\n",
              "CUSA    11\n",
              "Ivy     12\n",
              "MVC     13\n",
              "MWC     14\n",
              "SB      15\n",
              "Slnd    16\n",
              "AE      17\n",
              "ASun    18\n",
              "BSky    19\n",
              "BSth    20\n",
              "CAA     21\n",
              "Horz    22\n",
              "M...\n",
              "                                                                   warm_start=False))],\n",
              "                                verbose=False),\n",
              "             iid='deprecated', n_jobs=-1,\n",
              "             param_grid={'gradientboostingclassifier__learning_rate': [0.001,\n",
              "                                                                       0.003,\n",
              "                                                                       0.005,\n",
              "                                                                       0.007,\n",
              "                                                                       0.009],\n",
              "                         'gradientboostingclassifier__max_depth': range(1, 10, 2),\n",
              "                         'gradientboostingclassifier__n_estimators': range(100, 1000, 200)},\n",
              "             pre_dispatch='2*n_jobs', refit=True, return_train_score=False,\n",
              "             scoring='accuracy', verbose=1)"
            ]
          },
          "metadata": {
            "tags": []
          },
          "execution_count": 156
        }
      ]
    },
    {
      "cell_type": "code",
      "metadata": {
        "id": "rsWvVmeboCbv",
        "colab_type": "code",
        "colab": {
          "base_uri": "https://localhost:8080/",
          "height": 68
        },
        "outputId": "7ed4d871-f30d-4706-ef21-412997f1da01"
      },
      "source": [
        "gs.best_params_"
      ],
      "execution_count": 157,
      "outputs": [
        {
          "output_type": "execute_result",
          "data": {
            "text/plain": [
              "{'gradientboostingclassifier__learning_rate': 0.003,\n",
              " 'gradientboostingclassifier__max_depth': 1,\n",
              " 'gradientboostingclassifier__n_estimators': 900}"
            ]
          },
          "metadata": {
            "tags": []
          },
          "execution_count": 157
        }
      ]
    },
    {
      "cell_type": "markdown",
      "metadata": {
        "id": "FK1TuCrwYF7x",
        "colab_type": "text"
      },
      "source": [
        "#Build model_20"
      ]
    },
    {
      "cell_type": "code",
      "metadata": {
        "id": "B0HULqYIDlWK",
        "colab_type": "code",
        "colab": {
          "base_uri": "https://localhost:8080/",
          "height": 68
        },
        "outputId": "59c9e86c-a2f4-48a6-a60c-13288e2d12f5"
      },
      "source": [
        "model_20 = make_pipeline(\n",
        "    OrdinalEncoder(),\n",
        "    SimpleImputer(),\n",
        "    GradientBoostingClassifier(learning_rate=0.003, max_depth=1, n_estimators=900)\n",
        ")\n",
        "model_20.fit(X_train_2, y_train_2)\n",
        "print('Training accuracy:', model_20.score(X_train_2, y_train_2))\n",
        "print('Validation accuracy:', model_20.score(X_val_2, y_val_2))\n",
        "print('Test Accuracy', accuracy_score(y_test_2, model_20.predict(X_test_2)))"
      ],
      "execution_count": 160,
      "outputs": [
        {
          "output_type": "stream",
          "text": [
            "Training accuracy: 0.6321626617375231\n",
            "Validation accuracy: 0.6323529411764706\n",
            "Test Accuracy 0.6029411764705882\n"
          ],
          "name": "stdout"
        }
      ]
    },
    {
      "cell_type": "markdown",
      "metadata": {
        "id": "FPE6nrywYI_g",
        "colab_type": "text"
      },
      "source": [
        "#Build model_21"
      ]
    },
    {
      "cell_type": "code",
      "metadata": {
        "id": "eGLz1lLuD0Pt",
        "colab_type": "code",
        "colab": {
          "base_uri": "https://localhost:8080/",
          "height": 68
        },
        "outputId": "da5387af-4e96-4bde-b48b-547289c38c3d"
      },
      "source": [
        "model_21 = make_pipeline(\n",
        "    OrdinalEncoder(),\n",
        "    SimpleImputer(),\n",
        "    GradientBoostingClassifier(learning_rate=0.003, max_depth=1, n_estimators=500)\n",
        ")\n",
        "model_21.fit(X_train_2, y_train_2)\n",
        "print('Training accuracy:', model_21.score(X_train_2, y_train_2))\n",
        "print('Validation accuracy:', model_21.score(X_val_2, y_val_2))\n",
        "print('Test Accuracy', accuracy_score(y_test_2, model_21.predict(X_test_2)))"
      ],
      "execution_count": 161,
      "outputs": [
        {
          "output_type": "stream",
          "text": [
            "Training accuracy: 0.6062846580406654\n",
            "Validation accuracy: 0.5588235294117647\n",
            "Test Accuracy 0.6029411764705882\n"
          ],
          "name": "stdout"
        }
      ]
    },
    {
      "cell_type": "markdown",
      "metadata": {
        "id": "ZVgQeEPAYPix",
        "colab_type": "text"
      },
      "source": [
        "#Tune model_21"
      ]
    },
    {
      "cell_type": "code",
      "metadata": {
        "id": "GCCuxQ7CEtMh",
        "colab_type": "code",
        "colab": {}
      },
      "source": [
        "params = {\n",
        "    'gradientboostingclassifier__learning_rate' : [0.001, 0.003, 0.005],\n",
        "    'gradientboostingclassifier__max_depth' : range(1, 5, 2),\n",
        "    'gradientboostingclassifier__n_estimators' : range(300, 900, 100)\n",
        "}\n",
        "gs = GridSearchCV(model_21, params, scoring='accuracy', n_jobs=-1, verbose=1)"
      ],
      "execution_count": 163,
      "outputs": []
    },
    {
      "cell_type": "code",
      "metadata": {
        "id": "hC2gS9dGECW7",
        "colab_type": "code",
        "colab": {
          "base_uri": "https://localhost:8080/",
          "height": 136
        },
        "outputId": "b35f30d7-991c-46f2-be13-0c6c4c01f587"
      },
      "source": [
        "gs.fit(X_train_2, y_train_2)\n",
        "gs.best_params_"
      ],
      "execution_count": 164,
      "outputs": [
        {
          "output_type": "stream",
          "text": [
            "Fitting 5 folds for each of 36 candidates, totalling 180 fits\n"
          ],
          "name": "stdout"
        },
        {
          "output_type": "stream",
          "text": [
            "[Parallel(n_jobs=-1)]: Using backend LokyBackend with 2 concurrent workers.\n",
            "[Parallel(n_jobs=-1)]: Done  46 tasks      | elapsed:  3.5min\n",
            "[Parallel(n_jobs=-1)]: Done 180 out of 180 | elapsed: 17.2min finished\n"
          ],
          "name": "stderr"
        },
        {
          "output_type": "execute_result",
          "data": {
            "text/plain": [
              "{'gradientboostingclassifier__learning_rate': 0.005,\n",
              " 'gradientboostingclassifier__max_depth': 1,\n",
              " 'gradientboostingclassifier__n_estimators': 400}"
            ]
          },
          "metadata": {
            "tags": []
          },
          "execution_count": 164
        }
      ]
    },
    {
      "cell_type": "markdown",
      "metadata": {
        "id": "-rggSV3CYSTx",
        "colab_type": "text"
      },
      "source": [
        "#Build model_22"
      ]
    },
    {
      "cell_type": "code",
      "metadata": {
        "id": "thcd3U3dEuob",
        "colab_type": "code",
        "colab": {
          "base_uri": "https://localhost:8080/",
          "height": 68
        },
        "outputId": "df2b3284-279c-47ac-d9db-37c49c917e01"
      },
      "source": [
        "model_22 = make_pipeline(\n",
        "    OrdinalEncoder(),\n",
        "    SimpleImputer(),\n",
        "    GradientBoostingClassifier(learning_rate=0.005, max_depth=1, n_estimators=400)\n",
        ")\n",
        "model_22.fit(X_train_2, y_train_2)\n",
        "print('Training accuracy:', model_22.score(X_train_2, y_train_2))\n",
        "print('Validation accuracy:', model_22.score(X_val_2, y_val_2))\n",
        "print('Test Accuracy', accuracy_score(y_test_2, model_22.predict(X_test_2)))"
      ],
      "execution_count": 206,
      "outputs": [
        {
          "output_type": "stream",
          "text": [
            "Training accuracy: 0.6155268022181146\n",
            "Validation accuracy: 0.5882352941176471\n",
            "Test Accuracy 0.6176470588235294\n"
          ],
          "name": "stdout"
        }
      ]
    },
    {
      "cell_type": "code",
      "metadata": {
        "id": "wZCu4-zaZLVV",
        "colab_type": "code",
        "colab": {
          "base_uri": "https://localhost:8080/",
          "height": 297
        },
        "outputId": "4bc6995e-d915-49be-ab00-1835d189a836"
      },
      "source": [
        "p22 = pd.DataFrame(model_22.predict(X_test_2), index=X_test_2.index, columns=['Prediction'])\n",
        "p22 = pd.concat([p22, y_test_2], axis=1)\n",
        "p22[p22['Prediction'] == 'E8']"
      ],
      "execution_count": 207,
      "outputs": [
        {
          "output_type": "execute_result",
          "data": {
            "text/html": [
              "<div>\n",
              "<style scoped>\n",
              "    .dataframe tbody tr th:only-of-type {\n",
              "        vertical-align: middle;\n",
              "    }\n",
              "\n",
              "    .dataframe tbody tr th {\n",
              "        vertical-align: top;\n",
              "    }\n",
              "\n",
              "    .dataframe thead th {\n",
              "        text-align: right;\n",
              "    }\n",
              "</style>\n",
              "<table border=\"1\" class=\"dataframe\">\n",
              "  <thead>\n",
              "    <tr style=\"text-align: right;\">\n",
              "      <th></th>\n",
              "      <th>Prediction</th>\n",
              "      <th>POSTSEASON</th>\n",
              "    </tr>\n",
              "    <tr>\n",
              "      <th>ID</th>\n",
              "      <th></th>\n",
              "      <th></th>\n",
              "    </tr>\n",
              "  </thead>\n",
              "  <tbody>\n",
              "    <tr>\n",
              "      <th>TexasTech2019</th>\n",
              "      <td>E8</td>\n",
              "      <td>2ND</td>\n",
              "    </tr>\n",
              "    <tr>\n",
              "      <th>Virginia2019</th>\n",
              "      <td>E8</td>\n",
              "      <td>Champions</td>\n",
              "    </tr>\n",
              "    <tr>\n",
              "      <th>Duke2019</th>\n",
              "      <td>E8</td>\n",
              "      <td>E8</td>\n",
              "    </tr>\n",
              "    <tr>\n",
              "      <th>Kentucky2019</th>\n",
              "      <td>E8</td>\n",
              "      <td>E8</td>\n",
              "    </tr>\n",
              "    <tr>\n",
              "      <th>Gonzaga2019</th>\n",
              "      <td>E8</td>\n",
              "      <td>E8</td>\n",
              "    </tr>\n",
              "    <tr>\n",
              "      <th>Houston2019</th>\n",
              "      <td>E8</td>\n",
              "      <td>S16</td>\n",
              "    </tr>\n",
              "    <tr>\n",
              "      <th>Michigan2019</th>\n",
              "      <td>E8</td>\n",
              "      <td>S16</td>\n",
              "    </tr>\n",
              "  </tbody>\n",
              "</table>\n",
              "</div>"
            ],
            "text/plain": [
              "              Prediction POSTSEASON\n",
              "ID                                 \n",
              "TexasTech2019         E8        2ND\n",
              "Virginia2019          E8  Champions\n",
              "Duke2019              E8         E8\n",
              "Kentucky2019          E8         E8\n",
              "Gonzaga2019           E8         E8\n",
              "Houston2019           E8        S16\n",
              "Michigan2019          E8        S16"
            ]
          },
          "metadata": {
            "tags": []
          },
          "execution_count": 207
        }
      ]
    },
    {
      "cell_type": "markdown",
      "metadata": {
        "id": "m3o6_GMRYVVY",
        "colab_type": "text"
      },
      "source": [
        "#Tune model_22"
      ]
    },
    {
      "cell_type": "code",
      "metadata": {
        "id": "nZaqtRIjJqff",
        "colab_type": "code",
        "colab": {}
      },
      "source": [
        "params = {\n",
        "    'gradientboostingclassifier__learning_rate' : [0.005, 0.006, 0.007],\n",
        "    'gradientboostingclassifier__max_depth' : range(1, 3),\n",
        "    'gradientboostingclassifier__n_estimators' : range(400, 600, 20)\n",
        "}\n",
        "gs = GridSearchCV(model_22, params, scoring='accuracy', n_jobs=-1, verbose=1)"
      ],
      "execution_count": 166,
      "outputs": []
    },
    {
      "cell_type": "code",
      "metadata": {
        "id": "YxzivKmPKJgQ",
        "colab_type": "code",
        "colab": {
          "base_uri": "https://localhost:8080/",
          "height": 153
        },
        "outputId": "222a6068-324f-4013-9097-8a6db590b97b"
      },
      "source": [
        "gs.fit(X_train_2, y_train_2)\n",
        "gs.best_params_"
      ],
      "execution_count": 167,
      "outputs": [
        {
          "output_type": "stream",
          "text": [
            "Fitting 5 folds for each of 60 candidates, totalling 300 fits\n"
          ],
          "name": "stdout"
        },
        {
          "output_type": "stream",
          "text": [
            "[Parallel(n_jobs=-1)]: Using backend LokyBackend with 2 concurrent workers.\n",
            "[Parallel(n_jobs=-1)]: Done  46 tasks      | elapsed:  2.5min\n",
            "[Parallel(n_jobs=-1)]: Done 196 tasks      | elapsed: 13.4min\n",
            "[Parallel(n_jobs=-1)]: Done 300 out of 300 | elapsed: 20.7min finished\n"
          ],
          "name": "stderr"
        },
        {
          "output_type": "execute_result",
          "data": {
            "text/plain": [
              "{'gradientboostingclassifier__learning_rate': 0.005,\n",
              " 'gradientboostingclassifier__max_depth': 2,\n",
              " 'gradientboostingclassifier__n_estimators': 460}"
            ]
          },
          "metadata": {
            "tags": []
          },
          "execution_count": 167
        }
      ]
    },
    {
      "cell_type": "markdown",
      "metadata": {
        "id": "9xksDJAHYYzM",
        "colab_type": "text"
      },
      "source": [
        "#Build model_23"
      ]
    },
    {
      "cell_type": "code",
      "metadata": {
        "id": "NyrGm7mKKLYL",
        "colab_type": "code",
        "colab": {
          "base_uri": "https://localhost:8080/",
          "height": 68
        },
        "outputId": "9bf5bd89-ed8e-4fb1-a44f-491ce0c2cbed"
      },
      "source": [
        "model_23 = make_pipeline(\n",
        "    OrdinalEncoder(),\n",
        "    SimpleImputer(),\n",
        "    GradientBoostingClassifier(learning_rate=0.005, max_depth=2, n_estimators=460)\n",
        ")\n",
        "model_23.fit(X_train_2, y_train_2)\n",
        "print('Training accuracy:', model_23.score(X_train_2, y_train_2))\n",
        "print('Validation accuracy:', model_23.score(X_val_2, y_val_2))\n",
        "print('Test Accuracy', accuracy_score(y_test_2, model_23.predict(X_test_2)))"
      ],
      "execution_count": 170,
      "outputs": [
        {
          "output_type": "stream",
          "text": [
            "Training accuracy: 0.7319778188539742\n",
            "Validation accuracy: 0.6029411764705882\n",
            "Test Accuracy 0.5735294117647058\n"
          ],
          "name": "stdout"
        }
      ]
    }
  ]
}