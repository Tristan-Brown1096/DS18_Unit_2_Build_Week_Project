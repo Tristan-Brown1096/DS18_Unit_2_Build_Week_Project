{
  "nbformat": 4,
  "nbformat_minor": 0,
  "metadata": {
    "colab": {
      "name": "unit_2_build_week_project.ipynb",
      "provenance": [],
      "toc_visible": true,
      "authorship_tag": "ABX9TyNEjAn1ZxpqoFmgBQHMu8a+",
      "include_colab_link": true
    },
    "kernelspec": {
      "name": "python3",
      "display_name": "Python 3"
    }
  },
  "cells": [
    {
      "cell_type": "markdown",
      "metadata": {
        "id": "view-in-github",
        "colab_type": "text"
      },
      "source": [
        "<a href=\"https://colab.research.google.com/github/Tristan-Brown1096/DS18_Unit_2_Build_Week_Project/blob/master/unit_2_build_week_project.ipynb\" target=\"_parent\"><img src=\"https://colab.research.google.com/assets/colab-badge.svg\" alt=\"Open In Colab\"/></a>"
      ]
    },
    {
      "cell_type": "markdown",
      "metadata": {
        "id": "6nqhTRqgU5It",
        "colab_type": "text"
      },
      "source": [
        "#Data wrangling"
      ]
    },
    {
      "cell_type": "code",
      "metadata": {
        "id": "6vb91nqeUBlm",
        "colab_type": "code",
        "colab": {}
      },
      "source": [
        "import pandas as pd\n",
        "import numpy as np\n",
        "!pip install category_encoders==2.*\n",
        "!pip install pandas-profiling==2.*"
      ],
      "execution_count": null,
      "outputs": []
    },
    {
      "cell_type": "code",
      "metadata": {
        "id": "pE-j9psgTyeY",
        "colab_type": "code",
        "colab": {}
      },
      "source": [
        "df = pd.read_csv('cbb_data.csv')"
      ],
      "execution_count": 2,
      "outputs": []
    },
    {
      "cell_type": "code",
      "metadata": {
        "id": "Nsd71PbPUFti",
        "colab_type": "code",
        "colab": {
          "base_uri": "https://localhost:8080/",
          "height": 204
        },
        "outputId": "9ff6f191-f3fa-4c5e-c27a-ca0d1572f596"
      },
      "source": [
        "df.head()"
      ],
      "execution_count": 3,
      "outputs": [
        {
          "output_type": "execute_result",
          "data": {
            "text/html": [
              "<div>\n",
              "<style scoped>\n",
              "    .dataframe tbody tr th:only-of-type {\n",
              "        vertical-align: middle;\n",
              "    }\n",
              "\n",
              "    .dataframe tbody tr th {\n",
              "        vertical-align: top;\n",
              "    }\n",
              "\n",
              "    .dataframe thead th {\n",
              "        text-align: right;\n",
              "    }\n",
              "</style>\n",
              "<table border=\"1\" class=\"dataframe\">\n",
              "  <thead>\n",
              "    <tr style=\"text-align: right;\">\n",
              "      <th></th>\n",
              "      <th>TEAM</th>\n",
              "      <th>CONF</th>\n",
              "      <th>G</th>\n",
              "      <th>W</th>\n",
              "      <th>ADJOE</th>\n",
              "      <th>ADJDE</th>\n",
              "      <th>BARTHAG</th>\n",
              "      <th>EFG_O</th>\n",
              "      <th>EFG_D</th>\n",
              "      <th>TOR</th>\n",
              "      <th>TORD</th>\n",
              "      <th>ORB</th>\n",
              "      <th>DRB</th>\n",
              "      <th>FTR</th>\n",
              "      <th>FTRD</th>\n",
              "      <th>2P_O</th>\n",
              "      <th>2P_D</th>\n",
              "      <th>3P_O</th>\n",
              "      <th>3P_D</th>\n",
              "      <th>ADJ_T</th>\n",
              "      <th>WAB</th>\n",
              "      <th>POSTSEASON</th>\n",
              "      <th>SEED</th>\n",
              "      <th>YEAR</th>\n",
              "    </tr>\n",
              "  </thead>\n",
              "  <tbody>\n",
              "    <tr>\n",
              "      <th>0</th>\n",
              "      <td>North Carolina</td>\n",
              "      <td>ACC</td>\n",
              "      <td>40</td>\n",
              "      <td>33</td>\n",
              "      <td>123.3</td>\n",
              "      <td>94.9</td>\n",
              "      <td>0.9531</td>\n",
              "      <td>52.6</td>\n",
              "      <td>48.1</td>\n",
              "      <td>15.4</td>\n",
              "      <td>18.2</td>\n",
              "      <td>40.7</td>\n",
              "      <td>30.0</td>\n",
              "      <td>32.3</td>\n",
              "      <td>30.4</td>\n",
              "      <td>53.9</td>\n",
              "      <td>44.6</td>\n",
              "      <td>32.7</td>\n",
              "      <td>36.2</td>\n",
              "      <td>71.7</td>\n",
              "      <td>8.6</td>\n",
              "      <td>2ND</td>\n",
              "      <td>1.0</td>\n",
              "      <td>2016</td>\n",
              "    </tr>\n",
              "    <tr>\n",
              "      <th>1</th>\n",
              "      <td>Wisconsin</td>\n",
              "      <td>B10</td>\n",
              "      <td>40</td>\n",
              "      <td>36</td>\n",
              "      <td>129.1</td>\n",
              "      <td>93.6</td>\n",
              "      <td>0.9758</td>\n",
              "      <td>54.8</td>\n",
              "      <td>47.7</td>\n",
              "      <td>12.4</td>\n",
              "      <td>15.8</td>\n",
              "      <td>32.1</td>\n",
              "      <td>23.7</td>\n",
              "      <td>36.2</td>\n",
              "      <td>22.4</td>\n",
              "      <td>54.8</td>\n",
              "      <td>44.7</td>\n",
              "      <td>36.5</td>\n",
              "      <td>37.5</td>\n",
              "      <td>59.3</td>\n",
              "      <td>11.3</td>\n",
              "      <td>2ND</td>\n",
              "      <td>1.0</td>\n",
              "      <td>2015</td>\n",
              "    </tr>\n",
              "    <tr>\n",
              "      <th>2</th>\n",
              "      <td>Michigan</td>\n",
              "      <td>B10</td>\n",
              "      <td>40</td>\n",
              "      <td>33</td>\n",
              "      <td>114.4</td>\n",
              "      <td>90.4</td>\n",
              "      <td>0.9375</td>\n",
              "      <td>53.9</td>\n",
              "      <td>47.7</td>\n",
              "      <td>14.0</td>\n",
              "      <td>19.5</td>\n",
              "      <td>25.5</td>\n",
              "      <td>24.9</td>\n",
              "      <td>30.7</td>\n",
              "      <td>30.0</td>\n",
              "      <td>54.7</td>\n",
              "      <td>46.8</td>\n",
              "      <td>35.2</td>\n",
              "      <td>33.2</td>\n",
              "      <td>65.9</td>\n",
              "      <td>6.9</td>\n",
              "      <td>2ND</td>\n",
              "      <td>3.0</td>\n",
              "      <td>2018</td>\n",
              "    </tr>\n",
              "    <tr>\n",
              "      <th>3</th>\n",
              "      <td>Texas Tech</td>\n",
              "      <td>B12</td>\n",
              "      <td>38</td>\n",
              "      <td>31</td>\n",
              "      <td>115.2</td>\n",
              "      <td>85.2</td>\n",
              "      <td>0.9696</td>\n",
              "      <td>53.5</td>\n",
              "      <td>43.0</td>\n",
              "      <td>17.7</td>\n",
              "      <td>22.8</td>\n",
              "      <td>27.4</td>\n",
              "      <td>28.7</td>\n",
              "      <td>32.9</td>\n",
              "      <td>36.6</td>\n",
              "      <td>52.8</td>\n",
              "      <td>41.9</td>\n",
              "      <td>36.5</td>\n",
              "      <td>29.7</td>\n",
              "      <td>67.5</td>\n",
              "      <td>7.0</td>\n",
              "      <td>2ND</td>\n",
              "      <td>3.0</td>\n",
              "      <td>2019</td>\n",
              "    </tr>\n",
              "    <tr>\n",
              "      <th>4</th>\n",
              "      <td>Gonzaga</td>\n",
              "      <td>WCC</td>\n",
              "      <td>39</td>\n",
              "      <td>37</td>\n",
              "      <td>117.8</td>\n",
              "      <td>86.3</td>\n",
              "      <td>0.9728</td>\n",
              "      <td>56.6</td>\n",
              "      <td>41.1</td>\n",
              "      <td>16.2</td>\n",
              "      <td>17.1</td>\n",
              "      <td>30.0</td>\n",
              "      <td>26.2</td>\n",
              "      <td>39.0</td>\n",
              "      <td>26.9</td>\n",
              "      <td>56.3</td>\n",
              "      <td>40.0</td>\n",
              "      <td>38.2</td>\n",
              "      <td>29.0</td>\n",
              "      <td>71.5</td>\n",
              "      <td>7.7</td>\n",
              "      <td>2ND</td>\n",
              "      <td>1.0</td>\n",
              "      <td>2017</td>\n",
              "    </tr>\n",
              "  </tbody>\n",
              "</table>\n",
              "</div>"
            ],
            "text/plain": [
              "             TEAM CONF   G   W  ADJOE  ...  ADJ_T   WAB  POSTSEASON  SEED  YEAR\n",
              "0  North Carolina  ACC  40  33  123.3  ...   71.7   8.6         2ND   1.0  2016\n",
              "1       Wisconsin  B10  40  36  129.1  ...   59.3  11.3         2ND   1.0  2015\n",
              "2        Michigan  B10  40  33  114.4  ...   65.9   6.9         2ND   3.0  2018\n",
              "3      Texas Tech  B12  38  31  115.2  ...   67.5   7.0         2ND   3.0  2019\n",
              "4         Gonzaga  WCC  39  37  117.8  ...   71.5   7.7         2ND   1.0  2017\n",
              "\n",
              "[5 rows x 24 columns]"
            ]
          },
          "metadata": {
            "tags": []
          },
          "execution_count": 3
        }
      ]
    },
    {
      "cell_type": "code",
      "metadata": {
        "id": "k7Yb7RhQV-Yx",
        "colab_type": "code",
        "colab": {}
      },
      "source": [
        "df.YEAR = df.YEAR.astype(str)"
      ],
      "execution_count": 4,
      "outputs": []
    },
    {
      "cell_type": "code",
      "metadata": {
        "id": "Nzu0GT_mW_iQ",
        "colab_type": "code",
        "colab": {}
      },
      "source": [
        "df.TEAM = [team.replace(' ', '') for team in df.TEAM]"
      ],
      "execution_count": 5,
      "outputs": []
    },
    {
      "cell_type": "code",
      "metadata": {
        "id": "ZV2lOuX3WS4p",
        "colab_type": "code",
        "colab": {}
      },
      "source": [
        "df['ID'] = df.TEAM + df.YEAR"
      ],
      "execution_count": 6,
      "outputs": []
    },
    {
      "cell_type": "code",
      "metadata": {
        "id": "Rnep8cBLX_Xl",
        "colab_type": "code",
        "colab": {}
      },
      "source": [
        "df = df.set_index('ID')"
      ],
      "execution_count": 7,
      "outputs": []
    },
    {
      "cell_type": "code",
      "metadata": {
        "id": "z72L2BBqYG-J",
        "colab_type": "code",
        "colab": {
          "base_uri": "https://localhost:8080/",
          "height": 235
        },
        "outputId": "453e4219-a69a-4523-dab2-6ab9d226fe88"
      },
      "source": [
        "df.head()"
      ],
      "execution_count": 8,
      "outputs": [
        {
          "output_type": "execute_result",
          "data": {
            "text/html": [
              "<div>\n",
              "<style scoped>\n",
              "    .dataframe tbody tr th:only-of-type {\n",
              "        vertical-align: middle;\n",
              "    }\n",
              "\n",
              "    .dataframe tbody tr th {\n",
              "        vertical-align: top;\n",
              "    }\n",
              "\n",
              "    .dataframe thead th {\n",
              "        text-align: right;\n",
              "    }\n",
              "</style>\n",
              "<table border=\"1\" class=\"dataframe\">\n",
              "  <thead>\n",
              "    <tr style=\"text-align: right;\">\n",
              "      <th></th>\n",
              "      <th>TEAM</th>\n",
              "      <th>CONF</th>\n",
              "      <th>G</th>\n",
              "      <th>W</th>\n",
              "      <th>ADJOE</th>\n",
              "      <th>ADJDE</th>\n",
              "      <th>BARTHAG</th>\n",
              "      <th>EFG_O</th>\n",
              "      <th>EFG_D</th>\n",
              "      <th>TOR</th>\n",
              "      <th>TORD</th>\n",
              "      <th>ORB</th>\n",
              "      <th>DRB</th>\n",
              "      <th>FTR</th>\n",
              "      <th>FTRD</th>\n",
              "      <th>2P_O</th>\n",
              "      <th>2P_D</th>\n",
              "      <th>3P_O</th>\n",
              "      <th>3P_D</th>\n",
              "      <th>ADJ_T</th>\n",
              "      <th>WAB</th>\n",
              "      <th>POSTSEASON</th>\n",
              "      <th>SEED</th>\n",
              "      <th>YEAR</th>\n",
              "    </tr>\n",
              "    <tr>\n",
              "      <th>ID</th>\n",
              "      <th></th>\n",
              "      <th></th>\n",
              "      <th></th>\n",
              "      <th></th>\n",
              "      <th></th>\n",
              "      <th></th>\n",
              "      <th></th>\n",
              "      <th></th>\n",
              "      <th></th>\n",
              "      <th></th>\n",
              "      <th></th>\n",
              "      <th></th>\n",
              "      <th></th>\n",
              "      <th></th>\n",
              "      <th></th>\n",
              "      <th></th>\n",
              "      <th></th>\n",
              "      <th></th>\n",
              "      <th></th>\n",
              "      <th></th>\n",
              "      <th></th>\n",
              "      <th></th>\n",
              "      <th></th>\n",
              "      <th></th>\n",
              "    </tr>\n",
              "  </thead>\n",
              "  <tbody>\n",
              "    <tr>\n",
              "      <th>NorthCarolina2016</th>\n",
              "      <td>NorthCarolina</td>\n",
              "      <td>ACC</td>\n",
              "      <td>40</td>\n",
              "      <td>33</td>\n",
              "      <td>123.3</td>\n",
              "      <td>94.9</td>\n",
              "      <td>0.9531</td>\n",
              "      <td>52.6</td>\n",
              "      <td>48.1</td>\n",
              "      <td>15.4</td>\n",
              "      <td>18.2</td>\n",
              "      <td>40.7</td>\n",
              "      <td>30.0</td>\n",
              "      <td>32.3</td>\n",
              "      <td>30.4</td>\n",
              "      <td>53.9</td>\n",
              "      <td>44.6</td>\n",
              "      <td>32.7</td>\n",
              "      <td>36.2</td>\n",
              "      <td>71.7</td>\n",
              "      <td>8.6</td>\n",
              "      <td>2ND</td>\n",
              "      <td>1.0</td>\n",
              "      <td>2016</td>\n",
              "    </tr>\n",
              "    <tr>\n",
              "      <th>Wisconsin2015</th>\n",
              "      <td>Wisconsin</td>\n",
              "      <td>B10</td>\n",
              "      <td>40</td>\n",
              "      <td>36</td>\n",
              "      <td>129.1</td>\n",
              "      <td>93.6</td>\n",
              "      <td>0.9758</td>\n",
              "      <td>54.8</td>\n",
              "      <td>47.7</td>\n",
              "      <td>12.4</td>\n",
              "      <td>15.8</td>\n",
              "      <td>32.1</td>\n",
              "      <td>23.7</td>\n",
              "      <td>36.2</td>\n",
              "      <td>22.4</td>\n",
              "      <td>54.8</td>\n",
              "      <td>44.7</td>\n",
              "      <td>36.5</td>\n",
              "      <td>37.5</td>\n",
              "      <td>59.3</td>\n",
              "      <td>11.3</td>\n",
              "      <td>2ND</td>\n",
              "      <td>1.0</td>\n",
              "      <td>2015</td>\n",
              "    </tr>\n",
              "    <tr>\n",
              "      <th>Michigan2018</th>\n",
              "      <td>Michigan</td>\n",
              "      <td>B10</td>\n",
              "      <td>40</td>\n",
              "      <td>33</td>\n",
              "      <td>114.4</td>\n",
              "      <td>90.4</td>\n",
              "      <td>0.9375</td>\n",
              "      <td>53.9</td>\n",
              "      <td>47.7</td>\n",
              "      <td>14.0</td>\n",
              "      <td>19.5</td>\n",
              "      <td>25.5</td>\n",
              "      <td>24.9</td>\n",
              "      <td>30.7</td>\n",
              "      <td>30.0</td>\n",
              "      <td>54.7</td>\n",
              "      <td>46.8</td>\n",
              "      <td>35.2</td>\n",
              "      <td>33.2</td>\n",
              "      <td>65.9</td>\n",
              "      <td>6.9</td>\n",
              "      <td>2ND</td>\n",
              "      <td>3.0</td>\n",
              "      <td>2018</td>\n",
              "    </tr>\n",
              "    <tr>\n",
              "      <th>TexasTech2019</th>\n",
              "      <td>TexasTech</td>\n",
              "      <td>B12</td>\n",
              "      <td>38</td>\n",
              "      <td>31</td>\n",
              "      <td>115.2</td>\n",
              "      <td>85.2</td>\n",
              "      <td>0.9696</td>\n",
              "      <td>53.5</td>\n",
              "      <td>43.0</td>\n",
              "      <td>17.7</td>\n",
              "      <td>22.8</td>\n",
              "      <td>27.4</td>\n",
              "      <td>28.7</td>\n",
              "      <td>32.9</td>\n",
              "      <td>36.6</td>\n",
              "      <td>52.8</td>\n",
              "      <td>41.9</td>\n",
              "      <td>36.5</td>\n",
              "      <td>29.7</td>\n",
              "      <td>67.5</td>\n",
              "      <td>7.0</td>\n",
              "      <td>2ND</td>\n",
              "      <td>3.0</td>\n",
              "      <td>2019</td>\n",
              "    </tr>\n",
              "    <tr>\n",
              "      <th>Gonzaga2017</th>\n",
              "      <td>Gonzaga</td>\n",
              "      <td>WCC</td>\n",
              "      <td>39</td>\n",
              "      <td>37</td>\n",
              "      <td>117.8</td>\n",
              "      <td>86.3</td>\n",
              "      <td>0.9728</td>\n",
              "      <td>56.6</td>\n",
              "      <td>41.1</td>\n",
              "      <td>16.2</td>\n",
              "      <td>17.1</td>\n",
              "      <td>30.0</td>\n",
              "      <td>26.2</td>\n",
              "      <td>39.0</td>\n",
              "      <td>26.9</td>\n",
              "      <td>56.3</td>\n",
              "      <td>40.0</td>\n",
              "      <td>38.2</td>\n",
              "      <td>29.0</td>\n",
              "      <td>71.5</td>\n",
              "      <td>7.7</td>\n",
              "      <td>2ND</td>\n",
              "      <td>1.0</td>\n",
              "      <td>2017</td>\n",
              "    </tr>\n",
              "  </tbody>\n",
              "</table>\n",
              "</div>"
            ],
            "text/plain": [
              "                            TEAM CONF   G   W  ...   WAB  POSTSEASON  SEED  YEAR\n",
              "ID                                             ...                              \n",
              "NorthCarolina2016  NorthCarolina  ACC  40  33  ...   8.6         2ND   1.0  2016\n",
              "Wisconsin2015          Wisconsin  B10  40  36  ...  11.3         2ND   1.0  2015\n",
              "Michigan2018            Michigan  B10  40  33  ...   6.9         2ND   3.0  2018\n",
              "TexasTech2019          TexasTech  B12  38  31  ...   7.0         2ND   3.0  2019\n",
              "Gonzaga2017              Gonzaga  WCC  39  37  ...   7.7         2ND   1.0  2017\n",
              "\n",
              "[5 rows x 24 columns]"
            ]
          },
          "metadata": {
            "tags": []
          },
          "execution_count": 8
        }
      ]
    },
    {
      "cell_type": "code",
      "metadata": {
        "id": "L40Cg3WAUI0J",
        "colab_type": "code",
        "colab": {}
      },
      "source": [
        "df.POSTSEASON = df.POSTSEASON.replace(np.NaN, 'no tourney')"
      ],
      "execution_count": 9,
      "outputs": []
    },
    {
      "cell_type": "code",
      "metadata": {
        "id": "kqwXwK05VEeK",
        "colab_type": "code",
        "colab": {}
      },
      "source": [
        "df.SEED = df.SEED.replace(np.NaN, 0)"
      ],
      "execution_count": 10,
      "outputs": []
    },
    {
      "cell_type": "code",
      "metadata": {
        "id": "nR4FwEwMVLt_",
        "colab_type": "code",
        "colab": {}
      },
      "source": [
        "df.SEED = df.SEED.astype(int)"
      ],
      "execution_count": null,
      "outputs": []
    },
    {
      "cell_type": "code",
      "metadata": {
        "id": "jOnEj7HuViSB",
        "colab_type": "code",
        "colab": {
          "base_uri": "https://localhost:8080/",
          "height": 235
        },
        "outputId": "107a9ea2-3494-4b13-8fb1-2d1655ed45ca"
      },
      "source": [
        "df.head()"
      ],
      "execution_count": 12,
      "outputs": [
        {
          "output_type": "execute_result",
          "data": {
            "text/html": [
              "<div>\n",
              "<style scoped>\n",
              "    .dataframe tbody tr th:only-of-type {\n",
              "        vertical-align: middle;\n",
              "    }\n",
              "\n",
              "    .dataframe tbody tr th {\n",
              "        vertical-align: top;\n",
              "    }\n",
              "\n",
              "    .dataframe thead th {\n",
              "        text-align: right;\n",
              "    }\n",
              "</style>\n",
              "<table border=\"1\" class=\"dataframe\">\n",
              "  <thead>\n",
              "    <tr style=\"text-align: right;\">\n",
              "      <th></th>\n",
              "      <th>TEAM</th>\n",
              "      <th>CONF</th>\n",
              "      <th>G</th>\n",
              "      <th>W</th>\n",
              "      <th>ADJOE</th>\n",
              "      <th>ADJDE</th>\n",
              "      <th>BARTHAG</th>\n",
              "      <th>EFG_O</th>\n",
              "      <th>EFG_D</th>\n",
              "      <th>TOR</th>\n",
              "      <th>TORD</th>\n",
              "      <th>ORB</th>\n",
              "      <th>DRB</th>\n",
              "      <th>FTR</th>\n",
              "      <th>FTRD</th>\n",
              "      <th>2P_O</th>\n",
              "      <th>2P_D</th>\n",
              "      <th>3P_O</th>\n",
              "      <th>3P_D</th>\n",
              "      <th>ADJ_T</th>\n",
              "      <th>WAB</th>\n",
              "      <th>POSTSEASON</th>\n",
              "      <th>SEED</th>\n",
              "      <th>YEAR</th>\n",
              "    </tr>\n",
              "    <tr>\n",
              "      <th>ID</th>\n",
              "      <th></th>\n",
              "      <th></th>\n",
              "      <th></th>\n",
              "      <th></th>\n",
              "      <th></th>\n",
              "      <th></th>\n",
              "      <th></th>\n",
              "      <th></th>\n",
              "      <th></th>\n",
              "      <th></th>\n",
              "      <th></th>\n",
              "      <th></th>\n",
              "      <th></th>\n",
              "      <th></th>\n",
              "      <th></th>\n",
              "      <th></th>\n",
              "      <th></th>\n",
              "      <th></th>\n",
              "      <th></th>\n",
              "      <th></th>\n",
              "      <th></th>\n",
              "      <th></th>\n",
              "      <th></th>\n",
              "      <th></th>\n",
              "    </tr>\n",
              "  </thead>\n",
              "  <tbody>\n",
              "    <tr>\n",
              "      <th>NorthCarolina2016</th>\n",
              "      <td>NorthCarolina</td>\n",
              "      <td>ACC</td>\n",
              "      <td>40</td>\n",
              "      <td>33</td>\n",
              "      <td>123.3</td>\n",
              "      <td>94.9</td>\n",
              "      <td>0.9531</td>\n",
              "      <td>52.6</td>\n",
              "      <td>48.1</td>\n",
              "      <td>15.4</td>\n",
              "      <td>18.2</td>\n",
              "      <td>40.7</td>\n",
              "      <td>30.0</td>\n",
              "      <td>32.3</td>\n",
              "      <td>30.4</td>\n",
              "      <td>53.9</td>\n",
              "      <td>44.6</td>\n",
              "      <td>32.7</td>\n",
              "      <td>36.2</td>\n",
              "      <td>71.7</td>\n",
              "      <td>8.6</td>\n",
              "      <td>2ND</td>\n",
              "      <td>1</td>\n",
              "      <td>2016</td>\n",
              "    </tr>\n",
              "    <tr>\n",
              "      <th>Wisconsin2015</th>\n",
              "      <td>Wisconsin</td>\n",
              "      <td>B10</td>\n",
              "      <td>40</td>\n",
              "      <td>36</td>\n",
              "      <td>129.1</td>\n",
              "      <td>93.6</td>\n",
              "      <td>0.9758</td>\n",
              "      <td>54.8</td>\n",
              "      <td>47.7</td>\n",
              "      <td>12.4</td>\n",
              "      <td>15.8</td>\n",
              "      <td>32.1</td>\n",
              "      <td>23.7</td>\n",
              "      <td>36.2</td>\n",
              "      <td>22.4</td>\n",
              "      <td>54.8</td>\n",
              "      <td>44.7</td>\n",
              "      <td>36.5</td>\n",
              "      <td>37.5</td>\n",
              "      <td>59.3</td>\n",
              "      <td>11.3</td>\n",
              "      <td>2ND</td>\n",
              "      <td>1</td>\n",
              "      <td>2015</td>\n",
              "    </tr>\n",
              "    <tr>\n",
              "      <th>Michigan2018</th>\n",
              "      <td>Michigan</td>\n",
              "      <td>B10</td>\n",
              "      <td>40</td>\n",
              "      <td>33</td>\n",
              "      <td>114.4</td>\n",
              "      <td>90.4</td>\n",
              "      <td>0.9375</td>\n",
              "      <td>53.9</td>\n",
              "      <td>47.7</td>\n",
              "      <td>14.0</td>\n",
              "      <td>19.5</td>\n",
              "      <td>25.5</td>\n",
              "      <td>24.9</td>\n",
              "      <td>30.7</td>\n",
              "      <td>30.0</td>\n",
              "      <td>54.7</td>\n",
              "      <td>46.8</td>\n",
              "      <td>35.2</td>\n",
              "      <td>33.2</td>\n",
              "      <td>65.9</td>\n",
              "      <td>6.9</td>\n",
              "      <td>2ND</td>\n",
              "      <td>3</td>\n",
              "      <td>2018</td>\n",
              "    </tr>\n",
              "    <tr>\n",
              "      <th>TexasTech2019</th>\n",
              "      <td>TexasTech</td>\n",
              "      <td>B12</td>\n",
              "      <td>38</td>\n",
              "      <td>31</td>\n",
              "      <td>115.2</td>\n",
              "      <td>85.2</td>\n",
              "      <td>0.9696</td>\n",
              "      <td>53.5</td>\n",
              "      <td>43.0</td>\n",
              "      <td>17.7</td>\n",
              "      <td>22.8</td>\n",
              "      <td>27.4</td>\n",
              "      <td>28.7</td>\n",
              "      <td>32.9</td>\n",
              "      <td>36.6</td>\n",
              "      <td>52.8</td>\n",
              "      <td>41.9</td>\n",
              "      <td>36.5</td>\n",
              "      <td>29.7</td>\n",
              "      <td>67.5</td>\n",
              "      <td>7.0</td>\n",
              "      <td>2ND</td>\n",
              "      <td>3</td>\n",
              "      <td>2019</td>\n",
              "    </tr>\n",
              "    <tr>\n",
              "      <th>Gonzaga2017</th>\n",
              "      <td>Gonzaga</td>\n",
              "      <td>WCC</td>\n",
              "      <td>39</td>\n",
              "      <td>37</td>\n",
              "      <td>117.8</td>\n",
              "      <td>86.3</td>\n",
              "      <td>0.9728</td>\n",
              "      <td>56.6</td>\n",
              "      <td>41.1</td>\n",
              "      <td>16.2</td>\n",
              "      <td>17.1</td>\n",
              "      <td>30.0</td>\n",
              "      <td>26.2</td>\n",
              "      <td>39.0</td>\n",
              "      <td>26.9</td>\n",
              "      <td>56.3</td>\n",
              "      <td>40.0</td>\n",
              "      <td>38.2</td>\n",
              "      <td>29.0</td>\n",
              "      <td>71.5</td>\n",
              "      <td>7.7</td>\n",
              "      <td>2ND</td>\n",
              "      <td>1</td>\n",
              "      <td>2017</td>\n",
              "    </tr>\n",
              "  </tbody>\n",
              "</table>\n",
              "</div>"
            ],
            "text/plain": [
              "                            TEAM CONF   G   W  ...   WAB  POSTSEASON  SEED  YEAR\n",
              "ID                                             ...                              \n",
              "NorthCarolina2016  NorthCarolina  ACC  40  33  ...   8.6         2ND     1  2016\n",
              "Wisconsin2015          Wisconsin  B10  40  36  ...  11.3         2ND     1  2015\n",
              "Michigan2018            Michigan  B10  40  33  ...   6.9         2ND     3  2018\n",
              "TexasTech2019          TexasTech  B12  38  31  ...   7.0         2ND     3  2019\n",
              "Gonzaga2017              Gonzaga  WCC  39  37  ...   7.7         2ND     1  2017\n",
              "\n",
              "[5 rows x 24 columns]"
            ]
          },
          "metadata": {
            "tags": []
          },
          "execution_count": 12
        }
      ]
    },
    {
      "cell_type": "markdown",
      "metadata": {
        "id": "SCNcBdo-Vlj2",
        "colab_type": "text"
      },
      "source": [
        "#Split data"
      ]
    },
    {
      "cell_type": "code",
      "metadata": {
        "id": "CTJfi4QMVnmt",
        "colab_type": "code",
        "colab": {}
      },
      "source": [
        "y = df.POSTSEASON\n",
        "\n",
        "X = df.drop(['POSTSEASON', 'TEAM', 'YEAR', 'SEED'], axis=1)"
      ],
      "execution_count": 13,
      "outputs": []
    },
    {
      "cell_type": "code",
      "metadata": {
        "id": "Bn96DjLiYXNC",
        "colab_type": "code",
        "colab": {}
      },
      "source": [
        "from sklearn.model_selection import train_test_split\n",
        "\n",
        "X_train, X_val, y_train, y_val = train_test_split(X, y, test_size=0.2, random_state=42)"
      ],
      "execution_count": 14,
      "outputs": []
    },
    {
      "cell_type": "markdown",
      "metadata": {
        "id": "x-qwclgtYtKK",
        "colab_type": "text"
      },
      "source": [
        "#Baseline"
      ]
    },
    {
      "cell_type": "code",
      "metadata": {
        "id": "UUt06QvZYufp",
        "colab_type": "code",
        "colab": {
          "base_uri": "https://localhost:8080/",
          "height": 34
        },
        "outputId": "5e1eb473-edd8-4930-9166-fce2b010afe0"
      },
      "source": [
        "baseline = y_train.value_counts(normalize=True).max()\n",
        "print('Baseline Accuracy:', baseline)"
      ],
      "execution_count": 16,
      "outputs": [
        {
          "output_type": "stream",
          "text": [
            "Baseline Accuracy: 0.797864768683274\n"
          ],
          "name": "stdout"
        }
      ]
    },
    {
      "cell_type": "markdown",
      "metadata": {
        "id": "tEWnYOPWYyUr",
        "colab_type": "text"
      },
      "source": [
        "#Build model_1"
      ]
    },
    {
      "cell_type": "code",
      "metadata": {
        "id": "558iYx9oY723",
        "colab_type": "code",
        "colab": {}
      },
      "source": [
        "from category_encoders import OrdinalEncoder\n",
        "from sklearn.ensemble import RandomForestClassifier\n",
        "from category_encoders import OneHotEncoder\n",
        "from sklearn.pipeline import make_pipeline\n",
        "from sklearn.impute import SimpleImputer\n",
        "from sklearn.feature_selection import SelectKBest"
      ],
      "execution_count": 21,
      "outputs": []
    },
    {
      "cell_type": "code",
      "metadata": {
        "id": "rQkZZXT3aYTE",
        "colab_type": "code",
        "colab": {
          "base_uri": "https://localhost:8080/",
          "height": 850
        },
        "outputId": "3a60671d-4e05-43a7-c5ac-5c711669dd23"
      },
      "source": [
        "model_1 = make_pipeline(\n",
        "    OrdinalEncoder(),\n",
        "    SimpleImputer(),\n",
        "    RandomForestClassifier(random_state=42, n_estimators=500, max_depth=4)\n",
        ")\n",
        "\n",
        "model_1.fit(X_train, y_train)"
      ],
      "execution_count": 18,
      "outputs": [
        {
          "output_type": "execute_result",
          "data": {
            "text/plain": [
              "Pipeline(memory=None,\n",
              "         steps=[('ordinalencoder',\n",
              "                 OrdinalEncoder(cols=['CONF'], drop_invariant=False,\n",
              "                                handle_missing='value', handle_unknown='value',\n",
              "                                mapping=[{'col': 'CONF',\n",
              "                                          'data_type': dtype('O'),\n",
              "                                          'mapping': Amer     1\n",
              "MAAC     2\n",
              "CUSA     3\n",
              "SEC      4\n",
              "BSky     5\n",
              "WCC      6\n",
              "SB       7\n",
              "BE       8\n",
              "A10      9\n",
              "P12     10\n",
              "WAC     11\n",
              "MWC     12\n",
              "ACC     13\n",
              "B10     14\n",
              "MAC     15\n",
              "B12     16\n",
              "NEC     17\n",
              "SWAC    18\n",
              "AE      19\n",
              "MVC     20\n",
              "CAA     21\n",
              "Slnd    22\n",
              "Horz    23\n",
              "OVC     24\n",
              "Sum     25\n",
              "Pat     26\n",
              "SC      27\n",
              "ASun    28\n",
              "Ivy     29\n",
              "MEAC    30\n",
              "BSth    31...\n",
              "                 RandomForestClassifier(bootstrap=True, ccp_alpha=0.0,\n",
              "                                        class_weight=None, criterion='gini',\n",
              "                                        max_depth=4, max_features='auto',\n",
              "                                        max_leaf_nodes=None, max_samples=None,\n",
              "                                        min_impurity_decrease=0.0,\n",
              "                                        min_impurity_split=None,\n",
              "                                        min_samples_leaf=1, min_samples_split=2,\n",
              "                                        min_weight_fraction_leaf=0.0,\n",
              "                                        n_estimators=500, n_jobs=None,\n",
              "                                        oob_score=False, random_state=42,\n",
              "                                        verbose=0, warm_start=False))],\n",
              "         verbose=False)"
            ]
          },
          "metadata": {
            "tags": []
          },
          "execution_count": 18
        }
      ]
    },
    {
      "cell_type": "code",
      "metadata": {
        "id": "ivRIanDEatJk",
        "colab_type": "code",
        "colab": {
          "base_uri": "https://localhost:8080/",
          "height": 51
        },
        "outputId": "cf673608-ae8b-4fa7-a08f-1c8275322a24"
      },
      "source": [
        "print('Training Accuracy:', model_1.score(X_train, y_train))\n",
        "print('Validation Accuracy:', model_1.score(X_val, y_val))"
      ],
      "execution_count": 19,
      "outputs": [
        {
          "output_type": "stream",
          "text": [
            "Training Accuracy: 0.8725978647686833\n",
            "Validation Accuracy: 0.8863636363636364\n"
          ],
          "name": "stdout"
        }
      ]
    },
    {
      "cell_type": "markdown",
      "metadata": {
        "id": "EiVCEYKXwUj0",
        "colab_type": "text"
      },
      "source": [
        "#Tuning"
      ]
    },
    {
      "cell_type": "code",
      "metadata": {
        "id": "eUet1y-9wV2t",
        "colab_type": "code",
        "colab": {}
      },
      "source": [
        "from sklearn.model_selection import GridSearchCV, RandomizedSearchCV"
      ],
      "execution_count": 20,
      "outputs": []
    },
    {
      "cell_type": "code",
      "metadata": {
        "id": "fWe6PkThwkUT",
        "colab_type": "code",
        "colab": {}
      },
      "source": [
        "model_2 = make_pipeline(\n",
        "    OrdinalEncoder(),\n",
        "    SelectKBest(),\n",
        "    RandomForestClassifier()\n",
        ")\n",
        "\n",
        "params = {'selectkbest__k': range(1, 20, 2),\n",
        "          'randomforestclassifier__n_estimators': range(100, 500, 20),\n",
        "          'randomforestclassifier__max_depth': range(1, 20, 2),\n",
        "}\n",
        "\n",
        "gs = GridSearchCV(model_2, param_grid=params, n_jobs=-1, verbose=1, cv=5, scoring='accuracy')"
      ],
      "execution_count": null,
      "outputs": []
    },
    {
      "cell_type": "code",
      "metadata": {
        "id": "e9dMx0bLx22R",
        "colab_type": "code",
        "colab": {
          "base_uri": "https://localhost:8080/",
          "height": 765
        },
        "outputId": "70f0c778-05a9-4626-db92-9455518d4cf9"
      },
      "source": [
        "gs.fit(X_train, y_train)"
      ],
      "execution_count": null,
      "outputs": [
        {
          "output_type": "stream",
          "text": [
            "Fitting 5 folds for each of 2000 candidates, totalling 10000 fits\n"
          ],
          "name": "stdout"
        },
        {
          "output_type": "stream",
          "text": [
            "[Parallel(n_jobs=-1)]: Using backend LokyBackend with 2 concurrent workers.\n",
            "[Parallel(n_jobs=-1)]: Done  46 tasks      | elapsed:    8.4s\n",
            "[Parallel(n_jobs=-1)]: Done 196 tasks      | elapsed:   38.9s\n",
            "[Parallel(n_jobs=-1)]: Done 446 tasks      | elapsed:  1.9min\n",
            "[Parallel(n_jobs=-1)]: Done 796 tasks      | elapsed:  4.6min\n",
            "[Parallel(n_jobs=-1)]: Done 1246 tasks      | elapsed:  7.6min\n",
            "[Parallel(n_jobs=-1)]: Done 1796 tasks      | elapsed: 12.1min\n",
            "[Parallel(n_jobs=-1)]: Done 2446 tasks      | elapsed: 17.0min\n",
            "[Parallel(n_jobs=-1)]: Done 3196 tasks      | elapsed: 24.2min\n",
            "[Parallel(n_jobs=-1)]: Done 4046 tasks      | elapsed: 33.0min\n",
            "[Parallel(n_jobs=-1)]: Done 4996 tasks      | elapsed: 42.8min\n",
            "[Parallel(n_jobs=-1)]: Done 6046 tasks      | elapsed: 53.2min\n",
            "[Parallel(n_jobs=-1)]: Done 7196 tasks      | elapsed: 64.1min\n",
            "[Parallel(n_jobs=-1)]: Done 8446 tasks      | elapsed: 76.2min\n",
            "[Parallel(n_jobs=-1)]: Done 9796 tasks      | elapsed: 90.5min\n",
            "[Parallel(n_jobs=-1)]: Done 10000 out of 10000 | elapsed: 93.7min finished\n"
          ],
          "name": "stderr"
        },
        {
          "output_type": "execute_result",
          "data": {
            "text/plain": [
              "GridSearchCV(cv=5, error_score=nan,\n",
              "             estimator=Pipeline(memory=None,\n",
              "                                steps=[('ordinalencoder',\n",
              "                                        OrdinalEncoder(cols=None,\n",
              "                                                       drop_invariant=False,\n",
              "                                                       handle_missing='value',\n",
              "                                                       handle_unknown='value',\n",
              "                                                       mapping=None,\n",
              "                                                       return_df=True,\n",
              "                                                       verbose=0)),\n",
              "                                       ('selectkbest',\n",
              "                                        SelectKBest(k=10,\n",
              "                                                    score_func=<function f_classif at 0x7fe4d07778c8>)),\n",
              "                                       ('randomforestclassifier',\n",
              "                                        RandomForestClassifie...\n",
              "                                                               n_jobs=None,\n",
              "                                                               oob_score=False,\n",
              "                                                               random_state=None,\n",
              "                                                               verbose=0,\n",
              "                                                               warm_start=False))],\n",
              "                                verbose=False),\n",
              "             iid='deprecated', n_jobs=-1,\n",
              "             param_grid={'randomforestclassifier__max_depth': range(1, 20, 2),\n",
              "                         'randomforestclassifier__n_estimators': range(100, 500, 20),\n",
              "                         'selectkbest__k': range(1, 20, 2)},\n",
              "             pre_dispatch='2*n_jobs', refit=True, return_train_score=False,\n",
              "             scoring='accuracy', verbose=1)"
            ]
          },
          "metadata": {
            "tags": []
          },
          "execution_count": 117
        }
      ]
    },
    {
      "cell_type": "code",
      "metadata": {
        "id": "jHlpzDMey1JC",
        "colab_type": "code",
        "colab": {
          "base_uri": "https://localhost:8080/",
          "height": 68
        },
        "outputId": "67be88dc-6503-40f9-a75b-ce0aa4d793d9"
      },
      "source": [
        "gs.best_params_"
      ],
      "execution_count": null,
      "outputs": [
        {
          "output_type": "execute_result",
          "data": {
            "text/plain": [
              "{'randomforestclassifier__max_depth': 7,\n",
              " 'randomforestclassifier__n_estimators': 320,\n",
              " 'selectkbest__k': 5}"
            ]
          },
          "metadata": {
            "tags": []
          },
          "execution_count": 118
        }
      ]
    },
    {
      "cell_type": "markdown",
      "metadata": {
        "id": "ucFTu9HNN3Kn",
        "colab_type": "text"
      },
      "source": [
        "#Build model_2"
      ]
    },
    {
      "cell_type": "code",
      "metadata": {
        "id": "rJ_0t4ZZM2t-",
        "colab_type": "code",
        "colab": {}
      },
      "source": [
        "model_2 = gs.best_estimator_"
      ],
      "execution_count": null,
      "outputs": []
    },
    {
      "cell_type": "code",
      "metadata": {
        "id": "IsPwDbkrNMMq",
        "colab_type": "code",
        "colab": {
          "base_uri": "https://localhost:8080/",
          "height": 51
        },
        "outputId": "77adf303-322a-4667-a22d-2b0b2a42c799"
      },
      "source": [
        "print('Training accuracy:', model_2.score(X_train, y_train))\n",
        "print('Validation accuracy:', model_2.score(X_val, y_val))"
      ],
      "execution_count": null,
      "outputs": [
        {
          "output_type": "stream",
          "text": [
            "Training accuracy: 0.9323843416370107\n",
            "Validation accuracy: 0.8693181818181818\n"
          ],
          "name": "stdout"
        }
      ]
    },
    {
      "cell_type": "markdown",
      "metadata": {
        "id": "3dW_xhaJN5wh",
        "colab_type": "text"
      },
      "source": [
        "#More tuning"
      ]
    },
    {
      "cell_type": "code",
      "metadata": {
        "id": "2mI5kH2RN7Ps",
        "colab_type": "code",
        "colab": {}
      },
      "source": [
        "params = {'randomforestclassifier__n_estimators': [320],\n",
        "          'randomforestclassifier__max_depth': range(2, 22, 2),\n",
        "          'randomforestclassifier__max_features': ['sqrt', 'log2', None]\n",
        "}\n",
        "\n",
        "gs = GridSearchCV(model_1, param_grid=params, n_jobs=-1, verbose=1, cv=5, scoring='accuracy')"
      ],
      "execution_count": 23,
      "outputs": []
    },
    {
      "cell_type": "code",
      "metadata": {
        "id": "0qGeZiU6OeuQ",
        "colab_type": "code",
        "colab": {
          "base_uri": "https://localhost:8080/",
          "height": 136
        },
        "outputId": "f6b12482-6baa-4649-e0f1-0e548819c77c"
      },
      "source": [
        "gs.fit(X_train, y_train)\n",
        "gs.best_params_"
      ],
      "execution_count": 24,
      "outputs": [
        {
          "output_type": "stream",
          "text": [
            "Fitting 5 folds for each of 30 candidates, totalling 150 fits\n"
          ],
          "name": "stdout"
        },
        {
          "output_type": "stream",
          "text": [
            "[Parallel(n_jobs=-1)]: Using backend LokyBackend with 2 concurrent workers.\n",
            "[Parallel(n_jobs=-1)]: Done  46 tasks      | elapsed:   43.4s\n",
            "[Parallel(n_jobs=-1)]: Done 150 out of 150 | elapsed:  3.0min finished\n"
          ],
          "name": "stderr"
        },
        {
          "output_type": "execute_result",
          "data": {
            "text/plain": [
              "{'randomforestclassifier__max_depth': 6,\n",
              " 'randomforestclassifier__max_features': None,\n",
              " 'randomforestclassifier__n_estimators': 320}"
            ]
          },
          "metadata": {
            "tags": []
          },
          "execution_count": 24
        }
      ]
    },
    {
      "cell_type": "markdown",
      "metadata": {
        "id": "S7Z92kKWPn3N",
        "colab_type": "text"
      },
      "source": [
        "#Build model_3"
      ]
    },
    {
      "cell_type": "code",
      "metadata": {
        "id": "ryECc1lrPqrY",
        "colab_type": "code",
        "colab": {
          "base_uri": "https://localhost:8080/",
          "height": 850
        },
        "outputId": "49e582b4-81be-49d2-8201-71719a0c0996"
      },
      "source": [
        "model_3 = make_pipeline(\n",
        "    OrdinalEncoder(),\n",
        "    SimpleImputer(),\n",
        "    RandomForestClassifier(random_state=42, n_estimators=320, max_depth=6, max_features=None)\n",
        ")\n",
        "\n",
        "model_3.fit(X_train, y_train)"
      ],
      "execution_count": 26,
      "outputs": [
        {
          "output_type": "execute_result",
          "data": {
            "text/plain": [
              "Pipeline(memory=None,\n",
              "         steps=[('ordinalencoder',\n",
              "                 OrdinalEncoder(cols=['CONF'], drop_invariant=False,\n",
              "                                handle_missing='value', handle_unknown='value',\n",
              "                                mapping=[{'col': 'CONF',\n",
              "                                          'data_type': dtype('O'),\n",
              "                                          'mapping': Amer     1\n",
              "MAAC     2\n",
              "CUSA     3\n",
              "SEC      4\n",
              "BSky     5\n",
              "WCC      6\n",
              "SB       7\n",
              "BE       8\n",
              "A10      9\n",
              "P12     10\n",
              "WAC     11\n",
              "MWC     12\n",
              "ACC     13\n",
              "B10     14\n",
              "MAC     15\n",
              "B12     16\n",
              "NEC     17\n",
              "SWAC    18\n",
              "AE      19\n",
              "MVC     20\n",
              "CAA     21\n",
              "Slnd    22\n",
              "Horz    23\n",
              "OVC     24\n",
              "Sum     25\n",
              "Pat     26\n",
              "SC      27\n",
              "ASun    28\n",
              "Ivy     29\n",
              "MEAC    30\n",
              "BSth    31...\n",
              "                 RandomForestClassifier(bootstrap=True, ccp_alpha=0.0,\n",
              "                                        class_weight=None, criterion='gini',\n",
              "                                        max_depth=6, max_features=None,\n",
              "                                        max_leaf_nodes=None, max_samples=None,\n",
              "                                        min_impurity_decrease=0.0,\n",
              "                                        min_impurity_split=None,\n",
              "                                        min_samples_leaf=1, min_samples_split=2,\n",
              "                                        min_weight_fraction_leaf=0.0,\n",
              "                                        n_estimators=320, n_jobs=None,\n",
              "                                        oob_score=False, random_state=42,\n",
              "                                        verbose=0, warm_start=False))],\n",
              "         verbose=False)"
            ]
          },
          "metadata": {
            "tags": []
          },
          "execution_count": 26
        }
      ]
    },
    {
      "cell_type": "code",
      "metadata": {
        "id": "4ofmdzbCP6U-",
        "colab_type": "code",
        "colab": {
          "base_uri": "https://localhost:8080/",
          "height": 51
        },
        "outputId": "704c9958-4f2d-4b71-bcf4-3b23a0d426a7"
      },
      "source": [
        "print('Training accuracy:', model_3.score(X_train, y_train))\n",
        "print('Validation accuracy:', model_3.score(X_val, y_val))"
      ],
      "execution_count": 27,
      "outputs": [
        {
          "output_type": "stream",
          "text": [
            "Training accuracy: 0.9323843416370107\n",
            "Validation accuracy: 0.875\n"
          ],
          "name": "stdout"
        }
      ]
    },
    {
      "cell_type": "markdown",
      "metadata": {
        "id": "hpY8RAN_QI37",
        "colab_type": "text"
      },
      "source": [
        "#Tuning again"
      ]
    },
    {
      "cell_type": "code",
      "metadata": {
        "id": "pKmZ0GY2QKvF",
        "colab_type": "code",
        "colab": {}
      },
      "source": [
        "params = {'randomforestclassifier__n_estimators': range(320, 420, 10),\n",
        "          'randomforestclassifier__max_depth': range(4, 12),\n",
        "          'randomforestclassifier__max_features': ['sqrt', 'log2', None]\n",
        "}\n",
        "\n",
        "gs = GridSearchCV(model_3, param_grid=params, n_jobs=-1, verbose=1, cv=5, scoring='accuracy')"
      ],
      "execution_count": 29,
      "outputs": []
    },
    {
      "cell_type": "code",
      "metadata": {
        "id": "NUSbgcPTQbVv",
        "colab_type": "code",
        "colab": {
          "base_uri": "https://localhost:8080/",
          "height": 187
        },
        "outputId": "db8fa7f5-bc4b-4773-de18-bf00f0a328da"
      },
      "source": [
        "gs.fit(X_train, y_train)\n",
        "gs.best_params_"
      ],
      "execution_count": 30,
      "outputs": [
        {
          "output_type": "stream",
          "text": [
            "Fitting 5 folds for each of 240 candidates, totalling 1200 fits\n"
          ],
          "name": "stdout"
        },
        {
          "output_type": "stream",
          "text": [
            "[Parallel(n_jobs=-1)]: Using backend LokyBackend with 2 concurrent workers.\n",
            "[Parallel(n_jobs=-1)]: Done  46 tasks      | elapsed:   32.6s\n",
            "[Parallel(n_jobs=-1)]: Done 196 tasks      | elapsed:  3.1min\n",
            "[Parallel(n_jobs=-1)]: Done 446 tasks      | elapsed:  8.3min\n",
            "[Parallel(n_jobs=-1)]: Done 796 tasks      | elapsed: 15.7min\n",
            "[Parallel(n_jobs=-1)]: Done 1200 out of 1200 | elapsed: 25.5min finished\n"
          ],
          "name": "stderr"
        },
        {
          "output_type": "execute_result",
          "data": {
            "text/plain": [
              "{'randomforestclassifier__max_depth': 5,\n",
              " 'randomforestclassifier__max_features': None,\n",
              " 'randomforestclassifier__n_estimators': 320}"
            ]
          },
          "metadata": {
            "tags": []
          },
          "execution_count": 30
        }
      ]
    },
    {
      "cell_type": "markdown",
      "metadata": {
        "id": "nBstfJX7WVJV",
        "colab_type": "text"
      },
      "source": [
        "#Build model_4"
      ]
    },
    {
      "cell_type": "code",
      "metadata": {
        "id": "RWrW9hGTWYfQ",
        "colab_type": "code",
        "colab": {
          "base_uri": "https://localhost:8080/",
          "height": 850
        },
        "outputId": "60163628-f0b8-4261-ed3a-36ef119086b9"
      },
      "source": [
        "model_4 = make_pipeline(\n",
        "    OrdinalEncoder(),\n",
        "    SimpleImputer(),\n",
        "    RandomForestClassifier(random_state=42, n_estimators=320, max_depth=5, max_features=None)\n",
        ")\n",
        "\n",
        "model_4.fit(X_train, y_train)"
      ],
      "execution_count": 31,
      "outputs": [
        {
          "output_type": "execute_result",
          "data": {
            "text/plain": [
              "Pipeline(memory=None,\n",
              "         steps=[('ordinalencoder',\n",
              "                 OrdinalEncoder(cols=['CONF'], drop_invariant=False,\n",
              "                                handle_missing='value', handle_unknown='value',\n",
              "                                mapping=[{'col': 'CONF',\n",
              "                                          'data_type': dtype('O'),\n",
              "                                          'mapping': Amer     1\n",
              "MAAC     2\n",
              "CUSA     3\n",
              "SEC      4\n",
              "BSky     5\n",
              "WCC      6\n",
              "SB       7\n",
              "BE       8\n",
              "A10      9\n",
              "P12     10\n",
              "WAC     11\n",
              "MWC     12\n",
              "ACC     13\n",
              "B10     14\n",
              "MAC     15\n",
              "B12     16\n",
              "NEC     17\n",
              "SWAC    18\n",
              "AE      19\n",
              "MVC     20\n",
              "CAA     21\n",
              "Slnd    22\n",
              "Horz    23\n",
              "OVC     24\n",
              "Sum     25\n",
              "Pat     26\n",
              "SC      27\n",
              "ASun    28\n",
              "Ivy     29\n",
              "MEAC    30\n",
              "BSth    31...\n",
              "                 RandomForestClassifier(bootstrap=True, ccp_alpha=0.0,\n",
              "                                        class_weight=None, criterion='gini',\n",
              "                                        max_depth=5, max_features=None,\n",
              "                                        max_leaf_nodes=None, max_samples=None,\n",
              "                                        min_impurity_decrease=0.0,\n",
              "                                        min_impurity_split=None,\n",
              "                                        min_samples_leaf=1, min_samples_split=2,\n",
              "                                        min_weight_fraction_leaf=0.0,\n",
              "                                        n_estimators=320, n_jobs=None,\n",
              "                                        oob_score=False, random_state=42,\n",
              "                                        verbose=0, warm_start=False))],\n",
              "         verbose=False)"
            ]
          },
          "metadata": {
            "tags": []
          },
          "execution_count": 31
        }
      ]
    },
    {
      "cell_type": "code",
      "metadata": {
        "id": "NFDKtZlaWgl9",
        "colab_type": "code",
        "colab": {
          "base_uri": "https://localhost:8080/",
          "height": 51
        },
        "outputId": "589529a1-bed1-4920-d5fc-af4c730aa1ea"
      },
      "source": [
        "print('Training accuracy:', model_4.score(X_train, y_train))\n",
        "print('Validation accuracy:', model_4.score(X_val, y_val))"
      ],
      "execution_count": 32,
      "outputs": [
        {
          "output_type": "stream",
          "text": [
            "Training accuracy: 0.892526690391459\n",
            "Validation accuracy: 0.8778409090909091\n"
          ],
          "name": "stdout"
        }
      ]
    },
    {
      "cell_type": "markdown",
      "metadata": {
        "id": "TkfU0UVDWvN0",
        "colab_type": "text"
      },
      "source": [
        "#Build model_5"
      ]
    },
    {
      "cell_type": "code",
      "metadata": {
        "id": "e0Jpw55VWune",
        "colab_type": "code",
        "colab": {
          "base_uri": "https://localhost:8080/",
          "height": 850
        },
        "outputId": "b6496a29-f29c-4d0d-a3c1-558eb61e12bf"
      },
      "source": [
        "model_5 = make_pipeline(\n",
        "    OrdinalEncoder(),\n",
        "    SimpleImputer(),\n",
        "    RandomForestClassifier(random_state=42, n_estimators=500, max_depth=5, max_features=None)\n",
        ")\n",
        "\n",
        "model_5.fit(X_train, y_train)"
      ],
      "execution_count": 41,
      "outputs": [
        {
          "output_type": "execute_result",
          "data": {
            "text/plain": [
              "Pipeline(memory=None,\n",
              "         steps=[('ordinalencoder',\n",
              "                 OrdinalEncoder(cols=['CONF'], drop_invariant=False,\n",
              "                                handle_missing='value', handle_unknown='value',\n",
              "                                mapping=[{'col': 'CONF',\n",
              "                                          'data_type': dtype('O'),\n",
              "                                          'mapping': Amer     1\n",
              "MAAC     2\n",
              "CUSA     3\n",
              "SEC      4\n",
              "BSky     5\n",
              "WCC      6\n",
              "SB       7\n",
              "BE       8\n",
              "A10      9\n",
              "P12     10\n",
              "WAC     11\n",
              "MWC     12\n",
              "ACC     13\n",
              "B10     14\n",
              "MAC     15\n",
              "B12     16\n",
              "NEC     17\n",
              "SWAC    18\n",
              "AE      19\n",
              "MVC     20\n",
              "CAA     21\n",
              "Slnd    22\n",
              "Horz    23\n",
              "OVC     24\n",
              "Sum     25\n",
              "Pat     26\n",
              "SC      27\n",
              "ASun    28\n",
              "Ivy     29\n",
              "MEAC    30\n",
              "BSth    31...\n",
              "                 RandomForestClassifier(bootstrap=True, ccp_alpha=0.0,\n",
              "                                        class_weight=None, criterion='gini',\n",
              "                                        max_depth=5, max_features=None,\n",
              "                                        max_leaf_nodes=None, max_samples=None,\n",
              "                                        min_impurity_decrease=0.0,\n",
              "                                        min_impurity_split=None,\n",
              "                                        min_samples_leaf=1, min_samples_split=2,\n",
              "                                        min_weight_fraction_leaf=0.0,\n",
              "                                        n_estimators=500, n_jobs=None,\n",
              "                                        oob_score=False, random_state=42,\n",
              "                                        verbose=0, warm_start=False))],\n",
              "         verbose=False)"
            ]
          },
          "metadata": {
            "tags": []
          },
          "execution_count": 41
        }
      ]
    },
    {
      "cell_type": "code",
      "metadata": {
        "id": "8EZteKduW5Qn",
        "colab_type": "code",
        "colab": {
          "base_uri": "https://localhost:8080/",
          "height": 51
        },
        "outputId": "1374b885-0b81-423c-e721-b0dbd18855f1"
      },
      "source": [
        "print('Training accuracy:', model_5.score(X_train, y_train))\n",
        "print('Validation accuracy:', model_5.score(X_val, y_val))"
      ],
      "execution_count": 42,
      "outputs": [
        {
          "output_type": "stream",
          "text": [
            "Training accuracy: 0.8932384341637011\n",
            "Validation accuracy: 0.875\n"
          ],
          "name": "stdout"
        }
      ]
    }
  ]
}