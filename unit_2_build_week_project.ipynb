{
  "nbformat": 4,
  "nbformat_minor": 0,
  "metadata": {
    "colab": {
      "name": "unit_2_build_week_project.ipynb",
      "provenance": [],
      "toc_visible": true,
      "authorship_tag": "ABX9TyM1IW5KKwWMIm99Ls2HjC4b",
      "include_colab_link": true
    },
    "kernelspec": {
      "name": "python3",
      "display_name": "Python 3"
    }
  },
  "cells": [
    {
      "cell_type": "markdown",
      "metadata": {
        "id": "view-in-github",
        "colab_type": "text"
      },
      "source": [
        "<a href=\"https://colab.research.google.com/github/Tristan-Brown1096/DS18_Unit_2_Build_Week_Project/blob/master/unit_2_build_week_project.ipynb\" target=\"_parent\"><img src=\"https://colab.research.google.com/assets/colab-badge.svg\" alt=\"Open In Colab\"/></a>"
      ]
    },
    {
      "cell_type": "markdown",
      "metadata": {
        "id": "6nqhTRqgU5It",
        "colab_type": "text"
      },
      "source": [
        "#Data wrangling"
      ]
    },
    {
      "cell_type": "code",
      "metadata": {
        "id": "6vb91nqeUBlm",
        "colab_type": "code",
        "colab": {
          "base_uri": "https://localhost:8080/",
          "height": 1000
        },
        "outputId": "68861845-f6b9-4315-918c-e8ff941c63af"
      },
      "source": [
        "import pandas as pd\n",
        "import numpy as np\n",
        "!pip install category_encoders==2.*\n",
        "!pip install pandas-profiling==2.*"
      ],
      "execution_count": null,
      "outputs": [
        {
          "output_type": "stream",
          "text": [
            "Collecting category_encoders==2.*\n",
            "\u001b[?25l  Downloading https://files.pythonhosted.org/packages/44/57/fcef41c248701ee62e8325026b90c432adea35555cbc870aff9cfba23727/category_encoders-2.2.2-py2.py3-none-any.whl (80kB)\n",
            "\r\u001b[K     |████                            | 10kB 16.8MB/s eta 0:00:01\r\u001b[K     |████████▏                       | 20kB 1.7MB/s eta 0:00:01\r\u001b[K     |████████████▏                   | 30kB 2.1MB/s eta 0:00:01\r\u001b[K     |████████████████▎               | 40kB 2.5MB/s eta 0:00:01\r\u001b[K     |████████████████████▎           | 51kB 2.0MB/s eta 0:00:01\r\u001b[K     |████████████████████████▍       | 61kB 2.2MB/s eta 0:00:01\r\u001b[K     |████████████████████████████▍   | 71kB 2.5MB/s eta 0:00:01\r\u001b[K     |████████████████████████████████| 81kB 2.1MB/s \n",
            "\u001b[?25hRequirement already satisfied: pandas>=0.21.1 in /usr/local/lib/python3.6/dist-packages (from category_encoders==2.*) (1.0.5)\n",
            "Requirement already satisfied: scipy>=1.0.0 in /usr/local/lib/python3.6/dist-packages (from category_encoders==2.*) (1.4.1)\n",
            "Requirement already satisfied: numpy>=1.14.0 in /usr/local/lib/python3.6/dist-packages (from category_encoders==2.*) (1.18.5)\n",
            "Requirement already satisfied: patsy>=0.5.1 in /usr/local/lib/python3.6/dist-packages (from category_encoders==2.*) (0.5.1)\n",
            "Requirement already satisfied: scikit-learn>=0.20.0 in /usr/local/lib/python3.6/dist-packages (from category_encoders==2.*) (0.22.2.post1)\n",
            "Requirement already satisfied: statsmodels>=0.9.0 in /usr/local/lib/python3.6/dist-packages (from category_encoders==2.*) (0.10.2)\n",
            "Requirement already satisfied: pytz>=2017.2 in /usr/local/lib/python3.6/dist-packages (from pandas>=0.21.1->category_encoders==2.*) (2018.9)\n",
            "Requirement already satisfied: python-dateutil>=2.6.1 in /usr/local/lib/python3.6/dist-packages (from pandas>=0.21.1->category_encoders==2.*) (2.8.1)\n",
            "Requirement already satisfied: six in /usr/local/lib/python3.6/dist-packages (from patsy>=0.5.1->category_encoders==2.*) (1.15.0)\n",
            "Requirement already satisfied: joblib>=0.11 in /usr/local/lib/python3.6/dist-packages (from scikit-learn>=0.20.0->category_encoders==2.*) (0.16.0)\n",
            "Installing collected packages: category-encoders\n",
            "Successfully installed category-encoders-2.2.2\n",
            "Collecting pandas-profiling==2.*\n",
            "\u001b[?25l  Downloading https://files.pythonhosted.org/packages/b9/94/ef8ef4517540d13406fcc0b8adfd75336e014242c69bd4162ab46931f36a/pandas_profiling-2.8.0-py2.py3-none-any.whl (259kB)\n",
            "\u001b[K     |████████████████████████████████| 266kB 2.7MB/s \n",
            "\u001b[?25hCollecting htmlmin>=0.1.12\n",
            "  Downloading https://files.pythonhosted.org/packages/b3/e7/fcd59e12169de19f0131ff2812077f964c6b960e7c09804d30a7bf2ab461/htmlmin-0.1.12.tar.gz\n",
            "Collecting tangled-up-in-unicode>=0.0.6\n",
            "\u001b[?25l  Downloading https://files.pythonhosted.org/packages/4a/e2/e588ab9298d4989ce7fdb2b97d18aac878d99dbdc379a4476a09d9271b68/tangled_up_in_unicode-0.0.6-py3-none-any.whl (3.1MB)\n",
            "\u001b[K     |████████████████████████████████| 3.1MB 8.9MB/s \n",
            "\u001b[?25hRequirement already satisfied: jinja2>=2.11.1 in /usr/local/lib/python3.6/dist-packages (from pandas-profiling==2.*) (2.11.2)\n",
            "Collecting confuse>=1.0.0\n",
            "\u001b[?25l  Downloading https://files.pythonhosted.org/packages/b5/6d/bedc0d1068bd244cee05843313cbec6cebb9f01f925538269bababc6d887/confuse-1.3.0-py2.py3-none-any.whl (64kB)\n",
            "\u001b[K     |████████████████████████████████| 71kB 7.3MB/s \n",
            "\u001b[?25hRequirement already satisfied: requests>=2.23.0 in /usr/local/lib/python3.6/dist-packages (from pandas-profiling==2.*) (2.23.0)\n",
            "Collecting visions[type_image_path]==0.4.4\n",
            "\u001b[?25l  Downloading https://files.pythonhosted.org/packages/4a/03/5a45d542257830cf1d9da2cdc1c0bc6f55a9212937b70fdd6d7031b46d6c/visions-0.4.4-py3-none-any.whl (59kB)\n",
            "\u001b[K     |████████████████████████████████| 61kB 7.2MB/s \n",
            "\u001b[?25hRequirement already satisfied: missingno>=0.4.2 in /usr/local/lib/python3.6/dist-packages (from pandas-profiling==2.*) (0.4.2)\n",
            "Requirement already satisfied: astropy>=4.0 in /usr/local/lib/python3.6/dist-packages (from pandas-profiling==2.*) (4.0.1.post1)\n",
            "Collecting tqdm>=4.43.0\n",
            "\u001b[?25l  Downloading https://files.pythonhosted.org/packages/28/7e/281edb5bc3274dfb894d90f4dbacfceaca381c2435ec6187a2c6f329aed7/tqdm-4.48.2-py2.py3-none-any.whl (68kB)\n",
            "\u001b[K     |████████████████████████████████| 71kB 7.5MB/s \n",
            "\u001b[?25hRequirement already satisfied: ipywidgets>=7.5.1 in /usr/local/lib/python3.6/dist-packages (from pandas-profiling==2.*) (7.5.1)\n",
            "Requirement already satisfied: matplotlib>=3.2.0 in /usr/local/lib/python3.6/dist-packages (from pandas-profiling==2.*) (3.2.2)\n",
            "Requirement already satisfied: scipy>=1.4.1 in /usr/local/lib/python3.6/dist-packages (from pandas-profiling==2.*) (1.4.1)\n",
            "Requirement already satisfied: joblib in /usr/local/lib/python3.6/dist-packages (from pandas-profiling==2.*) (0.16.0)\n",
            "Requirement already satisfied: numpy>=1.16.0 in /usr/local/lib/python3.6/dist-packages (from pandas-profiling==2.*) (1.18.5)\n",
            "Collecting phik>=0.9.10\n",
            "\u001b[?25l  Downloading https://files.pythonhosted.org/packages/01/5a/7ef1c04ce62cd72f900c06298dc2385840550d5c653a0dbc19109a5477e6/phik-0.10.0-py3-none-any.whl (599kB)\n",
            "\u001b[K     |████████████████████████████████| 604kB 34.4MB/s \n",
            "\u001b[?25hRequirement already satisfied: pandas!=1.0.0,!=1.0.1,!=1.0.2,>=0.25.3 in /usr/local/lib/python3.6/dist-packages (from pandas-profiling==2.*) (1.0.5)\n",
            "Requirement already satisfied: MarkupSafe>=0.23 in /usr/local/lib/python3.6/dist-packages (from jinja2>=2.11.1->pandas-profiling==2.*) (1.1.1)\n",
            "Requirement already satisfied: pyyaml in /usr/local/lib/python3.6/dist-packages (from confuse>=1.0.0->pandas-profiling==2.*) (3.13)\n",
            "Requirement already satisfied: idna<3,>=2.5 in /usr/local/lib/python3.6/dist-packages (from requests>=2.23.0->pandas-profiling==2.*) (2.10)\n",
            "Requirement already satisfied: certifi>=2017.4.17 in /usr/local/lib/python3.6/dist-packages (from requests>=2.23.0->pandas-profiling==2.*) (2020.6.20)\n",
            "Requirement already satisfied: urllib3!=1.25.0,!=1.25.1,<1.26,>=1.21.1 in /usr/local/lib/python3.6/dist-packages (from requests>=2.23.0->pandas-profiling==2.*) (1.24.3)\n",
            "Requirement already satisfied: chardet<4,>=3.0.2 in /usr/local/lib/python3.6/dist-packages (from requests>=2.23.0->pandas-profiling==2.*) (3.0.4)\n",
            "Requirement already satisfied: attrs>=19.3.0 in /usr/local/lib/python3.6/dist-packages (from visions[type_image_path]==0.4.4->pandas-profiling==2.*) (19.3.0)\n",
            "Requirement already satisfied: networkx>=2.4 in /usr/local/lib/python3.6/dist-packages (from visions[type_image_path]==0.4.4->pandas-profiling==2.*) (2.4)\n",
            "Collecting imagehash; extra == \"type_image_path\"\n",
            "\u001b[?25l  Downloading https://files.pythonhosted.org/packages/1a/5d/cc81830be3c4705a46cdbca74439b67f1017881383ba0127c41c4cecb7b3/ImageHash-4.1.0.tar.gz (291kB)\n",
            "\u001b[K     |████████████████████████████████| 296kB 28.4MB/s \n",
            "\u001b[?25hRequirement already satisfied: Pillow; extra == \"type_image_path\" in /usr/local/lib/python3.6/dist-packages (from visions[type_image_path]==0.4.4->pandas-profiling==2.*) (7.0.0)\n",
            "Requirement already satisfied: seaborn in /usr/local/lib/python3.6/dist-packages (from missingno>=0.4.2->pandas-profiling==2.*) (0.10.1)\n",
            "Requirement already satisfied: widgetsnbextension~=3.5.0 in /usr/local/lib/python3.6/dist-packages (from ipywidgets>=7.5.1->pandas-profiling==2.*) (3.5.1)\n",
            "Requirement already satisfied: nbformat>=4.2.0 in /usr/local/lib/python3.6/dist-packages (from ipywidgets>=7.5.1->pandas-profiling==2.*) (5.0.7)\n",
            "Requirement already satisfied: ipython>=4.0.0; python_version >= \"3.3\" in /usr/local/lib/python3.6/dist-packages (from ipywidgets>=7.5.1->pandas-profiling==2.*) (5.5.0)\n",
            "Requirement already satisfied: ipykernel>=4.5.1 in /usr/local/lib/python3.6/dist-packages (from ipywidgets>=7.5.1->pandas-profiling==2.*) (4.10.1)\n",
            "Requirement already satisfied: traitlets>=4.3.1 in /usr/local/lib/python3.6/dist-packages (from ipywidgets>=7.5.1->pandas-profiling==2.*) (4.3.3)\n",
            "Requirement already satisfied: python-dateutil>=2.1 in /usr/local/lib/python3.6/dist-packages (from matplotlib>=3.2.0->pandas-profiling==2.*) (2.8.1)\n",
            "Requirement already satisfied: cycler>=0.10 in /usr/local/lib/python3.6/dist-packages (from matplotlib>=3.2.0->pandas-profiling==2.*) (0.10.0)\n",
            "Requirement already satisfied: pyparsing!=2.0.4,!=2.1.2,!=2.1.6,>=2.0.1 in /usr/local/lib/python3.6/dist-packages (from matplotlib>=3.2.0->pandas-profiling==2.*) (2.4.7)\n",
            "Requirement already satisfied: kiwisolver>=1.0.1 in /usr/local/lib/python3.6/dist-packages (from matplotlib>=3.2.0->pandas-profiling==2.*) (1.2.0)\n",
            "Requirement already satisfied: numba>=0.38.1 in /usr/local/lib/python3.6/dist-packages (from phik>=0.9.10->pandas-profiling==2.*) (0.48.0)\n",
            "Requirement already satisfied: pytz>=2017.2 in /usr/local/lib/python3.6/dist-packages (from pandas!=1.0.0,!=1.0.1,!=1.0.2,>=0.25.3->pandas-profiling==2.*) (2018.9)\n",
            "Requirement already satisfied: decorator>=4.3.0 in /usr/local/lib/python3.6/dist-packages (from networkx>=2.4->visions[type_image_path]==0.4.4->pandas-profiling==2.*) (4.4.2)\n",
            "Requirement already satisfied: six in /usr/local/lib/python3.6/dist-packages (from imagehash; extra == \"type_image_path\"->visions[type_image_path]==0.4.4->pandas-profiling==2.*) (1.15.0)\n",
            "Requirement already satisfied: PyWavelets in /usr/local/lib/python3.6/dist-packages (from imagehash; extra == \"type_image_path\"->visions[type_image_path]==0.4.4->pandas-profiling==2.*) (1.1.1)\n",
            "Requirement already satisfied: notebook>=4.4.1 in /usr/local/lib/python3.6/dist-packages (from widgetsnbextension~=3.5.0->ipywidgets>=7.5.1->pandas-profiling==2.*) (5.3.1)\n",
            "Requirement already satisfied: jupyter-core in /usr/local/lib/python3.6/dist-packages (from nbformat>=4.2.0->ipywidgets>=7.5.1->pandas-profiling==2.*) (4.6.3)\n",
            "Requirement already satisfied: jsonschema!=2.5.0,>=2.4 in /usr/local/lib/python3.6/dist-packages (from nbformat>=4.2.0->ipywidgets>=7.5.1->pandas-profiling==2.*) (2.6.0)\n",
            "Requirement already satisfied: ipython-genutils in /usr/local/lib/python3.6/dist-packages (from nbformat>=4.2.0->ipywidgets>=7.5.1->pandas-profiling==2.*) (0.2.0)\n",
            "Requirement already satisfied: pickleshare in /usr/local/lib/python3.6/dist-packages (from ipython>=4.0.0; python_version >= \"3.3\"->ipywidgets>=7.5.1->pandas-profiling==2.*) (0.7.5)\n",
            "Requirement already satisfied: pygments in /usr/local/lib/python3.6/dist-packages (from ipython>=4.0.0; python_version >= \"3.3\"->ipywidgets>=7.5.1->pandas-profiling==2.*) (2.1.3)\n",
            "Requirement already satisfied: pexpect; sys_platform != \"win32\" in /usr/local/lib/python3.6/dist-packages (from ipython>=4.0.0; python_version >= \"3.3\"->ipywidgets>=7.5.1->pandas-profiling==2.*) (4.8.0)\n",
            "Requirement already satisfied: prompt-toolkit<2.0.0,>=1.0.4 in /usr/local/lib/python3.6/dist-packages (from ipython>=4.0.0; python_version >= \"3.3\"->ipywidgets>=7.5.1->pandas-profiling==2.*) (1.0.18)\n",
            "Requirement already satisfied: setuptools>=18.5 in /usr/local/lib/python3.6/dist-packages (from ipython>=4.0.0; python_version >= \"3.3\"->ipywidgets>=7.5.1->pandas-profiling==2.*) (49.2.0)\n",
            "Requirement already satisfied: simplegeneric>0.8 in /usr/local/lib/python3.6/dist-packages (from ipython>=4.0.0; python_version >= \"3.3\"->ipywidgets>=7.5.1->pandas-profiling==2.*) (0.8.1)\n",
            "Requirement already satisfied: tornado>=4.0 in /usr/local/lib/python3.6/dist-packages (from ipykernel>=4.5.1->ipywidgets>=7.5.1->pandas-profiling==2.*) (5.1.1)\n",
            "Requirement already satisfied: jupyter-client in /usr/local/lib/python3.6/dist-packages (from ipykernel>=4.5.1->ipywidgets>=7.5.1->pandas-profiling==2.*) (5.3.5)\n",
            "Requirement already satisfied: llvmlite<0.32.0,>=0.31.0dev0 in /usr/local/lib/python3.6/dist-packages (from numba>=0.38.1->phik>=0.9.10->pandas-profiling==2.*) (0.31.0)\n",
            "Requirement already satisfied: nbconvert in /usr/local/lib/python3.6/dist-packages (from notebook>=4.4.1->widgetsnbextension~=3.5.0->ipywidgets>=7.5.1->pandas-profiling==2.*) (5.6.1)\n",
            "Requirement already satisfied: terminado>=0.8.1 in /usr/local/lib/python3.6/dist-packages (from notebook>=4.4.1->widgetsnbextension~=3.5.0->ipywidgets>=7.5.1->pandas-profiling==2.*) (0.8.3)\n",
            "Requirement already satisfied: Send2Trash in /usr/local/lib/python3.6/dist-packages (from notebook>=4.4.1->widgetsnbextension~=3.5.0->ipywidgets>=7.5.1->pandas-profiling==2.*) (1.5.0)\n",
            "Requirement already satisfied: ptyprocess>=0.5 in /usr/local/lib/python3.6/dist-packages (from pexpect; sys_platform != \"win32\"->ipython>=4.0.0; python_version >= \"3.3\"->ipywidgets>=7.5.1->pandas-profiling==2.*) (0.6.0)\n",
            "Requirement already satisfied: wcwidth in /usr/local/lib/python3.6/dist-packages (from prompt-toolkit<2.0.0,>=1.0.4->ipython>=4.0.0; python_version >= \"3.3\"->ipywidgets>=7.5.1->pandas-profiling==2.*) (0.2.5)\n",
            "Requirement already satisfied: pyzmq>=13 in /usr/local/lib/python3.6/dist-packages (from jupyter-client->ipykernel>=4.5.1->ipywidgets>=7.5.1->pandas-profiling==2.*) (19.0.2)\n",
            "Requirement already satisfied: bleach in /usr/local/lib/python3.6/dist-packages (from nbconvert->notebook>=4.4.1->widgetsnbextension~=3.5.0->ipywidgets>=7.5.1->pandas-profiling==2.*) (3.1.5)\n",
            "Requirement already satisfied: pandocfilters>=1.4.1 in /usr/local/lib/python3.6/dist-packages (from nbconvert->notebook>=4.4.1->widgetsnbextension~=3.5.0->ipywidgets>=7.5.1->pandas-profiling==2.*) (1.4.2)\n",
            "Requirement already satisfied: defusedxml in /usr/local/lib/python3.6/dist-packages (from nbconvert->notebook>=4.4.1->widgetsnbextension~=3.5.0->ipywidgets>=7.5.1->pandas-profiling==2.*) (0.6.0)\n",
            "Requirement already satisfied: mistune<2,>=0.8.1 in /usr/local/lib/python3.6/dist-packages (from nbconvert->notebook>=4.4.1->widgetsnbextension~=3.5.0->ipywidgets>=7.5.1->pandas-profiling==2.*) (0.8.4)\n",
            "Requirement already satisfied: testpath in /usr/local/lib/python3.6/dist-packages (from nbconvert->notebook>=4.4.1->widgetsnbextension~=3.5.0->ipywidgets>=7.5.1->pandas-profiling==2.*) (0.4.4)\n",
            "Requirement already satisfied: entrypoints>=0.2.2 in /usr/local/lib/python3.6/dist-packages (from nbconvert->notebook>=4.4.1->widgetsnbextension~=3.5.0->ipywidgets>=7.5.1->pandas-profiling==2.*) (0.3)\n",
            "Requirement already satisfied: webencodings in /usr/local/lib/python3.6/dist-packages (from bleach->nbconvert->notebook>=4.4.1->widgetsnbextension~=3.5.0->ipywidgets>=7.5.1->pandas-profiling==2.*) (0.5.1)\n",
            "Requirement already satisfied: packaging in /usr/local/lib/python3.6/dist-packages (from bleach->nbconvert->notebook>=4.4.1->widgetsnbextension~=3.5.0->ipywidgets>=7.5.1->pandas-profiling==2.*) (20.4)\n",
            "Building wheels for collected packages: htmlmin, imagehash\n",
            "  Building wheel for htmlmin (setup.py) ... \u001b[?25l\u001b[?25hdone\n",
            "  Created wheel for htmlmin: filename=htmlmin-0.1.12-cp36-none-any.whl size=27084 sha256=97e94df9035985720577270f697f80b90ce6591aac247511c2db35c03c27d3ed\n",
            "  Stored in directory: /root/.cache/pip/wheels/43/07/ac/7c5a9d708d65247ac1f94066cf1db075540b85716c30255459\n",
            "  Building wheel for imagehash (setup.py) ... \u001b[?25l\u001b[?25hdone\n",
            "  Created wheel for imagehash: filename=ImageHash-4.1.0-py2.py3-none-any.whl size=291990 sha256=6ca0c1787190a15418915c753ac9b815b748a27b18d4c7e9ff8333fa7bb630e9\n",
            "  Stored in directory: /root/.cache/pip/wheels/07/1c/dc/6831446f09feb8cc199ec73a0f2f0703253f6ae013a22f4be9\n",
            "Successfully built htmlmin imagehash\n",
            "Installing collected packages: htmlmin, tangled-up-in-unicode, confuse, imagehash, visions, tqdm, phik, pandas-profiling\n",
            "  Found existing installation: tqdm 4.41.1\n",
            "    Uninstalling tqdm-4.41.1:\n",
            "      Successfully uninstalled tqdm-4.41.1\n",
            "  Found existing installation: pandas-profiling 1.4.1\n",
            "    Uninstalling pandas-profiling-1.4.1:\n",
            "      Successfully uninstalled pandas-profiling-1.4.1\n",
            "Successfully installed confuse-1.3.0 htmlmin-0.1.12 imagehash-4.1.0 pandas-profiling-2.8.0 phik-0.10.0 tangled-up-in-unicode-0.0.6 tqdm-4.48.2 visions-0.4.4\n"
          ],
          "name": "stdout"
        }
      ]
    },
    {
      "cell_type": "code",
      "metadata": {
        "id": "pE-j9psgTyeY",
        "colab_type": "code",
        "colab": {}
      },
      "source": [
        "df = pd.read_csv('https://raw.githubusercontent.com/Tristan-Brown1096/DS18_Unit_2_Build_Week_Project/master/data/cbb.csv')"
      ],
      "execution_count": null,
      "outputs": []
    },
    {
      "cell_type": "code",
      "metadata": {
        "id": "Nsd71PbPUFti",
        "colab_type": "code",
        "colab": {
          "base_uri": "https://localhost:8080/",
          "height": 204
        },
        "outputId": "201261c4-da98-42b8-8693-4e27aea9ff7f"
      },
      "source": [
        "df.head()"
      ],
      "execution_count": null,
      "outputs": [
        {
          "output_type": "execute_result",
          "data": {
            "text/html": [
              "<div>\n",
              "<style scoped>\n",
              "    .dataframe tbody tr th:only-of-type {\n",
              "        vertical-align: middle;\n",
              "    }\n",
              "\n",
              "    .dataframe tbody tr th {\n",
              "        vertical-align: top;\n",
              "    }\n",
              "\n",
              "    .dataframe thead th {\n",
              "        text-align: right;\n",
              "    }\n",
              "</style>\n",
              "<table border=\"1\" class=\"dataframe\">\n",
              "  <thead>\n",
              "    <tr style=\"text-align: right;\">\n",
              "      <th></th>\n",
              "      <th>Unnamed: 0</th>\n",
              "      <th>Unnamed: 0.1</th>\n",
              "      <th>TEAM</th>\n",
              "      <th>CONF</th>\n",
              "      <th>G</th>\n",
              "      <th>W</th>\n",
              "      <th>ADJOE</th>\n",
              "      <th>ADJDE</th>\n",
              "      <th>BARTHAG</th>\n",
              "      <th>EFG_O</th>\n",
              "      <th>EFG_D</th>\n",
              "      <th>TOR</th>\n",
              "      <th>TORD</th>\n",
              "      <th>ORB</th>\n",
              "      <th>DRB</th>\n",
              "      <th>FTR</th>\n",
              "      <th>FTRD</th>\n",
              "      <th>2P_O</th>\n",
              "      <th>2P_D</th>\n",
              "      <th>3P_O</th>\n",
              "      <th>3P_D</th>\n",
              "      <th>ADJ_T</th>\n",
              "      <th>WAB</th>\n",
              "      <th>POSTSEASON</th>\n",
              "      <th>SEED</th>\n",
              "      <th>YEAR</th>\n",
              "    </tr>\n",
              "  </thead>\n",
              "  <tbody>\n",
              "    <tr>\n",
              "      <th>0</th>\n",
              "      <td>0</td>\n",
              "      <td>0.0</td>\n",
              "      <td>North Carolina</td>\n",
              "      <td>ACC</td>\n",
              "      <td>40</td>\n",
              "      <td>33</td>\n",
              "      <td>123.3</td>\n",
              "      <td>94.9</td>\n",
              "      <td>0.9531</td>\n",
              "      <td>52.6</td>\n",
              "      <td>48.1</td>\n",
              "      <td>15.4</td>\n",
              "      <td>18.2</td>\n",
              "      <td>40.7</td>\n",
              "      <td>30.0</td>\n",
              "      <td>32.3</td>\n",
              "      <td>30.4</td>\n",
              "      <td>53.9</td>\n",
              "      <td>44.6</td>\n",
              "      <td>32.7</td>\n",
              "      <td>36.2</td>\n",
              "      <td>71.7</td>\n",
              "      <td>8.6</td>\n",
              "      <td>2ND</td>\n",
              "      <td>1.0</td>\n",
              "      <td>2016</td>\n",
              "    </tr>\n",
              "    <tr>\n",
              "      <th>1</th>\n",
              "      <td>1</td>\n",
              "      <td>1.0</td>\n",
              "      <td>Wisconsin</td>\n",
              "      <td>B10</td>\n",
              "      <td>40</td>\n",
              "      <td>36</td>\n",
              "      <td>129.1</td>\n",
              "      <td>93.6</td>\n",
              "      <td>0.9758</td>\n",
              "      <td>54.8</td>\n",
              "      <td>47.7</td>\n",
              "      <td>12.4</td>\n",
              "      <td>15.8</td>\n",
              "      <td>32.1</td>\n",
              "      <td>23.7</td>\n",
              "      <td>36.2</td>\n",
              "      <td>22.4</td>\n",
              "      <td>54.8</td>\n",
              "      <td>44.7</td>\n",
              "      <td>36.5</td>\n",
              "      <td>37.5</td>\n",
              "      <td>59.3</td>\n",
              "      <td>11.3</td>\n",
              "      <td>2ND</td>\n",
              "      <td>1.0</td>\n",
              "      <td>2015</td>\n",
              "    </tr>\n",
              "    <tr>\n",
              "      <th>2</th>\n",
              "      <td>2</td>\n",
              "      <td>2.0</td>\n",
              "      <td>Michigan</td>\n",
              "      <td>B10</td>\n",
              "      <td>40</td>\n",
              "      <td>33</td>\n",
              "      <td>114.4</td>\n",
              "      <td>90.4</td>\n",
              "      <td>0.9375</td>\n",
              "      <td>53.9</td>\n",
              "      <td>47.7</td>\n",
              "      <td>14.0</td>\n",
              "      <td>19.5</td>\n",
              "      <td>25.5</td>\n",
              "      <td>24.9</td>\n",
              "      <td>30.7</td>\n",
              "      <td>30.0</td>\n",
              "      <td>54.7</td>\n",
              "      <td>46.8</td>\n",
              "      <td>35.2</td>\n",
              "      <td>33.2</td>\n",
              "      <td>65.9</td>\n",
              "      <td>6.9</td>\n",
              "      <td>2ND</td>\n",
              "      <td>3.0</td>\n",
              "      <td>2018</td>\n",
              "    </tr>\n",
              "    <tr>\n",
              "      <th>3</th>\n",
              "      <td>3</td>\n",
              "      <td>3.0</td>\n",
              "      <td>Texas Tech</td>\n",
              "      <td>B12</td>\n",
              "      <td>38</td>\n",
              "      <td>31</td>\n",
              "      <td>115.2</td>\n",
              "      <td>85.2</td>\n",
              "      <td>0.9696</td>\n",
              "      <td>53.5</td>\n",
              "      <td>43.0</td>\n",
              "      <td>17.7</td>\n",
              "      <td>22.8</td>\n",
              "      <td>27.4</td>\n",
              "      <td>28.7</td>\n",
              "      <td>32.9</td>\n",
              "      <td>36.6</td>\n",
              "      <td>52.8</td>\n",
              "      <td>41.9</td>\n",
              "      <td>36.5</td>\n",
              "      <td>29.7</td>\n",
              "      <td>67.5</td>\n",
              "      <td>7.0</td>\n",
              "      <td>2ND</td>\n",
              "      <td>3.0</td>\n",
              "      <td>2019</td>\n",
              "    </tr>\n",
              "    <tr>\n",
              "      <th>4</th>\n",
              "      <td>4</td>\n",
              "      <td>4.0</td>\n",
              "      <td>Gonzaga</td>\n",
              "      <td>WCC</td>\n",
              "      <td>39</td>\n",
              "      <td>37</td>\n",
              "      <td>117.8</td>\n",
              "      <td>86.3</td>\n",
              "      <td>0.9728</td>\n",
              "      <td>56.6</td>\n",
              "      <td>41.1</td>\n",
              "      <td>16.2</td>\n",
              "      <td>17.1</td>\n",
              "      <td>30.0</td>\n",
              "      <td>26.2</td>\n",
              "      <td>39.0</td>\n",
              "      <td>26.9</td>\n",
              "      <td>56.3</td>\n",
              "      <td>40.0</td>\n",
              "      <td>38.2</td>\n",
              "      <td>29.0</td>\n",
              "      <td>71.5</td>\n",
              "      <td>7.7</td>\n",
              "      <td>2ND</td>\n",
              "      <td>1.0</td>\n",
              "      <td>2017</td>\n",
              "    </tr>\n",
              "  </tbody>\n",
              "</table>\n",
              "</div>"
            ],
            "text/plain": [
              "   Unnamed: 0  Unnamed: 0.1            TEAM CONF  ...   WAB POSTSEASON  SEED  YEAR\n",
              "0           0           0.0  North Carolina  ACC  ...   8.6        2ND   1.0  2016\n",
              "1           1           1.0       Wisconsin  B10  ...  11.3        2ND   1.0  2015\n",
              "2           2           2.0        Michigan  B10  ...   6.9        2ND   3.0  2018\n",
              "3           3           3.0      Texas Tech  B12  ...   7.0        2ND   3.0  2019\n",
              "4           4           4.0         Gonzaga  WCC  ...   7.7        2ND   1.0  2017\n",
              "\n",
              "[5 rows x 26 columns]"
            ]
          },
          "metadata": {
            "tags": []
          },
          "execution_count": 3
        }
      ]
    },
    {
      "cell_type": "code",
      "metadata": {
        "id": "dx2efQNqgulK",
        "colab_type": "code",
        "colab": {}
      },
      "source": [
        "df.TEAM = [team.replace(' ', '') for team in df.TEAM]"
      ],
      "execution_count": null,
      "outputs": []
    },
    {
      "cell_type": "code",
      "metadata": {
        "id": "YdyBhJQ5MdWO",
        "colab_type": "code",
        "colab": {}
      },
      "source": [
        "train = df[df['YEAR'] <= 2017]\n",
        "val = df[df['YEAR'] == 2018]\n",
        "test = df[df['YEAR'] == 2019]"
      ],
      "execution_count": null,
      "outputs": []
    },
    {
      "cell_type": "code",
      "metadata": {
        "id": "k7Yb7RhQV-Yx",
        "colab_type": "code",
        "colab": {
          "base_uri": "https://localhost:8080/",
          "height": 323
        },
        "outputId": "fefa85c9-e16f-4078-f6ce-e0406869e8fe"
      },
      "source": [
        "train['YEAR'] = train['YEAR'].astype(str)\n",
        "val['YEAR'] = val['YEAR'].astype(str)\n",
        "test['YEAR'] = test['YEAR'].astype(str)"
      ],
      "execution_count": null,
      "outputs": [
        {
          "output_type": "stream",
          "text": [
            "/usr/local/lib/python3.6/dist-packages/ipykernel_launcher.py:1: SettingWithCopyWarning: \n",
            "A value is trying to be set on a copy of a slice from a DataFrame.\n",
            "Try using .loc[row_indexer,col_indexer] = value instead\n",
            "\n",
            "See the caveats in the documentation: https://pandas.pydata.org/pandas-docs/stable/user_guide/indexing.html#returning-a-view-versus-a-copy\n",
            "  \"\"\"Entry point for launching an IPython kernel.\n",
            "/usr/local/lib/python3.6/dist-packages/ipykernel_launcher.py:2: SettingWithCopyWarning: \n",
            "A value is trying to be set on a copy of a slice from a DataFrame.\n",
            "Try using .loc[row_indexer,col_indexer] = value instead\n",
            "\n",
            "See the caveats in the documentation: https://pandas.pydata.org/pandas-docs/stable/user_guide/indexing.html#returning-a-view-versus-a-copy\n",
            "  \n",
            "/usr/local/lib/python3.6/dist-packages/ipykernel_launcher.py:3: SettingWithCopyWarning: \n",
            "A value is trying to be set on a copy of a slice from a DataFrame.\n",
            "Try using .loc[row_indexer,col_indexer] = value instead\n",
            "\n",
            "See the caveats in the documentation: https://pandas.pydata.org/pandas-docs/stable/user_guide/indexing.html#returning-a-view-versus-a-copy\n",
            "  This is separate from the ipykernel package so we can avoid doing imports until\n"
          ],
          "name": "stderr"
        }
      ]
    },
    {
      "cell_type": "code",
      "metadata": {
        "id": "ZV2lOuX3WS4p",
        "colab_type": "code",
        "colab": {
          "base_uri": "https://localhost:8080/",
          "height": 323
        },
        "outputId": "d311f2c3-16f2-4b9c-be6f-179bdf04f569"
      },
      "source": [
        "train['ID'] = train.TEAM + train.YEAR\n",
        "val['ID'] = val.TEAM + val.YEAR\n",
        "test['ID'] = test.TEAM + test.YEAR"
      ],
      "execution_count": null,
      "outputs": [
        {
          "output_type": "stream",
          "text": [
            "/usr/local/lib/python3.6/dist-packages/ipykernel_launcher.py:1: SettingWithCopyWarning: \n",
            "A value is trying to be set on a copy of a slice from a DataFrame.\n",
            "Try using .loc[row_indexer,col_indexer] = value instead\n",
            "\n",
            "See the caveats in the documentation: https://pandas.pydata.org/pandas-docs/stable/user_guide/indexing.html#returning-a-view-versus-a-copy\n",
            "  \"\"\"Entry point for launching an IPython kernel.\n",
            "/usr/local/lib/python3.6/dist-packages/ipykernel_launcher.py:2: SettingWithCopyWarning: \n",
            "A value is trying to be set on a copy of a slice from a DataFrame.\n",
            "Try using .loc[row_indexer,col_indexer] = value instead\n",
            "\n",
            "See the caveats in the documentation: https://pandas.pydata.org/pandas-docs/stable/user_guide/indexing.html#returning-a-view-versus-a-copy\n",
            "  \n",
            "/usr/local/lib/python3.6/dist-packages/ipykernel_launcher.py:3: SettingWithCopyWarning: \n",
            "A value is trying to be set on a copy of a slice from a DataFrame.\n",
            "Try using .loc[row_indexer,col_indexer] = value instead\n",
            "\n",
            "See the caveats in the documentation: https://pandas.pydata.org/pandas-docs/stable/user_guide/indexing.html#returning-a-view-versus-a-copy\n",
            "  This is separate from the ipykernel package so we can avoid doing imports until\n"
          ],
          "name": "stderr"
        }
      ]
    },
    {
      "cell_type": "code",
      "metadata": {
        "id": "Rnep8cBLX_Xl",
        "colab_type": "code",
        "colab": {}
      },
      "source": [
        "train = train.set_index('ID')\n",
        "val = val.set_index('ID')\n",
        "test = test.set_index('ID')"
      ],
      "execution_count": null,
      "outputs": []
    },
    {
      "cell_type": "code",
      "metadata": {
        "id": "z72L2BBqYG-J",
        "colab_type": "code",
        "colab": {
          "base_uri": "https://localhost:8080/",
          "height": 235
        },
        "outputId": "fbe72580-1ece-43f0-de8b-c90ad30c2987"
      },
      "source": [
        "train.head()"
      ],
      "execution_count": null,
      "outputs": [
        {
          "output_type": "execute_result",
          "data": {
            "text/html": [
              "<div>\n",
              "<style scoped>\n",
              "    .dataframe tbody tr th:only-of-type {\n",
              "        vertical-align: middle;\n",
              "    }\n",
              "\n",
              "    .dataframe tbody tr th {\n",
              "        vertical-align: top;\n",
              "    }\n",
              "\n",
              "    .dataframe thead th {\n",
              "        text-align: right;\n",
              "    }\n",
              "</style>\n",
              "<table border=\"1\" class=\"dataframe\">\n",
              "  <thead>\n",
              "    <tr style=\"text-align: right;\">\n",
              "      <th></th>\n",
              "      <th>Unnamed: 0</th>\n",
              "      <th>Unnamed: 0.1</th>\n",
              "      <th>TEAM</th>\n",
              "      <th>CONF</th>\n",
              "      <th>G</th>\n",
              "      <th>W</th>\n",
              "      <th>ADJOE</th>\n",
              "      <th>ADJDE</th>\n",
              "      <th>BARTHAG</th>\n",
              "      <th>EFG_O</th>\n",
              "      <th>EFG_D</th>\n",
              "      <th>TOR</th>\n",
              "      <th>TORD</th>\n",
              "      <th>ORB</th>\n",
              "      <th>DRB</th>\n",
              "      <th>FTR</th>\n",
              "      <th>FTRD</th>\n",
              "      <th>2P_O</th>\n",
              "      <th>2P_D</th>\n",
              "      <th>3P_O</th>\n",
              "      <th>3P_D</th>\n",
              "      <th>ADJ_T</th>\n",
              "      <th>WAB</th>\n",
              "      <th>POSTSEASON</th>\n",
              "      <th>SEED</th>\n",
              "      <th>YEAR</th>\n",
              "    </tr>\n",
              "    <tr>\n",
              "      <th>ID</th>\n",
              "      <th></th>\n",
              "      <th></th>\n",
              "      <th></th>\n",
              "      <th></th>\n",
              "      <th></th>\n",
              "      <th></th>\n",
              "      <th></th>\n",
              "      <th></th>\n",
              "      <th></th>\n",
              "      <th></th>\n",
              "      <th></th>\n",
              "      <th></th>\n",
              "      <th></th>\n",
              "      <th></th>\n",
              "      <th></th>\n",
              "      <th></th>\n",
              "      <th></th>\n",
              "      <th></th>\n",
              "      <th></th>\n",
              "      <th></th>\n",
              "      <th></th>\n",
              "      <th></th>\n",
              "      <th></th>\n",
              "      <th></th>\n",
              "      <th></th>\n",
              "      <th></th>\n",
              "    </tr>\n",
              "  </thead>\n",
              "  <tbody>\n",
              "    <tr>\n",
              "      <th>NorthCarolina2016</th>\n",
              "      <td>0</td>\n",
              "      <td>0.0</td>\n",
              "      <td>NorthCarolina</td>\n",
              "      <td>ACC</td>\n",
              "      <td>40</td>\n",
              "      <td>33</td>\n",
              "      <td>123.3</td>\n",
              "      <td>94.9</td>\n",
              "      <td>0.9531</td>\n",
              "      <td>52.6</td>\n",
              "      <td>48.1</td>\n",
              "      <td>15.4</td>\n",
              "      <td>18.2</td>\n",
              "      <td>40.7</td>\n",
              "      <td>30.0</td>\n",
              "      <td>32.3</td>\n",
              "      <td>30.4</td>\n",
              "      <td>53.9</td>\n",
              "      <td>44.6</td>\n",
              "      <td>32.7</td>\n",
              "      <td>36.2</td>\n",
              "      <td>71.7</td>\n",
              "      <td>8.6</td>\n",
              "      <td>2ND</td>\n",
              "      <td>1.0</td>\n",
              "      <td>2016</td>\n",
              "    </tr>\n",
              "    <tr>\n",
              "      <th>Wisconsin2015</th>\n",
              "      <td>1</td>\n",
              "      <td>1.0</td>\n",
              "      <td>Wisconsin</td>\n",
              "      <td>B10</td>\n",
              "      <td>40</td>\n",
              "      <td>36</td>\n",
              "      <td>129.1</td>\n",
              "      <td>93.6</td>\n",
              "      <td>0.9758</td>\n",
              "      <td>54.8</td>\n",
              "      <td>47.7</td>\n",
              "      <td>12.4</td>\n",
              "      <td>15.8</td>\n",
              "      <td>32.1</td>\n",
              "      <td>23.7</td>\n",
              "      <td>36.2</td>\n",
              "      <td>22.4</td>\n",
              "      <td>54.8</td>\n",
              "      <td>44.7</td>\n",
              "      <td>36.5</td>\n",
              "      <td>37.5</td>\n",
              "      <td>59.3</td>\n",
              "      <td>11.3</td>\n",
              "      <td>2ND</td>\n",
              "      <td>1.0</td>\n",
              "      <td>2015</td>\n",
              "    </tr>\n",
              "    <tr>\n",
              "      <th>Gonzaga2017</th>\n",
              "      <td>4</td>\n",
              "      <td>4.0</td>\n",
              "      <td>Gonzaga</td>\n",
              "      <td>WCC</td>\n",
              "      <td>39</td>\n",
              "      <td>37</td>\n",
              "      <td>117.8</td>\n",
              "      <td>86.3</td>\n",
              "      <td>0.9728</td>\n",
              "      <td>56.6</td>\n",
              "      <td>41.1</td>\n",
              "      <td>16.2</td>\n",
              "      <td>17.1</td>\n",
              "      <td>30.0</td>\n",
              "      <td>26.2</td>\n",
              "      <td>39.0</td>\n",
              "      <td>26.9</td>\n",
              "      <td>56.3</td>\n",
              "      <td>40.0</td>\n",
              "      <td>38.2</td>\n",
              "      <td>29.0</td>\n",
              "      <td>71.5</td>\n",
              "      <td>7.7</td>\n",
              "      <td>2ND</td>\n",
              "      <td>1.0</td>\n",
              "      <td>2017</td>\n",
              "    </tr>\n",
              "    <tr>\n",
              "      <th>Duke2015</th>\n",
              "      <td>5</td>\n",
              "      <td>5.0</td>\n",
              "      <td>Duke</td>\n",
              "      <td>ACC</td>\n",
              "      <td>39</td>\n",
              "      <td>35</td>\n",
              "      <td>125.2</td>\n",
              "      <td>90.6</td>\n",
              "      <td>0.9764</td>\n",
              "      <td>56.6</td>\n",
              "      <td>46.5</td>\n",
              "      <td>16.3</td>\n",
              "      <td>18.6</td>\n",
              "      <td>35.8</td>\n",
              "      <td>30.2</td>\n",
              "      <td>39.8</td>\n",
              "      <td>23.9</td>\n",
              "      <td>55.9</td>\n",
              "      <td>46.3</td>\n",
              "      <td>38.7</td>\n",
              "      <td>31.4</td>\n",
              "      <td>66.4</td>\n",
              "      <td>10.7</td>\n",
              "      <td>Champions</td>\n",
              "      <td>1.0</td>\n",
              "      <td>2015</td>\n",
              "    </tr>\n",
              "    <tr>\n",
              "      <th>NorthCarolina2017</th>\n",
              "      <td>7</td>\n",
              "      <td>7.0</td>\n",
              "      <td>NorthCarolina</td>\n",
              "      <td>ACC</td>\n",
              "      <td>39</td>\n",
              "      <td>33</td>\n",
              "      <td>121.0</td>\n",
              "      <td>91.5</td>\n",
              "      <td>0.9615</td>\n",
              "      <td>51.7</td>\n",
              "      <td>48.1</td>\n",
              "      <td>16.2</td>\n",
              "      <td>18.6</td>\n",
              "      <td>41.3</td>\n",
              "      <td>25.0</td>\n",
              "      <td>34.3</td>\n",
              "      <td>31.6</td>\n",
              "      <td>51.0</td>\n",
              "      <td>46.3</td>\n",
              "      <td>35.5</td>\n",
              "      <td>33.9</td>\n",
              "      <td>72.8</td>\n",
              "      <td>8.4</td>\n",
              "      <td>Champions</td>\n",
              "      <td>1.0</td>\n",
              "      <td>2017</td>\n",
              "    </tr>\n",
              "  </tbody>\n",
              "</table>\n",
              "</div>"
            ],
            "text/plain": [
              "                   Unnamed: 0  Unnamed: 0.1  ... SEED  YEAR\n",
              "ID                                           ...           \n",
              "NorthCarolina2016           0           0.0  ...  1.0  2016\n",
              "Wisconsin2015               1           1.0  ...  1.0  2015\n",
              "Gonzaga2017                 4           4.0  ...  1.0  2017\n",
              "Duke2015                    5           5.0  ...  1.0  2015\n",
              "NorthCarolina2017           7           7.0  ...  1.0  2017\n",
              "\n",
              "[5 rows x 26 columns]"
            ]
          },
          "metadata": {
            "tags": []
          },
          "execution_count": 9
        }
      ]
    },
    {
      "cell_type": "markdown",
      "metadata": {
        "id": "SCNcBdo-Vlj2",
        "colab_type": "text"
      },
      "source": [
        "#Split data"
      ]
    },
    {
      "cell_type": "code",
      "metadata": {
        "id": "CTJfi4QMVnmt",
        "colab_type": "code",
        "colab": {}
      },
      "source": [
        "target = 'POSTSEASON'"
      ],
      "execution_count": null,
      "outputs": []
    },
    {
      "cell_type": "code",
      "metadata": {
        "id": "Bn96DjLiYXNC",
        "colab_type": "code",
        "colab": {}
      },
      "source": [
        "X_train = train.drop([target, 'TEAM', 'YEAR', 'SEED', 'Unnamed: 0', 'Unnamed: 0.1'], axis=1)\n",
        "y_train = train[target]\n",
        "\n",
        "X_val = val.drop([target, 'TEAM', 'YEAR', 'SEED', 'Unnamed: 0', 'Unnamed: 0.1'], axis=1)\n",
        "y_val = val[target]\n",
        "\n",
        "X_test = test.drop([target, 'TEAM', 'YEAR', 'SEED', 'Unnamed: 0', 'Unnamed: 0.1'], axis=1)\n",
        "y_test = test[target]"
      ],
      "execution_count": null,
      "outputs": []
    },
    {
      "cell_type": "markdown",
      "metadata": {
        "id": "x-qwclgtYtKK",
        "colab_type": "text"
      },
      "source": [
        "#Baseline"
      ]
    },
    {
      "cell_type": "code",
      "metadata": {
        "id": "UUt06QvZYufp",
        "colab_type": "code",
        "colab": {
          "base_uri": "https://localhost:8080/",
          "height": 34
        },
        "outputId": "ea6c2968-7391-4789-a0b8-87ea708f5910"
      },
      "source": [
        "baseline = y_train.value_counts(normalize=True).max()\n",
        "print('Baseline Accuracy:', baseline)"
      ],
      "execution_count": null,
      "outputs": [
        {
          "output_type": "stream",
          "text": [
            "Baseline Accuracy: 0.8058844635809114\n"
          ],
          "name": "stdout"
        }
      ]
    },
    {
      "cell_type": "markdown",
      "metadata": {
        "id": "tEWnYOPWYyUr",
        "colab_type": "text"
      },
      "source": [
        "#Build model_1"
      ]
    },
    {
      "cell_type": "code",
      "metadata": {
        "id": "558iYx9oY723",
        "colab_type": "code",
        "colab": {
          "base_uri": "https://localhost:8080/",
          "height": 51
        },
        "outputId": "9ce09b00-f5f9-4ceb-ce5e-cabfe49d5472"
      },
      "source": [
        "from category_encoders import OrdinalEncoder\n",
        "from sklearn.ensemble import RandomForestClassifier\n",
        "from category_encoders import OneHotEncoder\n",
        "from sklearn.pipeline import make_pipeline\n",
        "from sklearn.impute import SimpleImputer\n",
        "from sklearn.feature_selection import SelectKBest"
      ],
      "execution_count": null,
      "outputs": [
        {
          "output_type": "stream",
          "text": [
            "/usr/local/lib/python3.6/dist-packages/statsmodels/tools/_testing.py:19: FutureWarning: pandas.util.testing is deprecated. Use the functions in the public API at pandas.testing instead.\n",
            "  import pandas.util.testing as tm\n"
          ],
          "name": "stderr"
        }
      ]
    },
    {
      "cell_type": "code",
      "metadata": {
        "id": "rQkZZXT3aYTE",
        "colab_type": "code",
        "colab": {
          "base_uri": "https://localhost:8080/",
          "height": 51
        },
        "outputId": "e8b5b8ce-dd8d-4c8e-bd07-bd67cb743ff6"
      },
      "source": [
        "model_1 = make_pipeline(\n",
        "    OrdinalEncoder(),\n",
        "    SimpleImputer(),\n",
        "    RandomForestClassifier(random_state=42, n_estimators=500, max_depth=4)\n",
        ")\n",
        "\n",
        "model_1.fit(X_train, y_train)\n",
        "print('Training Accuracy:', model_1.score(X_train, y_train))\n",
        "print('Validation Accuracy:', model_1.score(X_val, y_val))"
      ],
      "execution_count": null,
      "outputs": [
        {
          "output_type": "stream",
          "text": [
            "Training Accuracy: 0.8704700394689631\n",
            "Validation Accuracy: 0.8490028490028491\n"
          ],
          "name": "stdout"
        }
      ]
    },
    {
      "cell_type": "code",
      "metadata": {
        "id": "mpbU3MYePcUX",
        "colab_type": "code",
        "colab": {
          "base_uri": "https://localhost:8080/",
          "height": 34
        },
        "outputId": "f619ca4f-5ee2-401d-8281-7656ae74e334"
      },
      "source": [
        "from sklearn.metrics import accuracy_score\n",
        "print('Test Accuracy', accuracy_score(y_test, model_1.predict(X_test)))"
      ],
      "execution_count": null,
      "outputs": [
        {
          "output_type": "stream",
          "text": [
            "Test Accuracy 0.8526912181303116\n"
          ],
          "name": "stdout"
        }
      ]
    },
    {
      "cell_type": "markdown",
      "metadata": {
        "id": "EiVCEYKXwUj0",
        "colab_type": "text"
      },
      "source": [
        "#Tuning"
      ]
    },
    {
      "cell_type": "code",
      "metadata": {
        "id": "eUet1y-9wV2t",
        "colab_type": "code",
        "colab": {}
      },
      "source": [
        "from sklearn.model_selection import GridSearchCV, RandomizedSearchCV"
      ],
      "execution_count": null,
      "outputs": []
    },
    {
      "cell_type": "code",
      "metadata": {
        "id": "fWe6PkThwkUT",
        "colab_type": "code",
        "colab": {}
      },
      "source": [
        "model_2 = make_pipeline(\n",
        "    OrdinalEncoder(),\n",
        "    RandomForestClassifier()\n",
        ")\n",
        "\n",
        "params = {'randomforestclassifier__n_estimators': range(100, 300, 50),\n",
        "          'randomforestclassifier__max_depth': range(10, 20, 2),\n",
        "          'randomforestclassifier__max_features': ['sqrt', 'log2', None]\n",
        "}\n",
        "\n",
        "gs = GridSearchCV(model_2, param_grid=params, n_jobs=-1, verbose=1, cv=5, scoring='accuracy')"
      ],
      "execution_count": null,
      "outputs": []
    },
    {
      "cell_type": "code",
      "metadata": {
        "id": "e9dMx0bLx22R",
        "colab_type": "code",
        "colab": {
          "base_uri": "https://localhost:8080/",
          "height": 612
        },
        "outputId": "d5d944a7-99f2-40f2-9b35-c4b48d9bdf09"
      },
      "source": [
        "gs.fit(X_train, y_train)"
      ],
      "execution_count": null,
      "outputs": [
        {
          "output_type": "stream",
          "text": [
            "Fitting 5 folds for each of 60 candidates, totalling 300 fits\n"
          ],
          "name": "stdout"
        },
        {
          "output_type": "stream",
          "text": [
            "/usr/local/lib/python3.6/dist-packages/sklearn/model_selection/_split.py:667: UserWarning: The least populated class in y has only 3 members, which is less than n_splits=5.\n",
            "  % (min_groups, self.n_splits)), UserWarning)\n",
            "[Parallel(n_jobs=-1)]: Using backend LokyBackend with 2 concurrent workers.\n",
            "[Parallel(n_jobs=-1)]: Done  46 tasks      | elapsed:   20.9s\n",
            "[Parallel(n_jobs=-1)]: Done 196 tasks      | elapsed:  1.8min\n",
            "[Parallel(n_jobs=-1)]: Done 300 out of 300 | elapsed:  2.9min finished\n"
          ],
          "name": "stderr"
        },
        {
          "output_type": "execute_result",
          "data": {
            "text/plain": [
              "GridSearchCV(cv=5, error_score=nan,\n",
              "             estimator=Pipeline(memory=None,\n",
              "                                steps=[('ordinalencoder',\n",
              "                                        OrdinalEncoder(cols=None,\n",
              "                                                       drop_invariant=False,\n",
              "                                                       handle_missing='value',\n",
              "                                                       handle_unknown='value',\n",
              "                                                       mapping=None,\n",
              "                                                       return_df=True,\n",
              "                                                       verbose=0)),\n",
              "                                       ('randomforestclassifier',\n",
              "                                        RandomForestClassifier(bootstrap=True,\n",
              "                                                               ccp_alpha=0.0,\n",
              "                                                               class_weight=None,\n",
              "                                                               criterion='gini',\n",
              "                                                               max_depth=None,...\n",
              "                                                               random_state=None,\n",
              "                                                               verbose=0,\n",
              "                                                               warm_start=False))],\n",
              "                                verbose=False),\n",
              "             iid='deprecated', n_jobs=-1,\n",
              "             param_grid={'randomforestclassifier__max_depth': range(10, 20, 2),\n",
              "                         'randomforestclassifier__max_features': ['sqrt',\n",
              "                                                                  'log2',\n",
              "                                                                  None],\n",
              "                         'randomforestclassifier__n_estimators': range(100, 300, 50)},\n",
              "             pre_dispatch='2*n_jobs', refit=True, return_train_score=False,\n",
              "             scoring='accuracy', verbose=1)"
            ]
          },
          "metadata": {
            "tags": []
          },
          "execution_count": 36
        }
      ]
    },
    {
      "cell_type": "code",
      "metadata": {
        "id": "jHlpzDMey1JC",
        "colab_type": "code",
        "colab": {
          "base_uri": "https://localhost:8080/",
          "height": 68
        },
        "outputId": "ff059993-a876-4784-d18d-7c0e0bd3e08b"
      },
      "source": [
        "gs.best_params_"
      ],
      "execution_count": null,
      "outputs": [
        {
          "output_type": "execute_result",
          "data": {
            "text/plain": [
              "{'randomforestclassifier__max_depth': 10,\n",
              " 'randomforestclassifier__max_features': 'log2',\n",
              " 'randomforestclassifier__n_estimators': 150}"
            ]
          },
          "metadata": {
            "tags": []
          },
          "execution_count": 37
        }
      ]
    },
    {
      "cell_type": "markdown",
      "metadata": {
        "id": "ucFTu9HNN3Kn",
        "colab_type": "text"
      },
      "source": [
        "#Build model_2"
      ]
    },
    {
      "cell_type": "code",
      "metadata": {
        "id": "rJ_0t4ZZM2t-",
        "colab_type": "code",
        "colab": {
          "base_uri": "https://localhost:8080/",
          "height": 68
        },
        "outputId": "44e42105-ce06-4a52-9c4d-43470eb8587f"
      },
      "source": [
        "model_2 = make_pipeline(\n",
        "    OrdinalEncoder(),\n",
        "    RandomForestClassifier(max_depth=10, max_features='log2', n_estimators=150)\n",
        ")\n",
        "model_2.fit(X_train, y_train)\n",
        "print('Training accuracy:', model_2.score(X_train, y_train))\n",
        "print('Validation accuracy:', model_2.score(X_val, y_val))\n",
        "print('Test Accuracy', accuracy_score(y_test, model_2.predict(X_test)))"
      ],
      "execution_count": null,
      "outputs": [
        {
          "output_type": "stream",
          "text": [
            "Training accuracy: 0.9752421959095802\n",
            "Validation accuracy: 0.8490028490028491\n",
            "Test Accuracy 0.8498583569405099\n"
          ],
          "name": "stdout"
        }
      ]
    },
    {
      "cell_type": "markdown",
      "metadata": {
        "id": "3dW_xhaJN5wh",
        "colab_type": "text"
      },
      "source": [
        "#More tuning"
      ]
    },
    {
      "cell_type": "code",
      "metadata": {
        "id": "2mI5kH2RN7Ps",
        "colab_type": "code",
        "colab": {}
      },
      "source": [
        "params = {'randomforestclassifier__n_estimators': range(50, 200, 10),\n",
        "          'randomforestclassifier__max_depth': range(2, 10, 2),\n",
        "          'randomforestclassifier__max_features': ['sqrt', 'log2', None]\n",
        "}\n",
        "\n",
        "gs = GridSearchCV(model_2, param_grid=params, n_jobs=-1, verbose=1, cv=5, scoring='accuracy')"
      ],
      "execution_count": null,
      "outputs": []
    },
    {
      "cell_type": "code",
      "metadata": {
        "id": "0qGeZiU6OeuQ",
        "colab_type": "code",
        "colab": {
          "base_uri": "https://localhost:8080/",
          "height": 221
        },
        "outputId": "8cb0530e-9aa7-4f57-fdf8-f734f8c8a1de"
      },
      "source": [
        "gs.fit(X_train, y_train)\n",
        "gs.best_params_"
      ],
      "execution_count": null,
      "outputs": [
        {
          "output_type": "stream",
          "text": [
            "Fitting 5 folds for each of 180 candidates, totalling 900 fits\n"
          ],
          "name": "stdout"
        },
        {
          "output_type": "stream",
          "text": [
            "/usr/local/lib/python3.6/dist-packages/sklearn/model_selection/_split.py:667: UserWarning: The least populated class in y has only 3 members, which is less than n_splits=5.\n",
            "  % (min_groups, self.n_splits)), UserWarning)\n",
            "[Parallel(n_jobs=-1)]: Using backend LokyBackend with 2 concurrent workers.\n",
            "[Parallel(n_jobs=-1)]: Done  46 tasks      | elapsed:    6.9s\n",
            "[Parallel(n_jobs=-1)]: Done 196 tasks      | elapsed:   39.1s\n",
            "[Parallel(n_jobs=-1)]: Done 446 tasks      | elapsed:  1.9min\n",
            "[Parallel(n_jobs=-1)]: Done 796 tasks      | elapsed:  3.7min\n",
            "[Parallel(n_jobs=-1)]: Done 900 out of 900 | elapsed:  4.6min finished\n"
          ],
          "name": "stderr"
        },
        {
          "output_type": "execute_result",
          "data": {
            "text/plain": [
              "{'randomforestclassifier__max_depth': 4,\n",
              " 'randomforestclassifier__max_features': None,\n",
              " 'randomforestclassifier__n_estimators': 80}"
            ]
          },
          "metadata": {
            "tags": []
          },
          "execution_count": 43
        }
      ]
    },
    {
      "cell_type": "markdown",
      "metadata": {
        "id": "S7Z92kKWPn3N",
        "colab_type": "text"
      },
      "source": [
        "#Build model_3"
      ]
    },
    {
      "cell_type": "code",
      "metadata": {
        "id": "ryECc1lrPqrY",
        "colab_type": "code",
        "colab": {
          "base_uri": "https://localhost:8080/",
          "height": 68
        },
        "outputId": "4a29f7a3-0df2-4693-b6ec-d3d34b828208"
      },
      "source": [
        "model_3 = make_pipeline(\n",
        "    OrdinalEncoder(),\n",
        "    SimpleImputer(),\n",
        "    RandomForestClassifier(random_state=42, n_estimators=80, max_depth=4, max_features=None)\n",
        ")\n",
        "\n",
        "model_3.fit(X_train, y_train)\n",
        "print('Training accuracy:', model_3.score(X_train, y_train))\n",
        "print('Validation accuracy:', model_3.score(X_val, y_val))\n",
        "print('Test Accuracy', accuracy_score(y_test, model_3.predict(X_test)))"
      ],
      "execution_count": null,
      "outputs": [
        {
          "output_type": "stream",
          "text": [
            "Training accuracy: 0.8776462145676355\n",
            "Validation accuracy: 0.8717948717948718\n",
            "Test Accuracy 0.8555240793201133\n"
          ],
          "name": "stdout"
        }
      ]
    },
    {
      "cell_type": "markdown",
      "metadata": {
        "id": "hpY8RAN_QI37",
        "colab_type": "text"
      },
      "source": [
        "#Tuning again"
      ]
    },
    {
      "cell_type": "code",
      "metadata": {
        "id": "pKmZ0GY2QKvF",
        "colab_type": "code",
        "colab": {}
      },
      "source": [
        "params = {'randomforestclassifier__n_estimators': range(70, 90),\n",
        "          'randomforestclassifier__max_depth': range(1, 10),\n",
        "          'randomforestclassifier__max_features': ['sqrt', 'log2', None]\n",
        "}\n",
        "\n",
        "model_4 = make_pipeline(\n",
        "    OrdinalEncoder(),\n",
        "    SimpleImputer(),\n",
        "    RandomForestClassifier()\n",
        ")\n",
        "\n",
        "gs = GridSearchCV(model_4, param_grid=params, n_jobs=-1, verbose=1, cv=5, scoring='accuracy')"
      ],
      "execution_count": null,
      "outputs": []
    },
    {
      "cell_type": "code",
      "metadata": {
        "id": "NUSbgcPTQbVv",
        "colab_type": "code",
        "colab": {
          "base_uri": "https://localhost:8080/",
          "height": 272
        },
        "outputId": "94c42f0d-cfe6-4aa6-d96f-cb732f589936"
      },
      "source": [
        "gs.fit(X_train, y_train)\n",
        "gs.best_params_"
      ],
      "execution_count": null,
      "outputs": [
        {
          "output_type": "stream",
          "text": [
            "Fitting 5 folds for each of 540 candidates, totalling 2700 fits\n"
          ],
          "name": "stdout"
        },
        {
          "output_type": "stream",
          "text": [
            "/usr/local/lib/python3.6/dist-packages/sklearn/model_selection/_split.py:667: UserWarning: The least populated class in y has only 3 members, which is less than n_splits=5.\n",
            "  % (min_groups, self.n_splits)), UserWarning)\n",
            "[Parallel(n_jobs=-1)]: Using backend LokyBackend with 2 concurrent workers.\n",
            "[Parallel(n_jobs=-1)]: Done  46 tasks      | elapsed:    5.4s\n",
            "[Parallel(n_jobs=-1)]: Done 196 tasks      | elapsed:   24.7s\n",
            "[Parallel(n_jobs=-1)]: Done 446 tasks      | elapsed:  1.0min\n",
            "[Parallel(n_jobs=-1)]: Done 796 tasks      | elapsed:  1.9min\n",
            "[Parallel(n_jobs=-1)]: Done 1246 tasks      | elapsed:  3.5min\n",
            "[Parallel(n_jobs=-1)]: Done 1796 tasks      | elapsed:  5.6min\n",
            "[Parallel(n_jobs=-1)]: Done 2446 tasks      | elapsed:  8.3min\n",
            "[Parallel(n_jobs=-1)]: Done 2700 out of 2700 | elapsed:  9.5min finished\n"
          ],
          "name": "stderr"
        },
        {
          "output_type": "execute_result",
          "data": {
            "text/plain": [
              "{'randomforestclassifier__max_depth': 4,\n",
              " 'randomforestclassifier__max_features': 'log2',\n",
              " 'randomforestclassifier__n_estimators': 79}"
            ]
          },
          "metadata": {
            "tags": []
          },
          "execution_count": 48
        }
      ]
    },
    {
      "cell_type": "markdown",
      "metadata": {
        "id": "nBstfJX7WVJV",
        "colab_type": "text"
      },
      "source": [
        "#Build model_4"
      ]
    },
    {
      "cell_type": "code",
      "metadata": {
        "id": "RWrW9hGTWYfQ",
        "colab_type": "code",
        "colab": {
          "base_uri": "https://localhost:8080/",
          "height": 68
        },
        "outputId": "d0faf32b-08cb-4193-8be1-0ca960ab5666"
      },
      "source": [
        "model_4 = make_pipeline(\n",
        "    OrdinalEncoder(),\n",
        "    SimpleImputer(),\n",
        "    RandomForestClassifier(random_state=42, n_estimators=79, max_depth=4, max_features='log2')\n",
        ")\n",
        "\n",
        "model_4.fit(X_train, y_train)\n",
        "print('Training accuracy:', model_4.score(X_train, y_train))\n",
        "print('Validation accuracy:', model_4.score(X_val, y_val))\n",
        "print('Test Accuracy', accuracy_score(y_test, model_4.predict(X_test)))"
      ],
      "execution_count": null,
      "outputs": [
        {
          "output_type": "stream",
          "text": [
            "Training accuracy: 0.8701112307140294\n",
            "Validation accuracy: 0.8575498575498576\n",
            "Test Accuracy 0.8526912181303116\n"
          ],
          "name": "stdout"
        }
      ]
    },
    {
      "cell_type": "markdown",
      "metadata": {
        "id": "TkfU0UVDWvN0",
        "colab_type": "text"
      },
      "source": [
        "#Build model_5"
      ]
    },
    {
      "cell_type": "code",
      "metadata": {
        "id": "e0Jpw55VWune",
        "colab_type": "code",
        "colab": {
          "base_uri": "https://localhost:8080/",
          "height": 68
        },
        "outputId": "cd86acd3-6349-4e12-88b2-8dc861e0f290"
      },
      "source": [
        "model_5 = make_pipeline(\n",
        "    OrdinalEncoder(),\n",
        "    SimpleImputer(),\n",
        "    RandomForestClassifier(random_state=42, n_estimators=500, max_depth=5, max_features=None)\n",
        ")\n",
        "\n",
        "model_5.fit(X_train, y_train)\n",
        "print('Training accuracy:', model_5.score(X_train, y_train))\n",
        "print('Validation accuracy:', model_5.score(X_val, y_val))\n",
        "print('Test Accuracy', accuracy_score(y_test, model_5.predict(X_test)))"
      ],
      "execution_count": null,
      "outputs": [
        {
          "output_type": "stream",
          "text": [
            "Training accuracy: 0.8959454610692501\n",
            "Validation accuracy: 0.8717948717948718\n",
            "Test Accuracy 0.8583569405099151\n"
          ],
          "name": "stdout"
        }
      ]
    },
    {
      "cell_type": "markdown",
      "metadata": {
        "id": "ZAlATCSpXJn-",
        "colab_type": "text"
      },
      "source": [
        "#Build model_6"
      ]
    },
    {
      "cell_type": "code",
      "metadata": {
        "id": "lnxtfTPqXNq5",
        "colab_type": "code",
        "colab": {
          "base_uri": "https://localhost:8080/",
          "height": 68
        },
        "outputId": "6cc9dd3d-2120-45c7-a87d-3c68de738412"
      },
      "source": [
        "model_6 = make_pipeline(\n",
        "    OrdinalEncoder(),\n",
        "    SimpleImputer(),\n",
        "    RandomForestClassifier(random_state=42)\n",
        ")\n",
        "\n",
        "model_6.fit(X_train, y_train)\n",
        "print('Training accuracy:', model_6.score(X_train, y_train))\n",
        "print('Validation accuracy:', model_6.score(X_val, y_val))\n",
        "print('Test Accuracy', accuracy_score(y_test, model_6.predict(X_test)))"
      ],
      "execution_count": null,
      "outputs": [
        {
          "output_type": "stream",
          "text": [
            "Training accuracy: 1.0\n",
            "Validation accuracy: 0.8490028490028491\n",
            "Test Accuracy 0.8526912181303116\n"
          ],
          "name": "stdout"
        }
      ]
    },
    {
      "cell_type": "markdown",
      "metadata": {
        "id": "ceJ4SjgEWxq2",
        "colab_type": "text"
      },
      "source": [
        "#Accuracy scores"
      ]
    },
    {
      "cell_type": "code",
      "metadata": {
        "id": "evmEPVMJWztS",
        "colab_type": "code",
        "colab": {
          "base_uri": "https://localhost:8080/",
          "height": 119
        },
        "outputId": "fbe1755c-eb4b-451a-f122-b2aeea594d83"
      },
      "source": [
        "print('Model_1 Test Accuracy', accuracy_score(y_test, model_1.predict(X_test)))\n",
        "print('Model_2 Test Accuracy', accuracy_score(y_test, model_2.predict(X_test)))\n",
        "print('Model_3 Test Accuracy', accuracy_score(y_test, model_3.predict(X_test)))\n",
        "print('Model_4 Test Accuracy', accuracy_score(y_test, model_4.predict(X_test)))\n",
        "print('Model_5 Test Accuracy', accuracy_score(y_test, model_5.predict(X_test)))\n",
        "print('Model_6 Test Accuracy', accuracy_score(y_test, model_6.predict(X_test)))"
      ],
      "execution_count": null,
      "outputs": [
        {
          "output_type": "stream",
          "text": [
            "Model_1 Test Accuracy 0.8526912181303116\n",
            "Model_2 Test Accuracy 0.8498583569405099\n",
            "Model_3 Test Accuracy 0.8555240793201133\n",
            "Model_4 Test Accuracy 0.8526912181303116\n",
            "Model_5 Test Accuracy 0.8583569405099151\n",
            "Model_6 Test Accuracy 0.8526912181303116\n"
          ],
          "name": "stdout"
        }
      ]
    },
    {
      "cell_type": "markdown",
      "metadata": {
        "id": "z5XitQFuX6rK",
        "colab_type": "text"
      },
      "source": [
        "#Look at predictions"
      ]
    },
    {
      "cell_type": "code",
      "metadata": {
        "id": "0RMH7r27X8h6",
        "colab_type": "code",
        "colab": {
          "base_uri": "https://localhost:8080/",
          "height": 235
        },
        "outputId": "ab9c75be-7f29-47f9-db01-1a138c5ed3ec"
      },
      "source": [
        "predictions_2019 = pd.DataFrame(model_3.predict(X_test), index=X_test.index, columns=['prediction'])\n",
        "predictions_2019 = pd.concat([predictions_2019, y_test], axis=1)\n",
        "predictions_2019.head()"
      ],
      "execution_count": null,
      "outputs": [
        {
          "output_type": "execute_result",
          "data": {
            "text/html": [
              "<div>\n",
              "<style scoped>\n",
              "    .dataframe tbody tr th:only-of-type {\n",
              "        vertical-align: middle;\n",
              "    }\n",
              "\n",
              "    .dataframe tbody tr th {\n",
              "        vertical-align: top;\n",
              "    }\n",
              "\n",
              "    .dataframe thead th {\n",
              "        text-align: right;\n",
              "    }\n",
              "</style>\n",
              "<table border=\"1\" class=\"dataframe\">\n",
              "  <thead>\n",
              "    <tr style=\"text-align: right;\">\n",
              "      <th></th>\n",
              "      <th>prediction</th>\n",
              "      <th>POSTSEASON</th>\n",
              "    </tr>\n",
              "    <tr>\n",
              "      <th>ID</th>\n",
              "      <th></th>\n",
              "      <th></th>\n",
              "    </tr>\n",
              "  </thead>\n",
              "  <tbody>\n",
              "    <tr>\n",
              "      <th>TexasTech2019</th>\n",
              "      <td>E8</td>\n",
              "      <td>2ND</td>\n",
              "    </tr>\n",
              "    <tr>\n",
              "      <th>Virginia2019</th>\n",
              "      <td>E8</td>\n",
              "      <td>Champions</td>\n",
              "    </tr>\n",
              "    <tr>\n",
              "      <th>Duke2019</th>\n",
              "      <td>E8</td>\n",
              "      <td>E8</td>\n",
              "    </tr>\n",
              "    <tr>\n",
              "      <th>Purdue2019</th>\n",
              "      <td>R32</td>\n",
              "      <td>E8</td>\n",
              "    </tr>\n",
              "    <tr>\n",
              "      <th>Kentucky2019</th>\n",
              "      <td>E8</td>\n",
              "      <td>E8</td>\n",
              "    </tr>\n",
              "  </tbody>\n",
              "</table>\n",
              "</div>"
            ],
            "text/plain": [
              "              prediction POSTSEASON\n",
              "ID                                 \n",
              "TexasTech2019         E8        2ND\n",
              "Virginia2019          E8  Champions\n",
              "Duke2019              E8         E8\n",
              "Purdue2019           R32         E8\n",
              "Kentucky2019          E8         E8"
            ]
          },
          "metadata": {
            "tags": []
          },
          "execution_count": 67
        }
      ]
    },
    {
      "cell_type": "markdown",
      "metadata": {
        "id": "vXepV8FEYewp",
        "colab_type": "text"
      },
      "source": [
        "#Export predictions"
      ]
    },
    {
      "cell_type": "code",
      "metadata": {
        "id": "wbJ_U70aYhKD",
        "colab_type": "code",
        "colab": {}
      },
      "source": [
        "predictions_2019.to_csv('predictions.csv')"
      ],
      "execution_count": null,
      "outputs": []
    },
    {
      "cell_type": "markdown",
      "metadata": {
        "id": "arRwnsdOevya",
        "colab_type": "text"
      },
      "source": [
        "#Other metrics"
      ]
    },
    {
      "cell_type": "code",
      "metadata": {
        "id": "8SZHKEFvexU3",
        "colab_type": "code",
        "colab": {}
      },
      "source": [
        "from sklearn.metrics import f1_score, precision_score, recall_score, classification_report"
      ],
      "execution_count": null,
      "outputs": []
    },
    {
      "cell_type": "code",
      "metadata": {
        "id": "Hu9NqX9BfKpD",
        "colab_type": "code",
        "colab": {
          "base_uri": "https://localhost:8080/",
          "height": 119
        },
        "outputId": "7352ee35-4876-40ed-87c7-4db96c5c1765"
      },
      "source": [
        "print('Model_1 F1 Score:', f1_score(y_test, model_1.predict(X_test), average='micro'))\n",
        "print('Model_2 F1 Score:', f1_score(y_test, model_2.predict(X_test), average='micro'))\n",
        "print('Model_3 F1 Score:', f1_score(y_test, model_3.predict(X_test), average='micro'))\n",
        "print('Model_4 F1 Score:', f1_score(y_test, model_4.predict(X_test), average='micro'))\n",
        "print('Model_5 F1 Score:', f1_score(y_test, model_5.predict(X_test), average='micro'))\n",
        "print('Model_6 F1 Score:', f1_score(y_test, model_6.predict(X_test), average='micro'))"
      ],
      "execution_count": null,
      "outputs": [
        {
          "output_type": "stream",
          "text": [
            "Model_1 F1 Score: 0.8526912181303116\n",
            "Model_2 F1 Score: 0.8498583569405099\n",
            "Model_3 F1 Score: 0.8555240793201133\n",
            "Model_4 F1 Score: 0.8526912181303116\n",
            "Model_5 F1 Score: 0.8583569405099151\n",
            "Model_6 F1 Score: 0.8526912181303116\n"
          ],
          "name": "stdout"
        }
      ]
    },
    {
      "cell_type": "markdown",
      "metadata": {
        "id": "BrDFOrzuiO0a",
        "colab_type": "text"
      },
      "source": [
        "#Only tournament teams"
      ]
    },
    {
      "cell_type": "code",
      "metadata": {
        "id": "aZUrurA8iSTk",
        "colab_type": "code",
        "colab": {
          "base_uri": "https://localhost:8080/",
          "height": 204
        },
        "outputId": "5a4f9a9b-35dd-4d5d-8d5d-14cf262f80db"
      },
      "source": [
        "df_1 = df[df['POSTSEASON'] != 'no tourney']\n",
        "df_1.head()"
      ],
      "execution_count": null,
      "outputs": [
        {
          "output_type": "execute_result",
          "data": {
            "text/html": [
              "<div>\n",
              "<style scoped>\n",
              "    .dataframe tbody tr th:only-of-type {\n",
              "        vertical-align: middle;\n",
              "    }\n",
              "\n",
              "    .dataframe tbody tr th {\n",
              "        vertical-align: top;\n",
              "    }\n",
              "\n",
              "    .dataframe thead th {\n",
              "        text-align: right;\n",
              "    }\n",
              "</style>\n",
              "<table border=\"1\" class=\"dataframe\">\n",
              "  <thead>\n",
              "    <tr style=\"text-align: right;\">\n",
              "      <th></th>\n",
              "      <th>Unnamed: 0</th>\n",
              "      <th>Unnamed: 0.1</th>\n",
              "      <th>TEAM</th>\n",
              "      <th>CONF</th>\n",
              "      <th>G</th>\n",
              "      <th>W</th>\n",
              "      <th>ADJOE</th>\n",
              "      <th>ADJDE</th>\n",
              "      <th>BARTHAG</th>\n",
              "      <th>EFG_O</th>\n",
              "      <th>EFG_D</th>\n",
              "      <th>TOR</th>\n",
              "      <th>TORD</th>\n",
              "      <th>ORB</th>\n",
              "      <th>DRB</th>\n",
              "      <th>FTR</th>\n",
              "      <th>FTRD</th>\n",
              "      <th>2P_O</th>\n",
              "      <th>2P_D</th>\n",
              "      <th>3P_O</th>\n",
              "      <th>3P_D</th>\n",
              "      <th>ADJ_T</th>\n",
              "      <th>WAB</th>\n",
              "      <th>POSTSEASON</th>\n",
              "      <th>SEED</th>\n",
              "      <th>YEAR</th>\n",
              "    </tr>\n",
              "  </thead>\n",
              "  <tbody>\n",
              "    <tr>\n",
              "      <th>0</th>\n",
              "      <td>0</td>\n",
              "      <td>0.0</td>\n",
              "      <td>NorthCarolina</td>\n",
              "      <td>ACC</td>\n",
              "      <td>40</td>\n",
              "      <td>33</td>\n",
              "      <td>123.3</td>\n",
              "      <td>94.9</td>\n",
              "      <td>0.9531</td>\n",
              "      <td>52.6</td>\n",
              "      <td>48.1</td>\n",
              "      <td>15.4</td>\n",
              "      <td>18.2</td>\n",
              "      <td>40.7</td>\n",
              "      <td>30.0</td>\n",
              "      <td>32.3</td>\n",
              "      <td>30.4</td>\n",
              "      <td>53.9</td>\n",
              "      <td>44.6</td>\n",
              "      <td>32.7</td>\n",
              "      <td>36.2</td>\n",
              "      <td>71.7</td>\n",
              "      <td>8.6</td>\n",
              "      <td>2ND</td>\n",
              "      <td>1.0</td>\n",
              "      <td>2016</td>\n",
              "    </tr>\n",
              "    <tr>\n",
              "      <th>1</th>\n",
              "      <td>1</td>\n",
              "      <td>1.0</td>\n",
              "      <td>Wisconsin</td>\n",
              "      <td>B10</td>\n",
              "      <td>40</td>\n",
              "      <td>36</td>\n",
              "      <td>129.1</td>\n",
              "      <td>93.6</td>\n",
              "      <td>0.9758</td>\n",
              "      <td>54.8</td>\n",
              "      <td>47.7</td>\n",
              "      <td>12.4</td>\n",
              "      <td>15.8</td>\n",
              "      <td>32.1</td>\n",
              "      <td>23.7</td>\n",
              "      <td>36.2</td>\n",
              "      <td>22.4</td>\n",
              "      <td>54.8</td>\n",
              "      <td>44.7</td>\n",
              "      <td>36.5</td>\n",
              "      <td>37.5</td>\n",
              "      <td>59.3</td>\n",
              "      <td>11.3</td>\n",
              "      <td>2ND</td>\n",
              "      <td>1.0</td>\n",
              "      <td>2015</td>\n",
              "    </tr>\n",
              "    <tr>\n",
              "      <th>2</th>\n",
              "      <td>2</td>\n",
              "      <td>2.0</td>\n",
              "      <td>Michigan</td>\n",
              "      <td>B10</td>\n",
              "      <td>40</td>\n",
              "      <td>33</td>\n",
              "      <td>114.4</td>\n",
              "      <td>90.4</td>\n",
              "      <td>0.9375</td>\n",
              "      <td>53.9</td>\n",
              "      <td>47.7</td>\n",
              "      <td>14.0</td>\n",
              "      <td>19.5</td>\n",
              "      <td>25.5</td>\n",
              "      <td>24.9</td>\n",
              "      <td>30.7</td>\n",
              "      <td>30.0</td>\n",
              "      <td>54.7</td>\n",
              "      <td>46.8</td>\n",
              "      <td>35.2</td>\n",
              "      <td>33.2</td>\n",
              "      <td>65.9</td>\n",
              "      <td>6.9</td>\n",
              "      <td>2ND</td>\n",
              "      <td>3.0</td>\n",
              "      <td>2018</td>\n",
              "    </tr>\n",
              "    <tr>\n",
              "      <th>3</th>\n",
              "      <td>3</td>\n",
              "      <td>3.0</td>\n",
              "      <td>TexasTech</td>\n",
              "      <td>B12</td>\n",
              "      <td>38</td>\n",
              "      <td>31</td>\n",
              "      <td>115.2</td>\n",
              "      <td>85.2</td>\n",
              "      <td>0.9696</td>\n",
              "      <td>53.5</td>\n",
              "      <td>43.0</td>\n",
              "      <td>17.7</td>\n",
              "      <td>22.8</td>\n",
              "      <td>27.4</td>\n",
              "      <td>28.7</td>\n",
              "      <td>32.9</td>\n",
              "      <td>36.6</td>\n",
              "      <td>52.8</td>\n",
              "      <td>41.9</td>\n",
              "      <td>36.5</td>\n",
              "      <td>29.7</td>\n",
              "      <td>67.5</td>\n",
              "      <td>7.0</td>\n",
              "      <td>2ND</td>\n",
              "      <td>3.0</td>\n",
              "      <td>2019</td>\n",
              "    </tr>\n",
              "    <tr>\n",
              "      <th>4</th>\n",
              "      <td>4</td>\n",
              "      <td>4.0</td>\n",
              "      <td>Gonzaga</td>\n",
              "      <td>WCC</td>\n",
              "      <td>39</td>\n",
              "      <td>37</td>\n",
              "      <td>117.8</td>\n",
              "      <td>86.3</td>\n",
              "      <td>0.9728</td>\n",
              "      <td>56.6</td>\n",
              "      <td>41.1</td>\n",
              "      <td>16.2</td>\n",
              "      <td>17.1</td>\n",
              "      <td>30.0</td>\n",
              "      <td>26.2</td>\n",
              "      <td>39.0</td>\n",
              "      <td>26.9</td>\n",
              "      <td>56.3</td>\n",
              "      <td>40.0</td>\n",
              "      <td>38.2</td>\n",
              "      <td>29.0</td>\n",
              "      <td>71.5</td>\n",
              "      <td>7.7</td>\n",
              "      <td>2ND</td>\n",
              "      <td>1.0</td>\n",
              "      <td>2017</td>\n",
              "    </tr>\n",
              "  </tbody>\n",
              "</table>\n",
              "</div>"
            ],
            "text/plain": [
              "   Unnamed: 0  Unnamed: 0.1           TEAM CONF  ...   WAB POSTSEASON  SEED  YEAR\n",
              "0           0           0.0  NorthCarolina  ACC  ...   8.6        2ND   1.0  2016\n",
              "1           1           1.0      Wisconsin  B10  ...  11.3        2ND   1.0  2015\n",
              "2           2           2.0       Michigan  B10  ...   6.9        2ND   3.0  2018\n",
              "3           3           3.0      TexasTech  B12  ...   7.0        2ND   3.0  2019\n",
              "4           4           4.0        Gonzaga  WCC  ...   7.7        2ND   1.0  2017\n",
              "\n",
              "[5 rows x 26 columns]"
            ]
          },
          "metadata": {
            "tags": []
          },
          "execution_count": 26
        }
      ]
    },
    {
      "cell_type": "code",
      "metadata": {
        "id": "88sgioXwisCi",
        "colab_type": "code",
        "colab": {}
      },
      "source": [
        "train_1 = df_1[df_1['YEAR'] <= 2017]\n",
        "val_1 = df_1[df_1['YEAR'] == 2018]\n",
        "test_1 = df_1[df_1['YEAR'] == 2019]"
      ],
      "execution_count": null,
      "outputs": []
    },
    {
      "cell_type": "code",
      "metadata": {
        "id": "iSG90rYli3La",
        "colab_type": "code",
        "colab": {
          "base_uri": "https://localhost:8080/",
          "height": 323
        },
        "outputId": "b4c8cc80-09d2-4aa7-d8a6-d4740b1c3e44"
      },
      "source": [
        "train_1['YEAR'] = train_1['YEAR'].astype(str)\n",
        "val_1['YEAR'] = val_1['YEAR'].astype(str)\n",
        "test_1['YEAR'] = test_1['YEAR'].astype(str)"
      ],
      "execution_count": null,
      "outputs": [
        {
          "output_type": "stream",
          "text": [
            "/usr/local/lib/python3.6/dist-packages/ipykernel_launcher.py:1: SettingWithCopyWarning: \n",
            "A value is trying to be set on a copy of a slice from a DataFrame.\n",
            "Try using .loc[row_indexer,col_indexer] = value instead\n",
            "\n",
            "See the caveats in the documentation: https://pandas.pydata.org/pandas-docs/stable/user_guide/indexing.html#returning-a-view-versus-a-copy\n",
            "  \"\"\"Entry point for launching an IPython kernel.\n",
            "/usr/local/lib/python3.6/dist-packages/ipykernel_launcher.py:2: SettingWithCopyWarning: \n",
            "A value is trying to be set on a copy of a slice from a DataFrame.\n",
            "Try using .loc[row_indexer,col_indexer] = value instead\n",
            "\n",
            "See the caveats in the documentation: https://pandas.pydata.org/pandas-docs/stable/user_guide/indexing.html#returning-a-view-versus-a-copy\n",
            "  \n",
            "/usr/local/lib/python3.6/dist-packages/ipykernel_launcher.py:3: SettingWithCopyWarning: \n",
            "A value is trying to be set on a copy of a slice from a DataFrame.\n",
            "Try using .loc[row_indexer,col_indexer] = value instead\n",
            "\n",
            "See the caveats in the documentation: https://pandas.pydata.org/pandas-docs/stable/user_guide/indexing.html#returning-a-view-versus-a-copy\n",
            "  This is separate from the ipykernel package so we can avoid doing imports until\n"
          ],
          "name": "stderr"
        }
      ]
    },
    {
      "cell_type": "code",
      "metadata": {
        "id": "pPw0Up_pi-py",
        "colab_type": "code",
        "colab": {
          "base_uri": "https://localhost:8080/",
          "height": 323
        },
        "outputId": "bcf91e51-8012-406e-d5aa-439b43090f05"
      },
      "source": [
        "train_1['ID'] = train_1['TEAM'] + train_1['YEAR']\n",
        "val_1['ID'] = val_1.TEAM + val_1.YEAR\n",
        "test_1['ID'] = test_1.TEAM + test_1.YEAR"
      ],
      "execution_count": null,
      "outputs": [
        {
          "output_type": "stream",
          "text": [
            "/usr/local/lib/python3.6/dist-packages/ipykernel_launcher.py:1: SettingWithCopyWarning: \n",
            "A value is trying to be set on a copy of a slice from a DataFrame.\n",
            "Try using .loc[row_indexer,col_indexer] = value instead\n",
            "\n",
            "See the caveats in the documentation: https://pandas.pydata.org/pandas-docs/stable/user_guide/indexing.html#returning-a-view-versus-a-copy\n",
            "  \"\"\"Entry point for launching an IPython kernel.\n",
            "/usr/local/lib/python3.6/dist-packages/ipykernel_launcher.py:2: SettingWithCopyWarning: \n",
            "A value is trying to be set on a copy of a slice from a DataFrame.\n",
            "Try using .loc[row_indexer,col_indexer] = value instead\n",
            "\n",
            "See the caveats in the documentation: https://pandas.pydata.org/pandas-docs/stable/user_guide/indexing.html#returning-a-view-versus-a-copy\n",
            "  \n",
            "/usr/local/lib/python3.6/dist-packages/ipykernel_launcher.py:3: SettingWithCopyWarning: \n",
            "A value is trying to be set on a copy of a slice from a DataFrame.\n",
            "Try using .loc[row_indexer,col_indexer] = value instead\n",
            "\n",
            "See the caveats in the documentation: https://pandas.pydata.org/pandas-docs/stable/user_guide/indexing.html#returning-a-view-versus-a-copy\n",
            "  This is separate from the ipykernel package so we can avoid doing imports until\n"
          ],
          "name": "stderr"
        }
      ]
    },
    {
      "cell_type": "code",
      "metadata": {
        "id": "_TlG9nu0jcGY",
        "colab_type": "code",
        "colab": {
          "base_uri": "https://localhost:8080/",
          "height": 235
        },
        "outputId": "caab509c-4220-4ca3-b581-8aeb81fcc421"
      },
      "source": [
        "train_1 = train_1.set_index('ID')\n",
        "val_1 = val_1.set_index('ID')\n",
        "test_1 = test_1.set_index('ID')\n",
        "\n",
        "train_1.head()"
      ],
      "execution_count": null,
      "outputs": [
        {
          "output_type": "execute_result",
          "data": {
            "text/html": [
              "<div>\n",
              "<style scoped>\n",
              "    .dataframe tbody tr th:only-of-type {\n",
              "        vertical-align: middle;\n",
              "    }\n",
              "\n",
              "    .dataframe tbody tr th {\n",
              "        vertical-align: top;\n",
              "    }\n",
              "\n",
              "    .dataframe thead th {\n",
              "        text-align: right;\n",
              "    }\n",
              "</style>\n",
              "<table border=\"1\" class=\"dataframe\">\n",
              "  <thead>\n",
              "    <tr style=\"text-align: right;\">\n",
              "      <th></th>\n",
              "      <th>Unnamed: 0</th>\n",
              "      <th>Unnamed: 0.1</th>\n",
              "      <th>TEAM</th>\n",
              "      <th>CONF</th>\n",
              "      <th>G</th>\n",
              "      <th>W</th>\n",
              "      <th>ADJOE</th>\n",
              "      <th>ADJDE</th>\n",
              "      <th>BARTHAG</th>\n",
              "      <th>EFG_O</th>\n",
              "      <th>EFG_D</th>\n",
              "      <th>TOR</th>\n",
              "      <th>TORD</th>\n",
              "      <th>ORB</th>\n",
              "      <th>DRB</th>\n",
              "      <th>FTR</th>\n",
              "      <th>FTRD</th>\n",
              "      <th>2P_O</th>\n",
              "      <th>2P_D</th>\n",
              "      <th>3P_O</th>\n",
              "      <th>3P_D</th>\n",
              "      <th>ADJ_T</th>\n",
              "      <th>WAB</th>\n",
              "      <th>POSTSEASON</th>\n",
              "      <th>SEED</th>\n",
              "      <th>YEAR</th>\n",
              "    </tr>\n",
              "    <tr>\n",
              "      <th>ID</th>\n",
              "      <th></th>\n",
              "      <th></th>\n",
              "      <th></th>\n",
              "      <th></th>\n",
              "      <th></th>\n",
              "      <th></th>\n",
              "      <th></th>\n",
              "      <th></th>\n",
              "      <th></th>\n",
              "      <th></th>\n",
              "      <th></th>\n",
              "      <th></th>\n",
              "      <th></th>\n",
              "      <th></th>\n",
              "      <th></th>\n",
              "      <th></th>\n",
              "      <th></th>\n",
              "      <th></th>\n",
              "      <th></th>\n",
              "      <th></th>\n",
              "      <th></th>\n",
              "      <th></th>\n",
              "      <th></th>\n",
              "      <th></th>\n",
              "      <th></th>\n",
              "      <th></th>\n",
              "    </tr>\n",
              "  </thead>\n",
              "  <tbody>\n",
              "    <tr>\n",
              "      <th>NorthCarolina2016</th>\n",
              "      <td>0</td>\n",
              "      <td>0.0</td>\n",
              "      <td>NorthCarolina</td>\n",
              "      <td>ACC</td>\n",
              "      <td>40</td>\n",
              "      <td>33</td>\n",
              "      <td>123.3</td>\n",
              "      <td>94.9</td>\n",
              "      <td>0.9531</td>\n",
              "      <td>52.6</td>\n",
              "      <td>48.1</td>\n",
              "      <td>15.4</td>\n",
              "      <td>18.2</td>\n",
              "      <td>40.7</td>\n",
              "      <td>30.0</td>\n",
              "      <td>32.3</td>\n",
              "      <td>30.4</td>\n",
              "      <td>53.9</td>\n",
              "      <td>44.6</td>\n",
              "      <td>32.7</td>\n",
              "      <td>36.2</td>\n",
              "      <td>71.7</td>\n",
              "      <td>8.6</td>\n",
              "      <td>2ND</td>\n",
              "      <td>1.0</td>\n",
              "      <td>2016</td>\n",
              "    </tr>\n",
              "    <tr>\n",
              "      <th>Wisconsin2015</th>\n",
              "      <td>1</td>\n",
              "      <td>1.0</td>\n",
              "      <td>Wisconsin</td>\n",
              "      <td>B10</td>\n",
              "      <td>40</td>\n",
              "      <td>36</td>\n",
              "      <td>129.1</td>\n",
              "      <td>93.6</td>\n",
              "      <td>0.9758</td>\n",
              "      <td>54.8</td>\n",
              "      <td>47.7</td>\n",
              "      <td>12.4</td>\n",
              "      <td>15.8</td>\n",
              "      <td>32.1</td>\n",
              "      <td>23.7</td>\n",
              "      <td>36.2</td>\n",
              "      <td>22.4</td>\n",
              "      <td>54.8</td>\n",
              "      <td>44.7</td>\n",
              "      <td>36.5</td>\n",
              "      <td>37.5</td>\n",
              "      <td>59.3</td>\n",
              "      <td>11.3</td>\n",
              "      <td>2ND</td>\n",
              "      <td>1.0</td>\n",
              "      <td>2015</td>\n",
              "    </tr>\n",
              "    <tr>\n",
              "      <th>Gonzaga2017</th>\n",
              "      <td>4</td>\n",
              "      <td>4.0</td>\n",
              "      <td>Gonzaga</td>\n",
              "      <td>WCC</td>\n",
              "      <td>39</td>\n",
              "      <td>37</td>\n",
              "      <td>117.8</td>\n",
              "      <td>86.3</td>\n",
              "      <td>0.9728</td>\n",
              "      <td>56.6</td>\n",
              "      <td>41.1</td>\n",
              "      <td>16.2</td>\n",
              "      <td>17.1</td>\n",
              "      <td>30.0</td>\n",
              "      <td>26.2</td>\n",
              "      <td>39.0</td>\n",
              "      <td>26.9</td>\n",
              "      <td>56.3</td>\n",
              "      <td>40.0</td>\n",
              "      <td>38.2</td>\n",
              "      <td>29.0</td>\n",
              "      <td>71.5</td>\n",
              "      <td>7.7</td>\n",
              "      <td>2ND</td>\n",
              "      <td>1.0</td>\n",
              "      <td>2017</td>\n",
              "    </tr>\n",
              "    <tr>\n",
              "      <th>Duke2015</th>\n",
              "      <td>5</td>\n",
              "      <td>5.0</td>\n",
              "      <td>Duke</td>\n",
              "      <td>ACC</td>\n",
              "      <td>39</td>\n",
              "      <td>35</td>\n",
              "      <td>125.2</td>\n",
              "      <td>90.6</td>\n",
              "      <td>0.9764</td>\n",
              "      <td>56.6</td>\n",
              "      <td>46.5</td>\n",
              "      <td>16.3</td>\n",
              "      <td>18.6</td>\n",
              "      <td>35.8</td>\n",
              "      <td>30.2</td>\n",
              "      <td>39.8</td>\n",
              "      <td>23.9</td>\n",
              "      <td>55.9</td>\n",
              "      <td>46.3</td>\n",
              "      <td>38.7</td>\n",
              "      <td>31.4</td>\n",
              "      <td>66.4</td>\n",
              "      <td>10.7</td>\n",
              "      <td>Champions</td>\n",
              "      <td>1.0</td>\n",
              "      <td>2015</td>\n",
              "    </tr>\n",
              "    <tr>\n",
              "      <th>NorthCarolina2017</th>\n",
              "      <td>7</td>\n",
              "      <td>7.0</td>\n",
              "      <td>NorthCarolina</td>\n",
              "      <td>ACC</td>\n",
              "      <td>39</td>\n",
              "      <td>33</td>\n",
              "      <td>121.0</td>\n",
              "      <td>91.5</td>\n",
              "      <td>0.9615</td>\n",
              "      <td>51.7</td>\n",
              "      <td>48.1</td>\n",
              "      <td>16.2</td>\n",
              "      <td>18.6</td>\n",
              "      <td>41.3</td>\n",
              "      <td>25.0</td>\n",
              "      <td>34.3</td>\n",
              "      <td>31.6</td>\n",
              "      <td>51.0</td>\n",
              "      <td>46.3</td>\n",
              "      <td>35.5</td>\n",
              "      <td>33.9</td>\n",
              "      <td>72.8</td>\n",
              "      <td>8.4</td>\n",
              "      <td>Champions</td>\n",
              "      <td>1.0</td>\n",
              "      <td>2017</td>\n",
              "    </tr>\n",
              "  </tbody>\n",
              "</table>\n",
              "</div>"
            ],
            "text/plain": [
              "                   Unnamed: 0  Unnamed: 0.1  ... SEED  YEAR\n",
              "ID                                           ...           \n",
              "NorthCarolina2016           0           0.0  ...  1.0  2016\n",
              "Wisconsin2015               1           1.0  ...  1.0  2015\n",
              "Gonzaga2017                 4           4.0  ...  1.0  2017\n",
              "Duke2015                    5           5.0  ...  1.0  2015\n",
              "NorthCarolina2017           7           7.0  ...  1.0  2017\n",
              "\n",
              "[5 rows x 26 columns]"
            ]
          },
          "metadata": {
            "tags": []
          },
          "execution_count": 35
        }
      ]
    },
    {
      "cell_type": "code",
      "metadata": {
        "id": "YerJCPMwjjKK",
        "colab_type": "code",
        "colab": {}
      },
      "source": [
        "X_train_1 = train_1.drop([target, 'TEAM', 'YEAR', 'SEED', 'Unnamed: 0', 'Unnamed: 0.1'], axis=1)\n",
        "y_train_1 = train_1[target]\n",
        "\n",
        "X_val_1 = val_1.drop([target, 'TEAM', 'YEAR', 'SEED', 'Unnamed: 0', 'Unnamed: 0.1'], axis=1)\n",
        "y_val_1 = val_1[target]\n",
        "\n",
        "X_test_1 = test_1.drop([target, 'TEAM', 'YEAR', 'SEED', 'Unnamed: 0', 'Unnamed: 0.1'], axis=1)\n",
        "y_test_1 = test_1[target]"
      ],
      "execution_count": null,
      "outputs": []
    },
    {
      "cell_type": "markdown",
      "metadata": {
        "id": "zeVrASPLjy25",
        "colab_type": "text"
      },
      "source": [
        "#New Baseline"
      ]
    },
    {
      "cell_type": "code",
      "metadata": {
        "id": "hrOQr9mEj0kt",
        "colab_type": "code",
        "colab": {
          "base_uri": "https://localhost:8080/",
          "height": 34
        },
        "outputId": "f148c7a0-5778-4b84-ab16-73ed95ce65de"
      },
      "source": [
        "baseline_1 = y_train_1.value_counts(normalize=True).max()\n",
        "print('Baseline Accuracy:', baseline_1)"
      ],
      "execution_count": null,
      "outputs": [
        {
          "output_type": "stream",
          "text": [
            "Baseline Accuracy: 0.4731977818853974\n"
          ],
          "name": "stdout"
        }
      ]
    },
    {
      "cell_type": "markdown",
      "metadata": {
        "id": "KcAXZT9Xj7Lu",
        "colab_type": "text"
      },
      "source": [
        "#Build model_7"
      ]
    },
    {
      "cell_type": "code",
      "metadata": {
        "id": "O_4LDSHHj8-e",
        "colab_type": "code",
        "colab": {
          "base_uri": "https://localhost:8080/",
          "height": 68
        },
        "outputId": "acdd9c18-12ac-4f8e-b29a-98d64bd92b3c"
      },
      "source": [
        "model_7 = make_pipeline(\n",
        "    OrdinalEncoder(),\n",
        "    SimpleImputer(),\n",
        "    RandomForestClassifier(random_state=42, n_estimators=500, max_depth=5, max_features=None)\n",
        ")\n",
        "\n",
        "model_7.fit(X_train_1, y_train_1)\n",
        "print('Training accuracy:', model_7.score(X_train_1, y_train_1))\n",
        "print('Validation accuracy:', model_7.score(X_val_1, y_val_1))\n",
        "print('Test Accuracy', accuracy_score(y_test_1, model_7.predict(X_test_1)))"
      ],
      "execution_count": null,
      "outputs": [
        {
          "output_type": "stream",
          "text": [
            "Training accuracy: 0.7966728280961183\n",
            "Validation accuracy: 0.6617647058823529\n",
            "Test Accuracy 0.5882352941176471\n"
          ],
          "name": "stdout"
        }
      ]
    },
    {
      "cell_type": "markdown",
      "metadata": {
        "id": "YIo_4JOikSFY",
        "colab_type": "text"
      },
      "source": [
        "#Build model_8"
      ]
    },
    {
      "cell_type": "code",
      "metadata": {
        "id": "9DnhMpQakUpO",
        "colab_type": "code",
        "colab": {
          "base_uri": "https://localhost:8080/",
          "height": 68
        },
        "outputId": "4f30b81a-6f67-42e6-e9bd-ce215e438046"
      },
      "source": [
        "model_8 = make_pipeline(\n",
        "    OrdinalEncoder(),\n",
        "    SimpleImputer(),\n",
        "    RandomForestClassifier(random_state=42, n_estimators=80, max_depth=4, max_features=None)\n",
        ")\n",
        "\n",
        "model_8.fit(X_train_1, y_train_1)\n",
        "print('Training accuracy:', model_8.score(X_train_1, y_train_1))\n",
        "print('Validation accuracy:', model_8.score(X_val_1, y_val_1))\n",
        "print('Test Accuracy', accuracy_score(y_test_1, model_8.predict(X_test_1)))"
      ],
      "execution_count": null,
      "outputs": [
        {
          "output_type": "stream",
          "text": [
            "Training accuracy: 0.7060998151571165\n",
            "Validation accuracy: 0.6617647058823529\n",
            "Test Accuracy 0.5441176470588235\n"
          ],
          "name": "stdout"
        }
      ]
    },
    {
      "cell_type": "markdown",
      "metadata": {
        "id": "EWIQgg4ykrfw",
        "colab_type": "text"
      },
      "source": [
        "#Tune model"
      ]
    },
    {
      "cell_type": "code",
      "metadata": {
        "id": "3fw_mC9Sks4o",
        "colab_type": "code",
        "colab": {}
      },
      "source": [
        "model_9 = make_pipeline(\n",
        "    OrdinalEncoder(),\n",
        "    RandomForestClassifier(random_state=42, n_estimators=80, max_depth=4, max_features=None)\n",
        ")\n",
        "\n",
        "params = {'randomforestclassifier__n_estimators': range(100, 300, 50),\n",
        "          'randomforestclassifier__max_depth': range(10, 20, 2),\n",
        "          'randomforestclassifier__max_features': ['sqrt', 'log2', None]\n",
        "}\n",
        "\n",
        "gs = GridSearchCV(model_9, param_grid=params, n_jobs=-1, verbose=1, cv=5, scoring='accuracy')"
      ],
      "execution_count": null,
      "outputs": []
    },
    {
      "cell_type": "code",
      "metadata": {
        "id": "blwZxMPHlCWK",
        "colab_type": "code",
        "colab": {
          "base_uri": "https://localhost:8080/",
          "height": 595
        },
        "outputId": "2d2544a3-ec2e-406a-956d-a3d226041943"
      },
      "source": [
        "gs.fit(X_train_1, y_train_1)"
      ],
      "execution_count": null,
      "outputs": [
        {
          "output_type": "stream",
          "text": [
            "Fitting 5 folds for each of 60 candidates, totalling 300 fits\n"
          ],
          "name": "stdout"
        },
        {
          "output_type": "stream",
          "text": [
            "[Parallel(n_jobs=-1)]: Using backend LokyBackend with 2 concurrent workers.\n",
            "[Parallel(n_jobs=-1)]: Done  46 tasks      | elapsed:   18.1s\n",
            "[Parallel(n_jobs=-1)]: Done 196 tasks      | elapsed:  1.5min\n",
            "[Parallel(n_jobs=-1)]: Done 300 out of 300 | elapsed:  2.3min finished\n"
          ],
          "name": "stderr"
        },
        {
          "output_type": "execute_result",
          "data": {
            "text/plain": [
              "GridSearchCV(cv=5, error_score=nan,\n",
              "             estimator=Pipeline(memory=None,\n",
              "                                steps=[('ordinalencoder',\n",
              "                                        OrdinalEncoder(cols=None,\n",
              "                                                       drop_invariant=False,\n",
              "                                                       handle_missing='value',\n",
              "                                                       handle_unknown='value',\n",
              "                                                       mapping=None,\n",
              "                                                       return_df=True,\n",
              "                                                       verbose=0)),\n",
              "                                       ('randomforestclassifier',\n",
              "                                        RandomForestClassifier(bootstrap=True,\n",
              "                                                               ccp_alpha=0.0,\n",
              "                                                               class_weight=None,\n",
              "                                                               criterion='gini',\n",
              "                                                               max_depth=4,\n",
              "                                                               max...\n",
              "                                                               random_state=42,\n",
              "                                                               verbose=0,\n",
              "                                                               warm_start=False))],\n",
              "                                verbose=False),\n",
              "             iid='deprecated', n_jobs=-1,\n",
              "             param_grid={'randomforestclassifier__max_depth': range(10, 20, 2),\n",
              "                         'randomforestclassifier__max_features': ['sqrt',\n",
              "                                                                  'log2',\n",
              "                                                                  None],\n",
              "                         'randomforestclassifier__n_estimators': range(100, 300, 50)},\n",
              "             pre_dispatch='2*n_jobs', refit=True, return_train_score=False,\n",
              "             scoring='accuracy', verbose=1)"
            ]
          },
          "metadata": {
            "tags": []
          },
          "execution_count": 43
        }
      ]
    },
    {
      "cell_type": "code",
      "metadata": {
        "id": "_PBXs7AhlqIj",
        "colab_type": "code",
        "colab": {
          "base_uri": "https://localhost:8080/",
          "height": 68
        },
        "outputId": "840d5034-b6d8-448a-feec-c1d336c694c9"
      },
      "source": [
        "gs.best_params_"
      ],
      "execution_count": null,
      "outputs": [
        {
          "output_type": "execute_result",
          "data": {
            "text/plain": [
              "{'randomforestclassifier__max_depth': 10,\n",
              " 'randomforestclassifier__max_features': 'sqrt',\n",
              " 'randomforestclassifier__n_estimators': 100}"
            ]
          },
          "metadata": {
            "tags": []
          },
          "execution_count": 44
        }
      ]
    },
    {
      "cell_type": "markdown",
      "metadata": {
        "id": "ucTEZ_x3mAFd",
        "colab_type": "text"
      },
      "source": [
        "#Build model_9"
      ]
    },
    {
      "cell_type": "code",
      "metadata": {
        "id": "iU5jDPxZltA5",
        "colab_type": "code",
        "colab": {
          "base_uri": "https://localhost:8080/",
          "height": 68
        },
        "outputId": "5a2c41af-9db7-4cb1-d0c9-0edfeb7b435f"
      },
      "source": [
        "model_9 = make_pipeline(\n",
        "    OrdinalEncoder(),\n",
        "    RandomForestClassifier(random_state=42, n_estimators=100, max_depth=4, max_features='sqrt')\n",
        ")\n",
        "model_9.fit(X_train_1, y_train_1)\n",
        "print('Training accuracy:', model_9.score(X_train_1, y_train_1))\n",
        "print('Validation accuracy:', model_9.score(X_val_1, y_val_1))\n",
        "print('Test Accuracy', accuracy_score(y_test_1, model_9.predict(X_test_1)))"
      ],
      "execution_count": null,
      "outputs": [
        {
          "output_type": "stream",
          "text": [
            "Training accuracy: 0.6635859519408502\n",
            "Validation accuracy: 0.6029411764705882\n",
            "Test Accuracy 0.5294117647058824\n"
          ],
          "name": "stdout"
        }
      ]
    },
    {
      "cell_type": "markdown",
      "metadata": {
        "id": "eJriFMKSmELv",
        "colab_type": "text"
      },
      "source": [
        "#More tuning"
      ]
    },
    {
      "cell_type": "code",
      "metadata": {
        "id": "mVVhd299mH55",
        "colab_type": "code",
        "colab": {}
      },
      "source": [
        "model_10 = make_pipeline(\n",
        "    OrdinalEncoder(),\n",
        "    RandomForestClassifier()\n",
        ")\n",
        "\n",
        "params = {'randomforestclassifier__n_estimators': range(0, 100, 10),\n",
        "          'randomforestclassifier__max_depth': range(0, 11),\n",
        "          'randomforestclassifier__max_features': ['sqrt', 'log2', None]\n",
        "}\n",
        "\n",
        "gs = GridSearchCV(model_10, param_grid=params, n_jobs=-1, verbose=1, cv=5, scoring='accuracy')"
      ],
      "execution_count": null,
      "outputs": []
    },
    {
      "cell_type": "code",
      "metadata": {
        "id": "-RTXQZi9mY0Y",
        "colab_type": "code",
        "colab": {
          "base_uri": "https://localhost:8080/",
          "height": 170
        },
        "outputId": "f2274210-c064-4fea-a026-cc5ed448c40c"
      },
      "source": [
        "gs.fit(X_train_1, y_train_1)\n",
        "gs.best_params_"
      ],
      "execution_count": null,
      "outputs": [
        {
          "output_type": "stream",
          "text": [
            "Fitting 5 folds for each of 330 candidates, totalling 1650 fits\n"
          ],
          "name": "stdout"
        },
        {
          "output_type": "stream",
          "text": [
            "[Parallel(n_jobs=-1)]: Using backend LokyBackend with 2 concurrent workers.\n",
            "[Parallel(n_jobs=-1)]: Done 164 tasks      | elapsed:    5.0s\n",
            "[Parallel(n_jobs=-1)]: Done 650 tasks      | elapsed:   46.7s\n",
            "[Parallel(n_jobs=-1)]: Done 1138 tasks      | elapsed:  1.6min\n",
            "[Parallel(n_jobs=-1)]: Done 1650 out of 1650 | elapsed:  2.8min finished\n"
          ],
          "name": "stderr"
        },
        {
          "output_type": "execute_result",
          "data": {
            "text/plain": [
              "{'randomforestclassifier__max_depth': 3,\n",
              " 'randomforestclassifier__max_features': None,\n",
              " 'randomforestclassifier__n_estimators': 50}"
            ]
          },
          "metadata": {
            "tags": []
          },
          "execution_count": 48
        }
      ]
    },
    {
      "cell_type": "markdown",
      "metadata": {
        "id": "th6zDD82nYFl",
        "colab_type": "text"
      },
      "source": [
        "#Build model_10"
      ]
    },
    {
      "cell_type": "code",
      "metadata": {
        "id": "n2kO5L7fnHfN",
        "colab_type": "code",
        "colab": {
          "base_uri": "https://localhost:8080/",
          "height": 68
        },
        "outputId": "52ff0e1f-1a5c-4725-c680-fa1307c2653e"
      },
      "source": [
        "model_10 = make_pipeline(\n",
        "    OrdinalEncoder(),\n",
        "    RandomForestClassifier(n_estimators=50, max_features=None, max_depth=3, random_state=42)\n",
        ")\n",
        "model_10.fit(X_train_1, y_train_1)\n",
        "print('Training accuracy:', model_10.score(X_train_1, y_train_1))\n",
        "print('Validation accuracy:', model_10.score(X_val_1, y_val_1))\n",
        "print('Test Accuracy', accuracy_score(y_test_1, model_10.predict(X_test_1)))"
      ],
      "execution_count": null,
      "outputs": [
        {
          "output_type": "stream",
          "text": [
            "Training accuracy: 0.6543438077634011\n",
            "Validation accuracy: 0.6470588235294118\n",
            "Test Accuracy 0.5735294117647058\n"
          ],
          "name": "stdout"
        }
      ]
    },
    {
      "cell_type": "markdown",
      "metadata": {
        "id": "yhRyf1UondUo",
        "colab_type": "text"
      },
      "source": [
        "#Further tuning"
      ]
    },
    {
      "cell_type": "code",
      "metadata": {
        "id": "54xw7knwnfqP",
        "colab_type": "code",
        "colab": {}
      },
      "source": [
        "model_11 = make_pipeline(\n",
        "    OrdinalEncoder(),\n",
        "    RandomForestClassifier()\n",
        ")\n",
        "\n",
        "params = {'randomforestclassifier__n_estimators': range(25, 75, 5),\n",
        "          'randomforestclassifier__max_depth': range(0, 11),\n",
        "          'randomforestclassifier__max_features': ['sqrt', 'log2', None]\n",
        "}\n",
        "gs = GridSearchCV(model_11, param_grid=params, n_jobs=-1, verbose=1, cv=5, scoring='accuracy')"
      ],
      "execution_count": null,
      "outputs": []
    },
    {
      "cell_type": "code",
      "metadata": {
        "id": "0pNn6ml-nv4J",
        "colab_type": "code",
        "colab": {
          "base_uri": "https://localhost:8080/",
          "height": 187
        },
        "outputId": "d88cc115-d9f8-4012-ff19-db676678e07f"
      },
      "source": [
        "gs.fit(X_train_1, y_train_1)\n",
        "gs.best_params_"
      ],
      "execution_count": null,
      "outputs": [
        {
          "output_type": "stream",
          "text": [
            "Fitting 5 folds for each of 330 candidates, totalling 1650 fits\n"
          ],
          "name": "stdout"
        },
        {
          "output_type": "stream",
          "text": [
            "[Parallel(n_jobs=-1)]: Using backend LokyBackend with 2 concurrent workers.\n",
            "[Parallel(n_jobs=-1)]: Done 164 tasks      | elapsed:    5.7s\n",
            "[Parallel(n_jobs=-1)]: Done 656 tasks      | elapsed:   49.6s\n",
            "[Parallel(n_jobs=-1)]: Done 906 tasks      | elapsed:  1.3min\n",
            "[Parallel(n_jobs=-1)]: Done 1256 tasks      | elapsed:  2.0min\n",
            "[Parallel(n_jobs=-1)]: Done 1650 out of 1650 | elapsed:  2.9min finished\n"
          ],
          "name": "stderr"
        },
        {
          "output_type": "execute_result",
          "data": {
            "text/plain": [
              "{'randomforestclassifier__max_depth': 3,\n",
              " 'randomforestclassifier__max_features': None,\n",
              " 'randomforestclassifier__n_estimators': 40}"
            ]
          },
          "metadata": {
            "tags": []
          },
          "execution_count": 52
        }
      ]
    },
    {
      "cell_type": "markdown",
      "metadata": {
        "id": "EewkFXI4ofcT",
        "colab_type": "text"
      },
      "source": [
        "#Build model_11"
      ]
    },
    {
      "cell_type": "code",
      "metadata": {
        "id": "8L6nVCvmohJq",
        "colab_type": "code",
        "colab": {
          "base_uri": "https://localhost:8080/",
          "height": 68
        },
        "outputId": "46230b7b-40e4-42f3-a11c-f2c0d2d04a35"
      },
      "source": [
        "model_11 = make_pipeline(\n",
        "    OrdinalEncoder(),\n",
        "    RandomForestClassifier(n_estimators=40, max_features=None, max_depth=3, random_state=42)\n",
        ")\n",
        "model_11.fit(X_train_1, y_train_1)\n",
        "print('Training accuracy:', model_11.score(X_train_1, y_train_1))\n",
        "print('Validation accuracy:', model_11.score(X_val_1, y_val_1))\n",
        "print('Test Accuracy', accuracy_score(y_test_1, model_11.predict(X_test_1)))"
      ],
      "execution_count": null,
      "outputs": [
        {
          "output_type": "stream",
          "text": [
            "Training accuracy: 0.6487985212569316\n",
            "Validation accuracy: 0.6470588235294118\n",
            "Test Accuracy 0.5588235294117647\n"
          ],
          "name": "stdout"
        }
      ]
    },
    {
      "cell_type": "markdown",
      "metadata": {
        "id": "NnRU6OegotJr",
        "colab_type": "text"
      },
      "source": [
        "#Build model_12\n"
      ]
    },
    {
      "cell_type": "code",
      "metadata": {
        "id": "KehV9Tprov-8",
        "colab_type": "code",
        "colab": {
          "base_uri": "https://localhost:8080/",
          "height": 68
        },
        "outputId": "198fc92a-62f1-4740-dccd-f7f8f842713a"
      },
      "source": [
        "model_12 = make_pipeline(\n",
        "    OrdinalEncoder(),\n",
        "    RandomForestClassifier(n_estimators=300, max_features='sqrt')\n",
        ")\n",
        "model_12.fit(X_train_1, y_train_1)\n",
        "print('Training accuracy:', model_12.score(X_train_1, y_train_1))\n",
        "print('Validation accuracy:', model_12.score(X_val_1, y_val_1))\n",
        "print('Test Accuracy', accuracy_score(y_test_1, model_12.predict(X_test_1)))"
      ],
      "execution_count": null,
      "outputs": [
        {
          "output_type": "stream",
          "text": [
            "Training accuracy: 1.0\n",
            "Validation accuracy: 0.5588235294117647\n",
            "Test Accuracy 0.5441176470588235\n"
          ],
          "name": "stdout"
        }
      ]
    },
    {
      "cell_type": "markdown",
      "metadata": {
        "id": "X8DpNTDco7oF",
        "colab_type": "text"
      },
      "source": [
        "#Test accuracies"
      ]
    },
    {
      "cell_type": "code",
      "metadata": {
        "id": "P-wARzLjo9s7",
        "colab_type": "code",
        "colab": {
          "base_uri": "https://localhost:8080/",
          "height": 119
        },
        "outputId": "d3fb0cd3-51e7-45bc-ee0c-964880cee47d"
      },
      "source": [
        "print('Model_7 Test Accuracy', accuracy_score(y_test_1, model_7.predict(X_test_1)))\n",
        "print('Model_8 Test Accuracy', accuracy_score(y_test_1, model_8.predict(X_test_1)))\n",
        "print('Model_9 Test Accuracy', accuracy_score(y_test_1, model_9.predict(X_test_1)))\n",
        "print('Model_10 Test Accuracy', accuracy_score(y_test_1, model_10.predict(X_test_1)))\n",
        "print('Model_11 Test Accuracy', accuracy_score(y_test_1, model_11.predict(X_test_1)))\n",
        "print('Model_12 Test Accuracy', accuracy_score(y_test_1, model_12.predict(X_test_1)))"
      ],
      "execution_count": null,
      "outputs": [
        {
          "output_type": "stream",
          "text": [
            "Model_7 Test Accuracy 0.5882352941176471\n",
            "Model_8 Test Accuracy 0.5441176470588235\n",
            "Model_9 Test Accuracy 0.5294117647058824\n",
            "Model_10 Test Accuracy 0.5735294117647058\n",
            "Model_11 Test Accuracy 0.5588235294117647\n",
            "Model_12 Test Accuracy 0.5441176470588235\n"
          ],
          "name": "stdout"
        }
      ]
    },
    {
      "cell_type": "markdown",
      "metadata": {
        "id": "PFlutb8iprib",
        "colab_type": "text"
      },
      "source": [
        "#Look at new predictions"
      ]
    },
    {
      "cell_type": "code",
      "metadata": {
        "id": "0NavhcXFptbz",
        "colab_type": "code",
        "colab": {
          "base_uri": "https://localhost:8080/",
          "height": 235
        },
        "outputId": "4620a577-bb2e-4b7d-8f7b-e26bc30945ba"
      },
      "source": [
        "predictions_2019_v2 = pd.DataFrame(model_7.predict(X_test_1), index=X_test_1.index, columns=['prediction'])\n",
        "predictions_2019_v2 = pd.concat([predictions_2019_v2, y_test_1], axis=1)\n",
        "predictions_2019_v2.head()"
      ],
      "execution_count": null,
      "outputs": [
        {
          "output_type": "execute_result",
          "data": {
            "text/html": [
              "<div>\n",
              "<style scoped>\n",
              "    .dataframe tbody tr th:only-of-type {\n",
              "        vertical-align: middle;\n",
              "    }\n",
              "\n",
              "    .dataframe tbody tr th {\n",
              "        vertical-align: top;\n",
              "    }\n",
              "\n",
              "    .dataframe thead th {\n",
              "        text-align: right;\n",
              "    }\n",
              "</style>\n",
              "<table border=\"1\" class=\"dataframe\">\n",
              "  <thead>\n",
              "    <tr style=\"text-align: right;\">\n",
              "      <th></th>\n",
              "      <th>prediction</th>\n",
              "      <th>POSTSEASON</th>\n",
              "    </tr>\n",
              "    <tr>\n",
              "      <th>ID</th>\n",
              "      <th></th>\n",
              "      <th></th>\n",
              "    </tr>\n",
              "  </thead>\n",
              "  <tbody>\n",
              "    <tr>\n",
              "      <th>TexasTech2019</th>\n",
              "      <td>E8</td>\n",
              "      <td>2ND</td>\n",
              "    </tr>\n",
              "    <tr>\n",
              "      <th>Virginia2019</th>\n",
              "      <td>E8</td>\n",
              "      <td>Champions</td>\n",
              "    </tr>\n",
              "    <tr>\n",
              "      <th>Duke2019</th>\n",
              "      <td>E8</td>\n",
              "      <td>E8</td>\n",
              "    </tr>\n",
              "    <tr>\n",
              "      <th>Purdue2019</th>\n",
              "      <td>R32</td>\n",
              "      <td>E8</td>\n",
              "    </tr>\n",
              "    <tr>\n",
              "      <th>Kentucky2019</th>\n",
              "      <td>E8</td>\n",
              "      <td>E8</td>\n",
              "    </tr>\n",
              "  </tbody>\n",
              "</table>\n",
              "</div>"
            ],
            "text/plain": [
              "              prediction POSTSEASON\n",
              "ID                                 \n",
              "TexasTech2019         E8        2ND\n",
              "Virginia2019          E8  Champions\n",
              "Duke2019              E8         E8\n",
              "Purdue2019           R32         E8\n",
              "Kentucky2019          E8         E8"
            ]
          },
          "metadata": {
            "tags": []
          },
          "execution_count": 59
        }
      ]
    },
    {
      "cell_type": "code",
      "metadata": {
        "id": "iwCrx6KnqECJ",
        "colab_type": "code",
        "colab": {}
      },
      "source": [
        "predictions_2019_v2.to_csv('predictions_v2.csv')"
      ],
      "execution_count": null,
      "outputs": []
    },
    {
      "cell_type": "code",
      "metadata": {
        "id": "eLDwvthJqbU1",
        "colab_type": "code",
        "colab": {
          "base_uri": "https://localhost:8080/",
          "height": 136
        },
        "outputId": "b5612b98-3325-450c-aeeb-1b371b4c0345"
      },
      "source": [
        "predictions_2019_v2['prediction'].value_counts()"
      ],
      "execution_count": null,
      "outputs": [
        {
          "output_type": "execute_result",
          "data": {
            "text/plain": [
              "R64    41\n",
              "R32    16\n",
              "E8      8\n",
              "2ND     1\n",
              "S16     1\n",
              "F4      1\n",
              "Name: prediction, dtype: int64"
            ]
          },
          "metadata": {
            "tags": []
          },
          "execution_count": 61
        }
      ]
    },
    {
      "cell_type": "markdown",
      "metadata": {
        "id": "PKEM_UpBrC9S",
        "colab_type": "text"
      },
      "source": [
        "#Build model_13"
      ]
    },
    {
      "cell_type": "code",
      "metadata": {
        "id": "hVfGXTqVrE6E",
        "colab_type": "code",
        "colab": {
          "base_uri": "https://localhost:8080/",
          "height": 68
        },
        "outputId": "0bb10233-0454-4884-fe9e-9d91549ade06"
      },
      "source": [
        "model_13 = make_pipeline(\n",
        "    OrdinalEncoder(),\n",
        "    RandomForestClassifier(random_state=42, n_estimators=500, max_depth=5, max_features=None, criterion='entropy')\n",
        ")\n",
        "\n",
        "model_13.fit(X_train_1, y_train_1)\n",
        "print('Training accuracy:', model_13.score(X_train_1, y_train_1))\n",
        "print('Validation accuracy:', model_13.score(X_val_1, y_val_1))\n",
        "print('Test Accuracy', accuracy_score(y_test_1, model_13.predict(X_test_1)))"
      ],
      "execution_count": null,
      "outputs": [
        {
          "output_type": "stream",
          "text": [
            "Training accuracy: 0.7929759704251387\n",
            "Validation accuracy: 0.5882352941176471\n",
            "Test Accuracy 0.6029411764705882\n"
          ],
          "name": "stdout"
        }
      ]
    },
    {
      "cell_type": "code",
      "metadata": {
        "id": "vmKiIf9IrZs0",
        "colab_type": "code",
        "colab": {
          "base_uri": "https://localhost:8080/",
          "height": 235
        },
        "outputId": "1247b466-7bf3-41fb-a824-a7a619259ca0"
      },
      "source": [
        "predictions_2019_v3 = pd.DataFrame(model_13.predict(X_test_1), index=X_test_1.index, columns=['prediction'])\n",
        "predictions_2019_v3 = pd.concat([predictions_2019_v3, y_test_1], axis=1)\n",
        "predictions_2019_v3.head()"
      ],
      "execution_count": null,
      "outputs": [
        {
          "output_type": "execute_result",
          "data": {
            "text/html": [
              "<div>\n",
              "<style scoped>\n",
              "    .dataframe tbody tr th:only-of-type {\n",
              "        vertical-align: middle;\n",
              "    }\n",
              "\n",
              "    .dataframe tbody tr th {\n",
              "        vertical-align: top;\n",
              "    }\n",
              "\n",
              "    .dataframe thead th {\n",
              "        text-align: right;\n",
              "    }\n",
              "</style>\n",
              "<table border=\"1\" class=\"dataframe\">\n",
              "  <thead>\n",
              "    <tr style=\"text-align: right;\">\n",
              "      <th></th>\n",
              "      <th>prediction</th>\n",
              "      <th>POSTSEASON</th>\n",
              "    </tr>\n",
              "    <tr>\n",
              "      <th>ID</th>\n",
              "      <th></th>\n",
              "      <th></th>\n",
              "    </tr>\n",
              "  </thead>\n",
              "  <tbody>\n",
              "    <tr>\n",
              "      <th>TexasTech2019</th>\n",
              "      <td>E8</td>\n",
              "      <td>2ND</td>\n",
              "    </tr>\n",
              "    <tr>\n",
              "      <th>Virginia2019</th>\n",
              "      <td>E8</td>\n",
              "      <td>Champions</td>\n",
              "    </tr>\n",
              "    <tr>\n",
              "      <th>Duke2019</th>\n",
              "      <td>E8</td>\n",
              "      <td>E8</td>\n",
              "    </tr>\n",
              "    <tr>\n",
              "      <th>Purdue2019</th>\n",
              "      <td>R32</td>\n",
              "      <td>E8</td>\n",
              "    </tr>\n",
              "    <tr>\n",
              "      <th>Kentucky2019</th>\n",
              "      <td>E8</td>\n",
              "      <td>E8</td>\n",
              "    </tr>\n",
              "  </tbody>\n",
              "</table>\n",
              "</div>"
            ],
            "text/plain": [
              "              prediction POSTSEASON\n",
              "ID                                 \n",
              "TexasTech2019         E8        2ND\n",
              "Virginia2019          E8  Champions\n",
              "Duke2019              E8         E8\n",
              "Purdue2019           R32         E8\n",
              "Kentucky2019          E8         E8"
            ]
          },
          "metadata": {
            "tags": []
          },
          "execution_count": 69
        }
      ]
    },
    {
      "cell_type": "code",
      "metadata": {
        "id": "y_OKmyfkrhUx",
        "colab_type": "code",
        "colab": {
          "base_uri": "https://localhost:8080/",
          "height": 136
        },
        "outputId": "763844a4-7673-44d0-ec5a-6aba8abfb5ab"
      },
      "source": [
        "predictions_2019_v3['prediction'].value_counts()"
      ],
      "execution_count": null,
      "outputs": [
        {
          "output_type": "execute_result",
          "data": {
            "text/plain": [
              "R64    41\n",
              "R32    16\n",
              "E8      7\n",
              "S16     2\n",
              "2ND     1\n",
              "F4      1\n",
              "Name: prediction, dtype: int64"
            ]
          },
          "metadata": {
            "tags": []
          },
          "execution_count": 70
        }
      ]
    },
    {
      "cell_type": "markdown",
      "metadata": {
        "id": "Q47m5FHcyIs1",
        "colab_type": "text"
      },
      "source": [
        "#Build model_14"
      ]
    },
    {
      "cell_type": "code",
      "metadata": {
        "id": "THfw0avYsC7l",
        "colab_type": "code",
        "colab": {
          "base_uri": "https://localhost:8080/",
          "height": 68
        },
        "outputId": "f9f55f57-f68e-4faf-a2ec-4b4dbc35dc31"
      },
      "source": [
        "model_14 = make_pipeline(\n",
        "    OrdinalEncoder(),\n",
        "    RandomForestClassifier(random_state=42, criterion='entropy')\n",
        ")\n",
        "\n",
        "model_14.fit(X_train_1, y_train_1)\n",
        "print('Training accuracy:', model_14.score(X_train_1, y_train_1))\n",
        "print('Validation accuracy:', model_14.score(X_val_1, y_val_1))\n",
        "print('Test Accuracy', accuracy_score(y_test_1, model_14.predict(X_test_1)))"
      ],
      "execution_count": null,
      "outputs": [
        {
          "output_type": "stream",
          "text": [
            "Training accuracy: 1.0\n",
            "Validation accuracy: 0.5441176470588235\n",
            "Test Accuracy 0.5588235294117647\n"
          ],
          "name": "stdout"
        }
      ]
    },
    {
      "cell_type": "markdown",
      "metadata": {
        "id": "nlUQOSQ2yPxT",
        "colab_type": "text"
      },
      "source": [
        "#Tune model"
      ]
    },
    {
      "cell_type": "code",
      "metadata": {
        "id": "dNDmfqaesWV_",
        "colab_type": "code",
        "colab": {}
      },
      "source": [
        "model_14 = make_pipeline(\n",
        "    OrdinalEncoder(),\n",
        "    RandomForestClassifier(random_state=42, criterion='entropy')\n",
        ")\n",
        "params = {'randomforestclassifier__n_estimators': range(0, 300, 10),\n",
        "          'randomforestclassifier__max_depth': range(0, 20, 2),\n",
        "          'randomforestclassifier__max_features': ['sqrt', 'log2', None]\n",
        "}\n",
        "\n",
        "gs = GridSearchCV(model_14, param_grid=params, n_jobs=-1, verbose=1, cv=5, scoring='accuracy')"
      ],
      "execution_count": null,
      "outputs": []
    },
    {
      "cell_type": "code",
      "metadata": {
        "id": "ns-VRlU6smDL",
        "colab_type": "code",
        "colab": {
          "base_uri": "https://localhost:8080/",
          "height": 187
        },
        "outputId": "123455aa-244d-40be-9484-7cf3dba44d1a"
      },
      "source": [
        "gs.fit(X_train_1, y_train_1)\n",
        "gs.best_params_"
      ],
      "execution_count": null,
      "outputs": [
        {
          "output_type": "stream",
          "text": [
            "[Parallel(n_jobs=-1)]: Done 1172 tasks      | elapsed:  4.3min\n",
            "[Parallel(n_jobs=-1)]: Done 1622 tasks      | elapsed:  7.9min\n",
            "[Parallel(n_jobs=-1)]: Done 2172 tasks      | elapsed: 13.1min\n",
            "[Parallel(n_jobs=-1)]: Done 2822 tasks      | elapsed: 20.5min\n",
            "[Parallel(n_jobs=-1)]: Done 3572 tasks      | elapsed: 28.4min\n",
            "[Parallel(n_jobs=-1)]: Done 4422 tasks      | elapsed: 36.7min\n",
            "[Parallel(n_jobs=-1)]: Done 4500 out of 4500 | elapsed: 38.8min finished\n"
          ],
          "name": "stderr"
        },
        {
          "output_type": "execute_result",
          "data": {
            "text/plain": [
              "{'randomforestclassifier__max_depth': 4,\n",
              " 'randomforestclassifier__max_features': None,\n",
              " 'randomforestclassifier__n_estimators': 100}"
            ]
          },
          "metadata": {
            "tags": []
          },
          "execution_count": 72
        }
      ]
    },
    {
      "cell_type": "markdown",
      "metadata": {
        "id": "wrms4UgWyU0v",
        "colab_type": "text"
      },
      "source": [
        "#Build model_15"
      ]
    },
    {
      "cell_type": "code",
      "metadata": {
        "id": "rA0yUZOV4FCF",
        "colab_type": "code",
        "colab": {
          "base_uri": "https://localhost:8080/",
          "height": 68
        },
        "outputId": "4dd873dd-202b-43d8-f377-415a7247cd53"
      },
      "source": [
        "model_15 = make_pipeline(\n",
        "    OrdinalEncoder(),\n",
        "    RandomForestClassifier(random_state=42, criterion='entropy', max_features=None, max_depth=4)\n",
        ")\n",
        "model_15.fit(X_train_1, y_train_1)\n",
        "print('Training accuracy:', model_15.score(X_train_1, y_train_1))\n",
        "print('Validation accuracy:', model_15.score(X_val_1, y_val_1))\n",
        "print('Test Accuracy', accuracy_score(y_test_1, model_15.predict(X_test_1)))"
      ],
      "execution_count": null,
      "outputs": [
        {
          "output_type": "stream",
          "text": [
            "Training accuracy: 0.6876155268022182\n",
            "Validation accuracy: 0.6176470588235294\n",
            "Test Accuracy 0.5735294117647058\n"
          ],
          "name": "stdout"
        }
      ]
    }
  ]
}